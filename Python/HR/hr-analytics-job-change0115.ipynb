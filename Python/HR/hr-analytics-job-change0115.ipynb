{
 "cells": [
  {
   "cell_type": "code",
   "execution_count": 1,
   "id": "6889c94f",
   "metadata": {
    "execution": {
     "iopub.execute_input": "2021-12-08T14:43:43.319965Z",
     "iopub.status.busy": "2021-12-08T14:43:43.319012Z",
     "iopub.status.idle": "2021-12-08T14:43:44.448955Z",
     "shell.execute_reply": "2021-12-08T14:43:44.448122Z",
     "shell.execute_reply.started": "2021-12-08T11:06:54.580891Z"
    },
    "papermill": {
     "duration": 1.279021,
     "end_time": "2021-12-08T14:43:44.449137",
     "exception": false,
     "start_time": "2021-12-08T14:43:43.170116",
     "status": "completed"
    },
    "tags": []
   },
   "outputs": [],
   "source": [
    "# For Dataset handling\n",
    "import numpy as np\n",
    "import pandas as pd\n",
    "\n",
    "# For Checking Distribution Data\n",
    "from scipy.stats import chisquare, kstest, normaltest\n",
    "\n",
    "# For Data Visualization\n",
    "import matplotlib.pyplot as plt\n",
    "import seaborn as sns\n",
    "\n",
    "import warnings\n",
    "warnings.filterwarnings(\"ignore\")"
   ]
  },
  {
   "cell_type": "code",
   "execution_count": 2,
   "id": "5eab3583",
   "metadata": {
    "execution": {
     "iopub.execute_input": "2021-12-08T14:43:44.725495Z",
     "iopub.status.busy": "2021-12-08T14:43:44.724777Z",
     "iopub.status.idle": "2021-12-08T14:43:44.806601Z",
     "shell.execute_reply": "2021-12-08T14:43:44.807166Z",
     "shell.execute_reply.started": "2021-12-08T11:06:55.728076Z"
    },
    "papermill": {
     "duration": 0.22264,
     "end_time": "2021-12-08T14:43:44.807373",
     "exception": false,
     "start_time": "2021-12-08T14:43:44.584733",
     "status": "completed"
    },
    "tags": []
   },
   "outputs": [],
   "source": [
    "df = pd.read_csv(\"aug_train.csv\")"
   ]
  },
  {
   "cell_type": "code",
   "execution_count": 3,
   "id": "43732e88",
   "metadata": {
    "execution": {
     "iopub.execute_input": "2021-12-08T14:43:45.079491Z",
     "iopub.status.busy": "2021-12-08T14:43:45.078832Z",
     "iopub.status.idle": "2021-12-08T14:43:45.081589Z",
     "shell.execute_reply": "2021-12-08T14:43:45.080976Z",
     "shell.execute_reply.started": "2021-12-08T11:06:55.824900Z"
    },
    "papermill": {
     "duration": 0.140881,
     "end_time": "2021-12-08T14:43:45.081728",
     "exception": false,
     "start_time": "2021-12-08T14:43:44.940847",
     "status": "completed"
    },
    "tags": []
   },
   "outputs": [],
   "source": [
    "pd.set_option('display.max_columns', None)"
   ]
  },
  {
   "cell_type": "code",
   "execution_count": 4,
   "id": "742d13ab",
   "metadata": {
    "execution": {
     "iopub.execute_input": "2021-12-08T14:43:45.357511Z",
     "iopub.status.busy": "2021-12-08T14:43:45.356683Z",
     "iopub.status.idle": "2021-12-08T14:43:45.377239Z",
     "shell.execute_reply": "2021-12-08T14:43:45.377800Z",
     "shell.execute_reply.started": "2021-12-08T11:06:55.830288Z"
    },
    "papermill": {
     "duration": 0.162469,
     "end_time": "2021-12-08T14:43:45.377992",
     "exception": false,
     "start_time": "2021-12-08T14:43:45.215523",
     "status": "completed"
    },
    "tags": []
   },
   "outputs": [
    {
     "data": {
      "text/html": [
       "<div>\n",
       "<style scoped>\n",
       "    .dataframe tbody tr th:only-of-type {\n",
       "        vertical-align: middle;\n",
       "    }\n",
       "\n",
       "    .dataframe tbody tr th {\n",
       "        vertical-align: top;\n",
       "    }\n",
       "\n",
       "    .dataframe thead th {\n",
       "        text-align: right;\n",
       "    }\n",
       "</style>\n",
       "<table border=\"1\" class=\"dataframe\">\n",
       "  <thead>\n",
       "    <tr style=\"text-align: right;\">\n",
       "      <th></th>\n",
       "      <th>enrollee_id</th>\n",
       "      <th>city</th>\n",
       "      <th>city_development_index</th>\n",
       "      <th>gender</th>\n",
       "      <th>relevent_experience</th>\n",
       "      <th>enrolled_university</th>\n",
       "      <th>education_level</th>\n",
       "      <th>major_discipline</th>\n",
       "      <th>experience</th>\n",
       "      <th>company_size</th>\n",
       "      <th>company_type</th>\n",
       "      <th>last_new_job</th>\n",
       "      <th>training_hours</th>\n",
       "      <th>target</th>\n",
       "    </tr>\n",
       "  </thead>\n",
       "  <tbody>\n",
       "    <tr>\n",
       "      <th>0</th>\n",
       "      <td>8949</td>\n",
       "      <td>city_103</td>\n",
       "      <td>0.920</td>\n",
       "      <td>Male</td>\n",
       "      <td>Has relevent experience</td>\n",
       "      <td>no_enrollment</td>\n",
       "      <td>Graduate</td>\n",
       "      <td>STEM</td>\n",
       "      <td>&gt;20</td>\n",
       "      <td>NaN</td>\n",
       "      <td>NaN</td>\n",
       "      <td>1</td>\n",
       "      <td>36</td>\n",
       "      <td>1.0</td>\n",
       "    </tr>\n",
       "    <tr>\n",
       "      <th>1</th>\n",
       "      <td>29725</td>\n",
       "      <td>city_40</td>\n",
       "      <td>0.776</td>\n",
       "      <td>Male</td>\n",
       "      <td>No relevent experience</td>\n",
       "      <td>no_enrollment</td>\n",
       "      <td>Graduate</td>\n",
       "      <td>STEM</td>\n",
       "      <td>15</td>\n",
       "      <td>50-99</td>\n",
       "      <td>Pvt Ltd</td>\n",
       "      <td>&gt;4</td>\n",
       "      <td>47</td>\n",
       "      <td>0.0</td>\n",
       "    </tr>\n",
       "    <tr>\n",
       "      <th>2</th>\n",
       "      <td>11561</td>\n",
       "      <td>city_21</td>\n",
       "      <td>0.624</td>\n",
       "      <td>NaN</td>\n",
       "      <td>No relevent experience</td>\n",
       "      <td>Full time course</td>\n",
       "      <td>Graduate</td>\n",
       "      <td>STEM</td>\n",
       "      <td>5</td>\n",
       "      <td>NaN</td>\n",
       "      <td>NaN</td>\n",
       "      <td>never</td>\n",
       "      <td>83</td>\n",
       "      <td>0.0</td>\n",
       "    </tr>\n",
       "    <tr>\n",
       "      <th>3</th>\n",
       "      <td>33241</td>\n",
       "      <td>city_115</td>\n",
       "      <td>0.789</td>\n",
       "      <td>NaN</td>\n",
       "      <td>No relevent experience</td>\n",
       "      <td>NaN</td>\n",
       "      <td>Graduate</td>\n",
       "      <td>Business Degree</td>\n",
       "      <td>&lt;1</td>\n",
       "      <td>NaN</td>\n",
       "      <td>Pvt Ltd</td>\n",
       "      <td>never</td>\n",
       "      <td>52</td>\n",
       "      <td>1.0</td>\n",
       "    </tr>\n",
       "    <tr>\n",
       "      <th>4</th>\n",
       "      <td>666</td>\n",
       "      <td>city_162</td>\n",
       "      <td>0.767</td>\n",
       "      <td>Male</td>\n",
       "      <td>Has relevent experience</td>\n",
       "      <td>no_enrollment</td>\n",
       "      <td>Masters</td>\n",
       "      <td>STEM</td>\n",
       "      <td>&gt;20</td>\n",
       "      <td>50-99</td>\n",
       "      <td>Funded Startup</td>\n",
       "      <td>4</td>\n",
       "      <td>8</td>\n",
       "      <td>0.0</td>\n",
       "    </tr>\n",
       "  </tbody>\n",
       "</table>\n",
       "</div>"
      ],
      "text/plain": [
       "   enrollee_id      city  city_development_index gender  \\\n",
       "0         8949  city_103                   0.920   Male   \n",
       "1        29725   city_40                   0.776   Male   \n",
       "2        11561   city_21                   0.624    NaN   \n",
       "3        33241  city_115                   0.789    NaN   \n",
       "4          666  city_162                   0.767   Male   \n",
       "\n",
       "       relevent_experience enrolled_university education_level  \\\n",
       "0  Has relevent experience       no_enrollment        Graduate   \n",
       "1   No relevent experience       no_enrollment        Graduate   \n",
       "2   No relevent experience    Full time course        Graduate   \n",
       "3   No relevent experience                 NaN        Graduate   \n",
       "4  Has relevent experience       no_enrollment         Masters   \n",
       "\n",
       "  major_discipline experience company_size    company_type last_new_job  \\\n",
       "0             STEM        >20          NaN             NaN            1   \n",
       "1             STEM         15        50-99         Pvt Ltd           >4   \n",
       "2             STEM          5          NaN             NaN        never   \n",
       "3  Business Degree         <1          NaN         Pvt Ltd        never   \n",
       "4             STEM        >20        50-99  Funded Startup            4   \n",
       "\n",
       "   training_hours  target  \n",
       "0              36     1.0  \n",
       "1              47     0.0  \n",
       "2              83     0.0  \n",
       "3              52     1.0  \n",
       "4               8     0.0  "
      ]
     },
     "execution_count": 4,
     "metadata": {},
     "output_type": "execute_result"
    }
   ],
   "source": [
    "df.head()"
   ]
  },
  {
   "cell_type": "code",
   "execution_count": 5,
   "id": "719aba28",
   "metadata": {
    "execution": {
     "iopub.execute_input": "2021-12-08T14:43:45.923597Z",
     "iopub.status.busy": "2021-12-08T14:43:45.922886Z",
     "iopub.status.idle": "2021-12-08T14:43:45.937613Z",
     "shell.execute_reply": "2021-12-08T14:43:45.938136Z",
     "shell.execute_reply.started": "2021-12-08T11:06:55.866740Z"
    },
    "papermill": {
     "duration": 0.154735,
     "end_time": "2021-12-08T14:43:45.938395",
     "exception": false,
     "start_time": "2021-12-08T14:43:45.783660",
     "status": "completed"
    },
    "tags": []
   },
   "outputs": [
    {
     "data": {
      "text/plain": [
       "0.0    75.07\n",
       "1.0    24.93\n",
       "Name: target, dtype: float64"
      ]
     },
     "execution_count": 5,
     "metadata": {},
     "output_type": "execute_result"
    }
   ],
   "source": [
    "#了解資料的比例關係\n",
    "((df['target'].value_counts()/len(df))*100).round(2)"
   ]
  },
  {
   "cell_type": "code",
   "execution_count": 6,
   "id": "3c95646a",
   "metadata": {
    "execution": {
     "iopub.execute_input": "2021-12-08T14:43:46.215246Z",
     "iopub.status.busy": "2021-12-08T14:43:46.214585Z",
     "iopub.status.idle": "2021-12-08T14:43:46.424310Z",
     "shell.execute_reply": "2021-12-08T14:43:46.423754Z",
     "shell.execute_reply.started": "2021-12-08T11:06:55.889578Z"
    },
    "papermill": {
     "duration": 0.349095,
     "end_time": "2021-12-08T14:43:46.424478",
     "exception": false,
     "start_time": "2021-12-08T14:43:46.075383",
     "status": "completed"
    },
    "tags": []
   },
   "outputs": [
    {
     "data": {
      "image/png": "[encoded data removed]",
      "text/plain": [
       "<Figure size 432x432 with 1 Axes>"
      ]
     },
     "metadata": {},
     "output_type": "display_data"
    }
   ],
   "source": [
    "sizes = list(df['target'].value_counts().sort_values().values)\n",
    "labels = list(df['target'].value_counts().sort_values().index)\n",
    "\n",
    "explode = [0, 0.1]\n",
    "\n",
    "plt.figure(figsize=(6,6))\n",
    "plt.pie(sizes, labels=labels, explode = explode,\n",
    "        autopct=lambda p:f'{p:.2f}%')\n",
    "plt.title('Looking for New Job Percentage', fontsize=25)\n",
    "plt.tight_layout()\n",
    "plt.show()"
   ]
  },
  {
   "cell_type": "code",
   "execution_count": 7,
   "id": "5077d0e2",
   "metadata": {
    "execution": {
     "iopub.execute_input": "2021-12-08T14:43:46.979871Z",
     "iopub.status.busy": "2021-12-08T14:43:46.979130Z",
     "iopub.status.idle": "2021-12-08T14:43:47.014639Z",
     "shell.execute_reply": "2021-12-08T14:43:47.015256Z",
     "shell.execute_reply.started": "2021-12-08T11:06:56.119081Z"
    },
    "papermill": {
     "duration": 0.178629,
     "end_time": "2021-12-08T14:43:47.015465",
     "exception": false,
     "start_time": "2021-12-08T14:43:46.836836",
     "status": "completed"
    },
    "scrolled": true,
    "tags": []
   },
   "outputs": [
    {
     "name": "stdout",
     "output_type": "stream",
     "text": [
      "<class 'pandas.core.frame.DataFrame'>\n",
      "RangeIndex: 19158 entries, 0 to 19157\n",
      "Data columns (total 14 columns):\n",
      " #   Column                  Non-Null Count  Dtype  \n",
      "---  ------                  --------------  -----  \n",
      " 0   enrollee_id             19158 non-null  int64  \n",
      " 1   city                    19158 non-null  object \n",
      " 2   city_development_index  19158 non-null  float64\n",
      " 3   gender                  14650 non-null  object \n",
      " 4   relevent_experience     19158 non-null  object \n",
      " 5   enrolled_university     18772 non-null  object \n",
      " 6   education_level         18698 non-null  object \n",
      " 7   major_discipline        16345 non-null  object \n",
      " 8   experience              19093 non-null  object \n",
      " 9   company_size            13220 non-null  object \n",
      " 10  company_type            13018 non-null  object \n",
      " 11  last_new_job            18735 non-null  object \n",
      " 12  training_hours          19158 non-null  int64  \n",
      " 13  target                  19158 non-null  float64\n",
      "dtypes: float64(2), int64(2), object(10)\n",
      "memory usage: 2.0+ MB\n"
     ]
    }
   ],
   "source": [
    "df.info()"
   ]
  },
  {
   "cell_type": "code",
   "execution_count": 8,
   "id": "160e6b05",
   "metadata": {},
   "outputs": [
    {
     "data": {
      "image/png": "[encoded data removed]",
      "text/plain": [
       "<Figure size 1800x720 with 2 Axes>"
      ]
     },
     "metadata": {
      "needs_background": "light"
     },
     "output_type": "display_data"
    }
   ],
   "source": [
    "#透過視覺化找出遺缺值\n",
    "import missingno as msno\n",
    "import matplotlib.pyplot as plt\n",
    "msno.matrix(df)\n",
    "plt.show()"
   ]
  },
  {
   "cell_type": "code",
   "execution_count": 9,
   "id": "1f016ed5",
   "metadata": {
    "execution": {
     "iopub.execute_input": "2021-12-08T14:43:47.298729Z",
     "iopub.status.busy": "2021-12-08T14:43:47.298026Z",
     "iopub.status.idle": "2021-12-08T14:43:47.328994Z",
     "shell.execute_reply": "2021-12-08T14:43:47.329517Z",
     "shell.execute_reply.started": "2021-12-08T11:06:56.165238Z"
    },
    "papermill": {
     "duration": 0.176595,
     "end_time": "2021-12-08T14:43:47.329693",
     "exception": false,
     "start_time": "2021-12-08T14:43:47.153098",
     "status": "completed"
    },
    "tags": []
   },
   "outputs": [
    {
     "data": {
      "text/html": [
       "<div>\n",
       "<style scoped>\n",
       "    .dataframe tbody tr th:only-of-type {\n",
       "        vertical-align: middle;\n",
       "    }\n",
       "\n",
       "    .dataframe tbody tr th {\n",
       "        vertical-align: top;\n",
       "    }\n",
       "\n",
       "    .dataframe thead th {\n",
       "        text-align: right;\n",
       "    }\n",
       "</style>\n",
       "<table border=\"1\" class=\"dataframe\">\n",
       "  <thead>\n",
       "    <tr style=\"text-align: right;\">\n",
       "      <th></th>\n",
       "      <th>count</th>\n",
       "      <th>mean</th>\n",
       "      <th>std</th>\n",
       "      <th>min</th>\n",
       "      <th>25%</th>\n",
       "      <th>50%</th>\n",
       "      <th>75%</th>\n",
       "      <th>max</th>\n",
       "    </tr>\n",
       "  </thead>\n",
       "  <tbody>\n",
       "    <tr>\n",
       "      <th>enrollee_id</th>\n",
       "      <td>19158.0</td>\n",
       "      <td>16875.358179</td>\n",
       "      <td>9616.292592</td>\n",
       "      <td>1.000</td>\n",
       "      <td>8554.25</td>\n",
       "      <td>16982.500</td>\n",
       "      <td>25169.75</td>\n",
       "      <td>33380.000</td>\n",
       "    </tr>\n",
       "    <tr>\n",
       "      <th>city_development_index</th>\n",
       "      <td>19158.0</td>\n",
       "      <td>0.828848</td>\n",
       "      <td>0.123362</td>\n",
       "      <td>0.448</td>\n",
       "      <td>0.74</td>\n",
       "      <td>0.903</td>\n",
       "      <td>0.92</td>\n",
       "      <td>0.949</td>\n",
       "    </tr>\n",
       "    <tr>\n",
       "      <th>training_hours</th>\n",
       "      <td>19158.0</td>\n",
       "      <td>65.366896</td>\n",
       "      <td>60.058462</td>\n",
       "      <td>1.000</td>\n",
       "      <td>23.00</td>\n",
       "      <td>47.000</td>\n",
       "      <td>88.00</td>\n",
       "      <td>336.000</td>\n",
       "    </tr>\n",
       "    <tr>\n",
       "      <th>target</th>\n",
       "      <td>19158.0</td>\n",
       "      <td>0.249348</td>\n",
       "      <td>0.432647</td>\n",
       "      <td>0.000</td>\n",
       "      <td>0.00</td>\n",
       "      <td>0.000</td>\n",
       "      <td>0.00</td>\n",
       "      <td>1.000</td>\n",
       "    </tr>\n",
       "  </tbody>\n",
       "</table>\n",
       "</div>"
      ],
      "text/plain": [
       "                          count          mean          std    min      25%  \\\n",
       "enrollee_id             19158.0  16875.358179  9616.292592  1.000  8554.25   \n",
       "city_development_index  19158.0      0.828848     0.123362  0.448     0.74   \n",
       "training_hours          19158.0     65.366896    60.058462  1.000    23.00   \n",
       "target                  19158.0      0.249348     0.432647  0.000     0.00   \n",
       "\n",
       "                              50%       75%        max  \n",
       "enrollee_id             16982.500  25169.75  33380.000  \n",
       "city_development_index      0.903      0.92      0.949  \n",
       "training_hours             47.000     88.00    336.000  \n",
       "target                      0.000      0.00      1.000  "
      ]
     },
     "execution_count": 9,
     "metadata": {},
     "output_type": "execute_result"
    }
   ],
   "source": [
    "df.describe().T"
   ]
  },
  {
   "cell_type": "code",
   "execution_count": 10,
   "id": "08953aad",
   "metadata": {
    "execution": {
     "iopub.execute_input": "2021-12-08T14:43:47.609733Z",
     "iopub.status.busy": "2021-12-08T14:43:47.609037Z",
     "iopub.status.idle": "2021-12-08T14:43:47.677975Z",
     "shell.execute_reply": "2021-12-08T14:43:47.678467Z",
     "shell.execute_reply.started": "2021-12-08T11:06:56.210259Z"
    },
    "papermill": {
     "duration": 0.211848,
     "end_time": "2021-12-08T14:43:47.678634",
     "exception": false,
     "start_time": "2021-12-08T14:43:47.466786",
     "status": "completed"
    },
    "tags": []
   },
   "outputs": [
    {
     "data": {
      "text/html": [
       "<div>\n",
       "<style scoped>\n",
       "    .dataframe tbody tr th:only-of-type {\n",
       "        vertical-align: middle;\n",
       "    }\n",
       "\n",
       "    .dataframe tbody tr th {\n",
       "        vertical-align: top;\n",
       "    }\n",
       "\n",
       "    .dataframe thead th {\n",
       "        text-align: right;\n",
       "    }\n",
       "</style>\n",
       "<table border=\"1\" class=\"dataframe\">\n",
       "  <thead>\n",
       "    <tr style=\"text-align: right;\">\n",
       "      <th></th>\n",
       "      <th>count</th>\n",
       "      <th>unique</th>\n",
       "      <th>top</th>\n",
       "      <th>freq</th>\n",
       "    </tr>\n",
       "  </thead>\n",
       "  <tbody>\n",
       "    <tr>\n",
       "      <th>city</th>\n",
       "      <td>19158</td>\n",
       "      <td>123</td>\n",
       "      <td>city_103</td>\n",
       "      <td>4355</td>\n",
       "    </tr>\n",
       "    <tr>\n",
       "      <th>gender</th>\n",
       "      <td>14650</td>\n",
       "      <td>3</td>\n",
       "      <td>Male</td>\n",
       "      <td>13221</td>\n",
       "    </tr>\n",
       "    <tr>\n",
       "      <th>relevent_experience</th>\n",
       "      <td>19158</td>\n",
       "      <td>2</td>\n",
       "      <td>Has relevent experience</td>\n",
       "      <td>13792</td>\n",
       "    </tr>\n",
       "    <tr>\n",
       "      <th>enrolled_university</th>\n",
       "      <td>18772</td>\n",
       "      <td>3</td>\n",
       "      <td>no_enrollment</td>\n",
       "      <td>13817</td>\n",
       "    </tr>\n",
       "    <tr>\n",
       "      <th>education_level</th>\n",
       "      <td>18698</td>\n",
       "      <td>5</td>\n",
       "      <td>Graduate</td>\n",
       "      <td>11598</td>\n",
       "    </tr>\n",
       "    <tr>\n",
       "      <th>major_discipline</th>\n",
       "      <td>16345</td>\n",
       "      <td>6</td>\n",
       "      <td>STEM</td>\n",
       "      <td>14492</td>\n",
       "    </tr>\n",
       "    <tr>\n",
       "      <th>experience</th>\n",
       "      <td>19093</td>\n",
       "      <td>22</td>\n",
       "      <td>&gt;20</td>\n",
       "      <td>3286</td>\n",
       "    </tr>\n",
       "    <tr>\n",
       "      <th>company_size</th>\n",
       "      <td>13220</td>\n",
       "      <td>8</td>\n",
       "      <td>50-99</td>\n",
       "      <td>3083</td>\n",
       "    </tr>\n",
       "    <tr>\n",
       "      <th>company_type</th>\n",
       "      <td>13018</td>\n",
       "      <td>6</td>\n",
       "      <td>Pvt Ltd</td>\n",
       "      <td>9817</td>\n",
       "    </tr>\n",
       "    <tr>\n",
       "      <th>last_new_job</th>\n",
       "      <td>18735</td>\n",
       "      <td>6</td>\n",
       "      <td>1</td>\n",
       "      <td>8040</td>\n",
       "    </tr>\n",
       "  </tbody>\n",
       "</table>\n",
       "</div>"
      ],
      "text/plain": [
       "                     count unique                      top   freq\n",
       "city                 19158    123                 city_103   4355\n",
       "gender               14650      3                     Male  13221\n",
       "relevent_experience  19158      2  Has relevent experience  13792\n",
       "enrolled_university  18772      3            no_enrollment  13817\n",
       "education_level      18698      5                 Graduate  11598\n",
       "major_discipline     16345      6                     STEM  14492\n",
       "experience           19093     22                      >20   3286\n",
       "company_size         13220      8                    50-99   3083\n",
       "company_type         13018      6                  Pvt Ltd   9817\n",
       "last_new_job         18735      6                        1   8040"
      ]
     },
     "execution_count": 10,
     "metadata": {},
     "output_type": "execute_result"
    }
   ],
   "source": [
    "df.describe(include = 'object').T"
   ]
  },
  {
   "cell_type": "code",
   "execution_count": 11,
   "id": "73b66d5c",
   "metadata": {
    "execution": {
     "iopub.execute_input": "2021-12-08T14:43:47.962194Z",
     "iopub.status.busy": "2021-12-08T14:43:47.961551Z",
     "iopub.status.idle": "2021-12-08T14:43:48.062527Z",
     "shell.execute_reply": "2021-12-08T14:43:48.061967Z",
     "shell.execute_reply.started": "2021-12-08T11:06:56.294718Z"
    },
    "papermill": {
     "duration": 0.243194,
     "end_time": "2021-12-08T14:43:48.062685",
     "exception": false,
     "start_time": "2021-12-08T14:43:47.819491",
     "status": "completed"
    },
    "scrolled": true,
    "tags": []
   },
   "outputs": [
    {
     "data": {
      "text/html": [
       "<div>\n",
       "<style scoped>\n",
       "    .dataframe tbody tr th:only-of-type {\n",
       "        vertical-align: middle;\n",
       "    }\n",
       "\n",
       "    .dataframe tbody tr th {\n",
       "        vertical-align: top;\n",
       "    }\n",
       "\n",
       "    .dataframe thead th {\n",
       "        text-align: right;\n",
       "    }\n",
       "</style>\n",
       "<table border=\"1\" class=\"dataframe\">\n",
       "  <thead>\n",
       "    <tr style=\"text-align: right;\">\n",
       "      <th></th>\n",
       "      <th>Data features</th>\n",
       "      <th>Data types</th>\n",
       "      <th>Null</th>\n",
       "      <th>Null Percentage</th>\n",
       "      <th>Unique</th>\n",
       "      <th>Unique Sample</th>\n",
       "    </tr>\n",
       "  </thead>\n",
       "  <tbody>\n",
       "    <tr>\n",
       "      <th>0</th>\n",
       "      <td>enrollee_id</td>\n",
       "      <td>int64</td>\n",
       "      <td>0</td>\n",
       "      <td>0.00</td>\n",
       "      <td>19158</td>\n",
       "      <td>[3470, 21916, 16672, 4207, 33005, 17108, 3449,...</td>\n",
       "    </tr>\n",
       "    <tr>\n",
       "      <th>1</th>\n",
       "      <td>city</td>\n",
       "      <td>object</td>\n",
       "      <td>0</td>\n",
       "      <td>0.00</td>\n",
       "      <td>123</td>\n",
       "      <td>[city_143, city_103, city_16, city_21, city_45...</td>\n",
       "    </tr>\n",
       "    <tr>\n",
       "      <th>2</th>\n",
       "      <td>city_development_index</td>\n",
       "      <td>float64</td>\n",
       "      <td>0</td>\n",
       "      <td>0.00</td>\n",
       "      <td>93</td>\n",
       "      <td>[0.762, 0.843, 0.802, 0.92, 0.939, 0.897, 0.91...</td>\n",
       "    </tr>\n",
       "    <tr>\n",
       "      <th>3</th>\n",
       "      <td>gender</td>\n",
       "      <td>object</td>\n",
       "      <td>4508</td>\n",
       "      <td>23.53</td>\n",
       "      <td>3</td>\n",
       "      <td>[Male, Female, nan]</td>\n",
       "    </tr>\n",
       "    <tr>\n",
       "      <th>4</th>\n",
       "      <td>relevent_experience</td>\n",
       "      <td>object</td>\n",
       "      <td>0</td>\n",
       "      <td>0.00</td>\n",
       "      <td>2</td>\n",
       "      <td>[Has relevent experience, No relevent experience]</td>\n",
       "    </tr>\n",
       "    <tr>\n",
       "      <th>5</th>\n",
       "      <td>enrolled_university</td>\n",
       "      <td>object</td>\n",
       "      <td>386</td>\n",
       "      <td>2.01</td>\n",
       "      <td>3</td>\n",
       "      <td>[no_enrollment, Part time course, Full time co...</td>\n",
       "    </tr>\n",
       "    <tr>\n",
       "      <th>6</th>\n",
       "      <td>education_level</td>\n",
       "      <td>object</td>\n",
       "      <td>460</td>\n",
       "      <td>2.40</td>\n",
       "      <td>5</td>\n",
       "      <td>[Graduate, High School, Primary School, Masters]</td>\n",
       "    </tr>\n",
       "    <tr>\n",
       "      <th>7</th>\n",
       "      <td>major_discipline</td>\n",
       "      <td>object</td>\n",
       "      <td>2813</td>\n",
       "      <td>14.68</td>\n",
       "      <td>6</td>\n",
       "      <td>[STEM, nan, Business Degree, Arts, Humanities]</td>\n",
       "    </tr>\n",
       "    <tr>\n",
       "      <th>8</th>\n",
       "      <td>experience</td>\n",
       "      <td>object</td>\n",
       "      <td>65</td>\n",
       "      <td>0.34</td>\n",
       "      <td>22</td>\n",
       "      <td>[9, 7, &lt;1, 5, 4, &gt;20, 6, 10, 16, nan, 1, 12, 14]</td>\n",
       "    </tr>\n",
       "    <tr>\n",
       "      <th>9</th>\n",
       "      <td>company_size</td>\n",
       "      <td>object</td>\n",
       "      <td>5938</td>\n",
       "      <td>30.99</td>\n",
       "      <td>8</td>\n",
       "      <td>[10000+, nan, 50-99, 100-500, 10/49, 500-999]</td>\n",
       "    </tr>\n",
       "    <tr>\n",
       "      <th>10</th>\n",
       "      <td>company_type</td>\n",
       "      <td>object</td>\n",
       "      <td>6140</td>\n",
       "      <td>32.05</td>\n",
       "      <td>6</td>\n",
       "      <td>[Pvt Ltd, nan, Early Stage Startup]</td>\n",
       "    </tr>\n",
       "    <tr>\n",
       "      <th>11</th>\n",
       "      <td>last_new_job</td>\n",
       "      <td>object</td>\n",
       "      <td>423</td>\n",
       "      <td>2.21</td>\n",
       "      <td>6</td>\n",
       "      <td>[1, 3, 4, &gt;4, never, 2]</td>\n",
       "    </tr>\n",
       "    <tr>\n",
       "      <th>12</th>\n",
       "      <td>training_hours</td>\n",
       "      <td>int64</td>\n",
       "      <td>0</td>\n",
       "      <td>0.00</td>\n",
       "      <td>241</td>\n",
       "      <td>[218, 50, 152, 27, 44, 77, 85, 20, 157, 23, 66...</td>\n",
       "    </tr>\n",
       "    <tr>\n",
       "      <th>13</th>\n",
       "      <td>target</td>\n",
       "      <td>float64</td>\n",
       "      <td>0</td>\n",
       "      <td>0.00</td>\n",
       "      <td>2</td>\n",
       "      <td>[0.0, 1.0]</td>\n",
       "    </tr>\n",
       "  </tbody>\n",
       "</table>\n",
       "</div>"
      ],
      "text/plain": [
       "             Data features Data types  Null  Null Percentage  Unique  \\\n",
       "0              enrollee_id      int64     0             0.00   19158   \n",
       "1                     city     object     0             0.00     123   \n",
       "2   city_development_index    float64     0             0.00      93   \n",
       "3                   gender     object  4508            23.53       3   \n",
       "4      relevent_experience     object     0             0.00       2   \n",
       "5      enrolled_university     object   386             2.01       3   \n",
       "6          education_level     object   460             2.40       5   \n",
       "7         major_discipline     object  2813            14.68       6   \n",
       "8               experience     object    65             0.34      22   \n",
       "9             company_size     object  5938            30.99       8   \n",
       "10            company_type     object  6140            32.05       6   \n",
       "11            last_new_job     object   423             2.21       6   \n",
       "12          training_hours      int64     0             0.00     241   \n",
       "13                  target    float64     0             0.00       2   \n",
       "\n",
       "                                        Unique Sample  \n",
       "0   [3470, 21916, 16672, 4207, 33005, 17108, 3449,...  \n",
       "1   [city_143, city_103, city_16, city_21, city_45...  \n",
       "2   [0.762, 0.843, 0.802, 0.92, 0.939, 0.897, 0.91...  \n",
       "3                                 [Male, Female, nan]  \n",
       "4   [Has relevent experience, No relevent experience]  \n",
       "5   [no_enrollment, Part time course, Full time co...  \n",
       "6    [Graduate, High School, Primary School, Masters]  \n",
       "7      [STEM, nan, Business Degree, Arts, Humanities]  \n",
       "8    [9, 7, <1, 5, 4, >20, 6, 10, 16, nan, 1, 12, 14]  \n",
       "9       [10000+, nan, 50-99, 100-500, 10/49, 500-999]  \n",
       "10                [Pvt Ltd, nan, Early Stage Startup]  \n",
       "11                            [1, 3, 4, >4, never, 2]  \n",
       "12  [218, 50, 152, 27, 44, 77, 85, 20, 157, 23, 66...  \n",
       "13                                         [0.0, 1.0]  "
      ]
     },
     "execution_count": 11,
     "metadata": {},
     "output_type": "execute_result"
    }
   ],
   "source": [
    "dataDesc= []\n",
    "\n",
    "for i in df.columns:\n",
    "    dataDesc.append([\n",
    "        i, \n",
    "        df[i].dtypes,\n",
    "        df[i].isna().sum(),\n",
    "        round((((df[i].isna().sum()) / len(df)) * 100),2),\n",
    "        df[i].nunique(),\n",
    "        df[i].sample(20).drop_duplicates().values\n",
    "    ])\n",
    "pd.DataFrame(dataDesc, columns=[\n",
    "    \"Data features\", \n",
    "    \"Data types\",\n",
    "    \"Null\",\n",
    "    \"Null Percentage\",\n",
    "    \"Unique\",\n",
    "    \"Unique Sample\"\n",
    "])"
   ]
  },
  {
   "cell_type": "code",
   "execution_count": 12,
   "id": "8f99cb2b",
   "metadata": {
    "execution": {
     "iopub.execute_input": "2021-12-08T14:43:48.895125Z",
     "iopub.status.busy": "2021-12-08T14:43:48.894474Z",
     "iopub.status.idle": "2021-12-08T14:43:48.923082Z",
     "shell.execute_reply": "2021-12-08T14:43:48.923648Z",
     "shell.execute_reply.started": "2021-12-08T11:06:56.404193Z"
    },
    "papermill": {
     "duration": 0.171577,
     "end_time": "2021-12-08T14:43:48.923823",
     "exception": false,
     "start_time": "2021-12-08T14:43:48.752246",
     "status": "completed"
    },
    "tags": []
   },
   "outputs": [
    {
     "data": {
      "text/plain": [
       "enrollee_id                  0\n",
       "city                         0\n",
       "city_development_index       0\n",
       "gender                    4508\n",
       "relevent_experience          0\n",
       "enrolled_university        386\n",
       "education_level            460\n",
       "major_discipline          2813\n",
       "experience                  65\n",
       "company_size              5938\n",
       "company_type              6140\n",
       "last_new_job               423\n",
       "training_hours               0\n",
       "target                       0\n",
       "dtype: int64"
      ]
     },
     "execution_count": 12,
     "metadata": {},
     "output_type": "execute_result"
    }
   ],
   "source": [
    "#資料清洗\n",
    "df.isna().sum()"
   ]
  },
  {
   "cell_type": "code",
   "execution_count": 13,
   "id": "b0f7ac49",
   "metadata": {
    "execution": {
     "iopub.execute_input": "2021-12-08T14:43:49.203849Z",
     "iopub.status.busy": "2021-12-08T14:43:49.203108Z",
     "iopub.status.idle": "2021-12-08T14:43:49.245346Z",
     "shell.execute_reply": "2021-12-08T14:43:49.245897Z",
     "shell.execute_reply.started": "2021-12-08T11:06:56.434580Z"
    },
    "papermill": {
     "duration": 0.18454,
     "end_time": "2021-12-08T14:43:49.246078",
     "exception": false,
     "start_time": "2021-12-08T14:43:49.061538",
     "status": "completed"
    },
    "tags": []
   },
   "outputs": [],
   "source": [
    "for column in ['gender','enrolled_university','education_level','major_discipline', 'experience', 'company_size', 'company_type','last_new_job']:\n",
    "    df[column].fillna(df[column].mode()[0], inplace=True)"
   ]
  },
  {
   "cell_type": "code",
   "execution_count": 14,
   "id": "5115e01a",
   "metadata": {
    "execution": {
     "iopub.execute_input": "2021-12-08T14:43:49.528601Z",
     "iopub.status.busy": "2021-12-08T14:43:49.527913Z",
     "iopub.status.idle": "2021-12-08T14:43:49.556427Z",
     "shell.execute_reply": "2021-12-08T14:43:49.556897Z",
     "shell.execute_reply.started": "2021-12-08T11:06:56.480025Z"
    },
    "papermill": {
     "duration": 0.170911,
     "end_time": "2021-12-08T14:43:49.557078",
     "exception": false,
     "start_time": "2021-12-08T14:43:49.386167",
     "status": "completed"
    },
    "tags": []
   },
   "outputs": [
    {
     "data": {
      "text/plain": [
       "enrollee_id               0\n",
       "city                      0\n",
       "city_development_index    0\n",
       "gender                    0\n",
       "relevent_experience       0\n",
       "enrolled_university       0\n",
       "education_level           0\n",
       "major_discipline          0\n",
       "experience                0\n",
       "company_size              0\n",
       "company_type              0\n",
       "last_new_job              0\n",
       "training_hours            0\n",
       "target                    0\n",
       "dtype: int64"
      ]
     },
     "execution_count": 14,
     "metadata": {},
     "output_type": "execute_result"
    }
   ],
   "source": [
    "df.isna().sum()"
   ]
  },
  {
   "cell_type": "code",
   "execution_count": 15,
   "id": "c4c860cb",
   "metadata": {
    "execution": {
     "iopub.execute_input": "2021-12-08T14:43:49.836525Z",
     "iopub.status.busy": "2021-12-08T14:43:49.835515Z",
     "iopub.status.idle": "2021-12-08T14:44:00.726243Z",
     "shell.execute_reply": "2021-12-08T14:44:00.726799Z",
     "shell.execute_reply.started": "2021-12-08T11:07:33.422172Z"
    },
    "papermill": {
     "duration": 11.032639,
     "end_time": "2021-12-08T14:44:00.726987",
     "exception": false,
     "start_time": "2021-12-08T14:43:49.694348",
     "status": "completed"
    },
    "tags": []
   },
   "outputs": [
    {
     "name": "stdout",
     "output_type": "stream",
     "text": [
      "Requirement already satisfied: dython in d:\\anaconda\\lib\\site-packages (0.6.8)\n",
      "Requirement already satisfied: seaborn in d:\\anaconda\\lib\\site-packages (from dython) (0.11.1)\n",
      "Requirement already satisfied: scikit-learn in d:\\anaconda\\lib\\site-packages (from dython) (0.24.1)\n",
      "Requirement already satisfied: scipy in d:\\anaconda\\lib\\site-packages (from dython) (1.6.2)\n",
      "Requirement already satisfied: pandas>=0.23.4 in d:\\anaconda\\lib\\site-packages (from dython) (1.2.4)\n",
      "Requirement already satisfied: matplotlib in d:\\anaconda\\lib\\site-packages (from dython) (3.3.4)\n",
      "Requirement already satisfied: numpy in d:\\anaconda\\lib\\site-packages (from dython) (1.20.1)\n",
      "Requirement already satisfied: scikit-plot>=0.3.7 in d:\\anaconda\\lib\\site-packages (from dython) (0.3.7)\n",
      "Requirement already satisfied: python-dateutil>=2.7.3 in d:\\anaconda\\lib\\site-packages (from pandas>=0.23.4->dython) (2.8.1)\n",
      "Requirement already satisfied: pytz>=2017.3 in d:\\anaconda\\lib\\site-packages (from pandas>=0.23.4->dython) (2021.1)\n",
      "Requirement already satisfied: six>=1.5 in d:\\anaconda\\lib\\site-packages (from python-dateutil>=2.7.3->pandas>=0.23.4->dython) (1.15.0)\n",
      "Requirement already satisfied: joblib>=0.10 in d:\\anaconda\\lib\\site-packages (from scikit-plot>=0.3.7->dython) (1.0.1)\n",
      "Requirement already satisfied: kiwisolver>=1.0.1 in d:\\anaconda\\lib\\site-packages (from matplotlib->dython) (1.3.1)\n",
      "Requirement already satisfied: pyparsing!=2.0.4,!=2.1.2,!=2.1.6,>=2.0.3 in d:\\anaconda\\lib\\site-packages (from matplotlib->dython) (2.4.7)\n",
      "Requirement already satisfied: cycler>=0.10 in d:\\anaconda\\lib\\site-packages (from matplotlib->dython) (0.10.0)\n",
      "Requirement already satisfied: pillow>=6.2.0 in d:\\anaconda\\lib\\site-packages (from matplotlib->dython) (8.2.0)\n",
      "Requirement already satisfied: threadpoolctl>=2.0.0 in d:\\anaconda\\lib\\site-packages (from scikit-learn->dython) (2.1.0)\n",
      "Note: you may need to restart the kernel to use updated packages.\n"
     ]
    }
   ],
   "source": [
    "pip install dython"
   ]
  },
  {
   "cell_type": "code",
   "execution_count": 16,
   "id": "a9aaed12",
   "metadata": {
    "execution": {
     "iopub.execute_input": "2021-12-08T14:44:01.017942Z",
     "iopub.status.busy": "2021-12-08T14:44:01.017247Z",
     "iopub.status.idle": "2021-12-08T14:44:01.022025Z",
     "shell.execute_reply": "2021-12-08T14:44:01.022491Z",
     "shell.execute_reply.started": "2021-12-08T11:06:56.526144Z"
    },
    "papermill": {
     "duration": 0.153242,
     "end_time": "2021-12-08T14:44:01.022666",
     "exception": false,
     "start_time": "2021-12-08T14:44:00.869424",
     "status": "completed"
    },
    "tags": []
   },
   "outputs": [],
   "source": [
    "df = df.drop(columns=[\"enrollee_id\"])"
   ]
  },
  {
   "cell_type": "code",
   "execution_count": 17,
   "id": "6be0a114",
   "metadata": {
    "execution": {
     "iopub.execute_input": "2021-12-08T14:44:01.334743Z",
     "iopub.status.busy": "2021-12-08T14:44:01.333821Z",
     "iopub.status.idle": "2021-12-08T14:44:01.882196Z",
     "shell.execute_reply": "2021-12-08T14:44:01.881664Z",
     "shell.execute_reply.started": "2021-12-08T11:07:51.360407Z"
    },
    "papermill": {
     "duration": 0.718611,
     "end_time": "2021-12-08T14:44:01.882400",
     "exception": false,
     "start_time": "2021-12-08T14:44:01.163789",
     "status": "completed"
    },
    "tags": []
   },
   "outputs": [],
   "source": [
    "#For Correlation Checking\n",
    "import dython\n",
    "from dython.nominal import associations, cramers_v, correlation_ratio, theils_u"
   ]
  },
  {
   "cell_type": "code",
   "execution_count": 18,
   "id": "fa1904aa",
   "metadata": {
    "execution": {
     "iopub.execute_input": "2021-12-08T14:44:02.166829Z",
     "iopub.status.busy": "2021-12-08T14:44:02.166158Z",
     "iopub.status.idle": "2021-12-08T14:44:02.507159Z",
     "shell.execute_reply": "2021-12-08T14:44:02.506604Z",
     "shell.execute_reply.started": "2021-12-08T11:09:19.660869Z"
    },
    "papermill": {
     "duration": 0.484543,
     "end_time": "2021-12-08T14:44:02.507330",
     "exception": false,
     "start_time": "2021-12-08T14:44:02.022787",
     "status": "completed"
    },
    "tags": []
   },
   "outputs": [],
   "source": [
    "# Crammers V\n",
    "categorical = df.select_dtypes('object').columns.to_list()\n",
    "\n",
    "assoc_cramers = []\n",
    "for i in  categorical:\n",
    "    assoc = round(cramers_v(df['target'], df[i]),2)\n",
    "    assoc_cramers.append(assoc)"
   ]
  },
  {
   "cell_type": "code",
   "execution_count": 19,
   "id": "646ae455",
   "metadata": {
    "execution": {
     "iopub.execute_input": "2021-12-08T14:44:02.792694Z",
     "iopub.status.busy": "2021-12-08T14:44:02.792061Z",
     "iopub.status.idle": "2021-12-08T14:44:02.797036Z",
     "shell.execute_reply": "2021-12-08T14:44:02.797569Z",
     "shell.execute_reply.started": "2021-12-08T11:09:30.829047Z"
    },
    "papermill": {
     "duration": 0.149629,
     "end_time": "2021-12-08T14:44:02.797733",
     "exception": false,
     "start_time": "2021-12-08T14:44:02.648104",
     "status": "completed"
    },
    "tags": []
   },
   "outputs": [],
   "source": [
    "df_cramers_v = pd.DataFrame(data=[assoc_cramers], columns=categorical, index=['target'])"
   ]
  },
  {
   "cell_type": "code",
   "execution_count": 20,
   "id": "04487df4",
   "metadata": {
    "execution": {
     "iopub.execute_input": "2021-12-08T14:44:03.101533Z",
     "iopub.status.busy": "2021-12-08T14:44:03.100856Z",
     "iopub.status.idle": "2021-12-08T14:44:03.316086Z",
     "shell.execute_reply": "2021-12-08T14:44:03.315531Z",
     "shell.execute_reply.started": "2021-12-08T11:09:34.772074Z"
    },
    "papermill": {
     "duration": 0.378082,
     "end_time": "2021-12-08T14:44:03.316248",
     "exception": false,
     "start_time": "2021-12-08T14:44:02.938166",
     "status": "completed"
    },
    "tags": []
   },
   "outputs": [
    {
     "data": {
      "text/plain": [
       "<AxesSubplot:>"
      ]
     },
     "execution_count": 20,
     "metadata": {},
     "output_type": "execute_result"
    },
    {
     "data": {
      "image/png": "[encoded data removed]",
      "text/plain": [
       "<Figure size 936x72 with 1 Axes>"
      ]
     },
     "metadata": {
      "needs_background": "light"
     },
     "output_type": "display_data"
    }
   ],
   "source": [
    "plt.figure(figsize = (13,1))\n",
    "sns.heatmap(df_cramers_v, cbar = False, annot=True)"
   ]
  },
  {
   "cell_type": "code",
   "execution_count": 21,
   "id": "7452c84f",
   "metadata": {
    "execution": {
     "iopub.execute_input": "2021-12-08T14:44:03.607694Z",
     "iopub.status.busy": "2021-12-08T14:44:03.607030Z",
     "iopub.status.idle": "2021-12-08T14:44:03.661211Z",
     "shell.execute_reply": "2021-12-08T14:44:03.661790Z",
     "shell.execute_reply.started": "2021-12-08T11:09:39.907542Z"
    },
    "papermill": {
     "duration": 0.2024,
     "end_time": "2021-12-08T14:44:03.661975",
     "exception": false,
     "start_time": "2021-12-08T14:44:03.459575",
     "status": "completed"
    },
    "tags": []
   },
   "outputs": [],
   "source": [
    "numerical = df.select_dtypes(['int64', 'float64']).columns.to_list()\n",
    "\n",
    "assoc_corratio = []\n",
    "for i in  numerical:\n",
    "    assoc = round(correlation_ratio(df['target'], df[i]),2)\n",
    "    assoc_corratio.append(assoc)"
   ]
  },
  {
   "cell_type": "code",
   "execution_count": 22,
   "id": "7fd87e8d",
   "metadata": {
    "execution": {
     "iopub.execute_input": "2021-12-08T14:44:03.951056Z",
     "iopub.status.busy": "2021-12-08T14:44:03.950409Z",
     "iopub.status.idle": "2021-12-08T14:44:03.955192Z",
     "shell.execute_reply": "2021-12-08T14:44:03.955761Z",
     "shell.execute_reply.started": "2021-12-08T11:09:42.931607Z"
    },
    "papermill": {
     "duration": 0.151737,
     "end_time": "2021-12-08T14:44:03.955933",
     "exception": false,
     "start_time": "2021-12-08T14:44:03.804196",
     "status": "completed"
    },
    "tags": []
   },
   "outputs": [
    {
     "data": {
      "text/plain": [
       "['city_development_index', 'training_hours', 'target']"
      ]
     },
     "execution_count": 22,
     "metadata": {},
     "output_type": "execute_result"
    }
   ],
   "source": [
    "numerical"
   ]
  },
  {
   "cell_type": "code",
   "execution_count": 23,
   "id": "b69bb08a",
   "metadata": {
    "execution": {
     "iopub.execute_input": "2021-12-08T14:44:04.245322Z",
     "iopub.status.busy": "2021-12-08T14:44:04.244696Z",
     "iopub.status.idle": "2021-12-08T14:44:04.249148Z",
     "shell.execute_reply": "2021-12-08T14:44:04.249704Z",
     "shell.execute_reply.started": "2021-12-08T11:09:44.585608Z"
    },
    "papermill": {
     "duration": 0.151255,
     "end_time": "2021-12-08T14:44:04.249874",
     "exception": false,
     "start_time": "2021-12-08T14:44:04.098619",
     "status": "completed"
    },
    "tags": []
   },
   "outputs": [],
   "source": [
    "df_corr_ratio = pd.DataFrame(data=[assoc_corratio], columns=numerical, index=['target'])"
   ]
  },
  {
   "cell_type": "code",
   "execution_count": 24,
   "id": "58d1e232",
   "metadata": {
    "execution": {
     "iopub.execute_input": "2021-12-08T14:44:04.540453Z",
     "iopub.status.busy": "2021-12-08T14:44:04.539802Z",
     "iopub.status.idle": "2021-12-08T14:44:04.681215Z",
     "shell.execute_reply": "2021-12-08T14:44:04.680516Z",
     "shell.execute_reply.started": "2021-12-08T11:09:46.033348Z"
    },
    "papermill": {
     "duration": 0.288803,
     "end_time": "2021-12-08T14:44:04.681378",
     "exception": false,
     "start_time": "2021-12-08T14:44:04.392575",
     "status": "completed"
    },
    "tags": []
   },
   "outputs": [
    {
     "data": {
      "text/plain": [
       "<AxesSubplot:>"
      ]
     },
     "execution_count": 24,
     "metadata": {},
     "output_type": "execute_result"
    },
    {
     "data": {
      "image/png": "[encoded data removed]",
      "text/plain": [
       "<Figure size 936x72 with 1 Axes>"
      ]
     },
     "metadata": {
      "needs_background": "light"
     },
     "output_type": "display_data"
    }
   ],
   "source": [
    "plt.figure(figsize = (13,1))\n",
    "sns.heatmap(df_corr_ratio, cbar = False, annot=True)"
   ]
  },
  {
   "cell_type": "code",
   "execution_count": 25,
   "id": "5d4350d4",
   "metadata": {
    "execution": {
     "iopub.execute_input": "2021-12-08T14:44:04.974838Z",
     "iopub.status.busy": "2021-12-08T14:44:04.974159Z",
     "iopub.status.idle": "2021-12-08T14:44:04.990732Z",
     "shell.execute_reply": "2021-12-08T14:44:04.991313Z",
     "shell.execute_reply.started": "2021-12-08T11:09:49.132329Z"
    },
    "papermill": {
     "duration": 0.164028,
     "end_time": "2021-12-08T14:44:04.991486",
     "exception": false,
     "start_time": "2021-12-08T14:44:04.827458",
     "status": "completed"
    },
    "tags": []
   },
   "outputs": [
    {
     "data": {
      "text/html": [
       "<div>\n",
       "<style scoped>\n",
       "    .dataframe tbody tr th:only-of-type {\n",
       "        vertical-align: middle;\n",
       "    }\n",
       "\n",
       "    .dataframe tbody tr th {\n",
       "        vertical-align: top;\n",
       "    }\n",
       "\n",
       "    .dataframe thead th {\n",
       "        text-align: right;\n",
       "    }\n",
       "</style>\n",
       "<table border=\"1\" class=\"dataframe\">\n",
       "  <thead>\n",
       "    <tr style=\"text-align: right;\">\n",
       "      <th></th>\n",
       "      <th>city</th>\n",
       "      <th>city_development_index</th>\n",
       "      <th>gender</th>\n",
       "      <th>relevent_experience</th>\n",
       "      <th>enrolled_university</th>\n",
       "      <th>education_level</th>\n",
       "      <th>major_discipline</th>\n",
       "      <th>experience</th>\n",
       "      <th>company_size</th>\n",
       "      <th>company_type</th>\n",
       "      <th>last_new_job</th>\n",
       "      <th>training_hours</th>\n",
       "      <th>target</th>\n",
       "    </tr>\n",
       "  </thead>\n",
       "  <tbody>\n",
       "    <tr>\n",
       "      <th>0</th>\n",
       "      <td>city_103</td>\n",
       "      <td>0.920</td>\n",
       "      <td>Male</td>\n",
       "      <td>Has relevent experience</td>\n",
       "      <td>no_enrollment</td>\n",
       "      <td>Graduate</td>\n",
       "      <td>STEM</td>\n",
       "      <td>&gt;20</td>\n",
       "      <td>50-99</td>\n",
       "      <td>Pvt Ltd</td>\n",
       "      <td>1</td>\n",
       "      <td>36</td>\n",
       "      <td>1.0</td>\n",
       "    </tr>\n",
       "    <tr>\n",
       "      <th>1</th>\n",
       "      <td>city_40</td>\n",
       "      <td>0.776</td>\n",
       "      <td>Male</td>\n",
       "      <td>No relevent experience</td>\n",
       "      <td>no_enrollment</td>\n",
       "      <td>Graduate</td>\n",
       "      <td>STEM</td>\n",
       "      <td>15</td>\n",
       "      <td>50-99</td>\n",
       "      <td>Pvt Ltd</td>\n",
       "      <td>&gt;4</td>\n",
       "      <td>47</td>\n",
       "      <td>0.0</td>\n",
       "    </tr>\n",
       "    <tr>\n",
       "      <th>2</th>\n",
       "      <td>city_21</td>\n",
       "      <td>0.624</td>\n",
       "      <td>Male</td>\n",
       "      <td>No relevent experience</td>\n",
       "      <td>Full time course</td>\n",
       "      <td>Graduate</td>\n",
       "      <td>STEM</td>\n",
       "      <td>5</td>\n",
       "      <td>50-99</td>\n",
       "      <td>Pvt Ltd</td>\n",
       "      <td>never</td>\n",
       "      <td>83</td>\n",
       "      <td>0.0</td>\n",
       "    </tr>\n",
       "    <tr>\n",
       "      <th>3</th>\n",
       "      <td>city_115</td>\n",
       "      <td>0.789</td>\n",
       "      <td>Male</td>\n",
       "      <td>No relevent experience</td>\n",
       "      <td>no_enrollment</td>\n",
       "      <td>Graduate</td>\n",
       "      <td>Business Degree</td>\n",
       "      <td>&lt;1</td>\n",
       "      <td>50-99</td>\n",
       "      <td>Pvt Ltd</td>\n",
       "      <td>never</td>\n",
       "      <td>52</td>\n",
       "      <td>1.0</td>\n",
       "    </tr>\n",
       "    <tr>\n",
       "      <th>4</th>\n",
       "      <td>city_162</td>\n",
       "      <td>0.767</td>\n",
       "      <td>Male</td>\n",
       "      <td>Has relevent experience</td>\n",
       "      <td>no_enrollment</td>\n",
       "      <td>Masters</td>\n",
       "      <td>STEM</td>\n",
       "      <td>&gt;20</td>\n",
       "      <td>50-99</td>\n",
       "      <td>Funded Startup</td>\n",
       "      <td>4</td>\n",
       "      <td>8</td>\n",
       "      <td>0.0</td>\n",
       "    </tr>\n",
       "  </tbody>\n",
       "</table>\n",
       "</div>"
      ],
      "text/plain": [
       "       city  city_development_index gender      relevent_experience  \\\n",
       "0  city_103                   0.920   Male  Has relevent experience   \n",
       "1   city_40                   0.776   Male   No relevent experience   \n",
       "2   city_21                   0.624   Male   No relevent experience   \n",
       "3  city_115                   0.789   Male   No relevent experience   \n",
       "4  city_162                   0.767   Male  Has relevent experience   \n",
       "\n",
       "  enrolled_university education_level major_discipline experience  \\\n",
       "0       no_enrollment        Graduate             STEM        >20   \n",
       "1       no_enrollment        Graduate             STEM         15   \n",
       "2    Full time course        Graduate             STEM          5   \n",
       "3       no_enrollment        Graduate  Business Degree         <1   \n",
       "4       no_enrollment         Masters             STEM        >20   \n",
       "\n",
       "  company_size    company_type last_new_job  training_hours  target  \n",
       "0        50-99         Pvt Ltd            1              36     1.0  \n",
       "1        50-99         Pvt Ltd           >4              47     0.0  \n",
       "2        50-99         Pvt Ltd        never              83     0.0  \n",
       "3        50-99         Pvt Ltd        never              52     1.0  \n",
       "4        50-99  Funded Startup            4               8     0.0  "
      ]
     },
     "execution_count": 25,
     "metadata": {},
     "output_type": "execute_result"
    }
   ],
   "source": [
    "df.head()"
   ]
  },
  {
   "cell_type": "code",
   "execution_count": 26,
   "id": "0e8e6902",
   "metadata": {
    "execution": {
     "iopub.execute_input": "2021-12-08T14:44:05.283651Z",
     "iopub.status.busy": "2021-12-08T14:44:05.283030Z",
     "iopub.status.idle": "2021-12-08T14:44:05.328335Z",
     "shell.execute_reply": "2021-12-08T14:44:05.327699Z",
     "shell.execute_reply.started": "2021-12-08T11:09:51.716609Z"
    },
    "papermill": {
     "duration": 0.19197,
     "end_time": "2021-12-08T14:44:05.328476",
     "exception": false,
     "start_time": "2021-12-08T14:44:05.136506",
     "status": "completed"
    },
    "tags": []
   },
   "outputs": [
    {
     "data": {
      "text/html": [
       "<div>\n",
       "<style scoped>\n",
       "    .dataframe tbody tr th:only-of-type {\n",
       "        vertical-align: middle;\n",
       "    }\n",
       "\n",
       "    .dataframe tbody tr th {\n",
       "        vertical-align: top;\n",
       "    }\n",
       "\n",
       "    .dataframe thead th {\n",
       "        text-align: right;\n",
       "    }\n",
       "</style>\n",
       "<table border=\"1\" class=\"dataframe\">\n",
       "  <thead>\n",
       "    <tr style=\"text-align: right;\">\n",
       "      <th></th>\n",
       "      <th>city</th>\n",
       "      <th>city_development_index</th>\n",
       "      <th>gender</th>\n",
       "      <th>relevent_experience</th>\n",
       "      <th>enrolled_university</th>\n",
       "      <th>education_level</th>\n",
       "      <th>major_discipline</th>\n",
       "      <th>experience</th>\n",
       "      <th>company_size</th>\n",
       "      <th>company_type</th>\n",
       "      <th>last_new_job</th>\n",
       "      <th>training_hours</th>\n",
       "      <th>target</th>\n",
       "    </tr>\n",
       "  </thead>\n",
       "  <tbody>\n",
       "    <tr>\n",
       "      <th>250</th>\n",
       "      <td>city_16</td>\n",
       "      <td>0.910</td>\n",
       "      <td>Male</td>\n",
       "      <td>Has relevent experience</td>\n",
       "      <td>no_enrollment</td>\n",
       "      <td>Graduate</td>\n",
       "      <td>STEM</td>\n",
       "      <td>15</td>\n",
       "      <td>50-99</td>\n",
       "      <td>Pvt Ltd</td>\n",
       "      <td>&gt;4</td>\n",
       "      <td>47</td>\n",
       "      <td>0.0</td>\n",
       "    </tr>\n",
       "    <tr>\n",
       "      <th>3924</th>\n",
       "      <td>city_159</td>\n",
       "      <td>0.843</td>\n",
       "      <td>Male</td>\n",
       "      <td>Has relevent experience</td>\n",
       "      <td>no_enrollment</td>\n",
       "      <td>High School</td>\n",
       "      <td>STEM</td>\n",
       "      <td>&gt;20</td>\n",
       "      <td>50-99</td>\n",
       "      <td>Pvt Ltd</td>\n",
       "      <td>&gt;4</td>\n",
       "      <td>44</td>\n",
       "      <td>0.0</td>\n",
       "    </tr>\n",
       "    <tr>\n",
       "      <th>4078</th>\n",
       "      <td>city_16</td>\n",
       "      <td>0.910</td>\n",
       "      <td>Male</td>\n",
       "      <td>Has relevent experience</td>\n",
       "      <td>no_enrollment</td>\n",
       "      <td>Graduate</td>\n",
       "      <td>STEM</td>\n",
       "      <td>&gt;20</td>\n",
       "      <td>50-99</td>\n",
       "      <td>Pvt Ltd</td>\n",
       "      <td>1</td>\n",
       "      <td>91</td>\n",
       "      <td>0.0</td>\n",
       "    </tr>\n",
       "    <tr>\n",
       "      <th>4212</th>\n",
       "      <td>city_103</td>\n",
       "      <td>0.920</td>\n",
       "      <td>Male</td>\n",
       "      <td>No relevent experience</td>\n",
       "      <td>Full time course</td>\n",
       "      <td>Graduate</td>\n",
       "      <td>STEM</td>\n",
       "      <td>2</td>\n",
       "      <td>50-99</td>\n",
       "      <td>Pvt Ltd</td>\n",
       "      <td>never</td>\n",
       "      <td>42</td>\n",
       "      <td>1.0</td>\n",
       "    </tr>\n",
       "    <tr>\n",
       "      <th>4271</th>\n",
       "      <td>city_103</td>\n",
       "      <td>0.920</td>\n",
       "      <td>Male</td>\n",
       "      <td>Has relevent experience</td>\n",
       "      <td>no_enrollment</td>\n",
       "      <td>Masters</td>\n",
       "      <td>STEM</td>\n",
       "      <td>&gt;20</td>\n",
       "      <td>50-99</td>\n",
       "      <td>Pvt Ltd</td>\n",
       "      <td>&gt;4</td>\n",
       "      <td>70</td>\n",
       "      <td>0.0</td>\n",
       "    </tr>\n",
       "    <tr>\n",
       "      <th>...</th>\n",
       "      <td>...</td>\n",
       "      <td>...</td>\n",
       "      <td>...</td>\n",
       "      <td>...</td>\n",
       "      <td>...</td>\n",
       "      <td>...</td>\n",
       "      <td>...</td>\n",
       "      <td>...</td>\n",
       "      <td>...</td>\n",
       "      <td>...</td>\n",
       "      <td>...</td>\n",
       "      <td>...</td>\n",
       "      <td>...</td>\n",
       "    </tr>\n",
       "    <tr>\n",
       "      <th>19019</th>\n",
       "      <td>city_103</td>\n",
       "      <td>0.920</td>\n",
       "      <td>Male</td>\n",
       "      <td>Has relevent experience</td>\n",
       "      <td>no_enrollment</td>\n",
       "      <td>Graduate</td>\n",
       "      <td>STEM</td>\n",
       "      <td>&gt;20</td>\n",
       "      <td>50-99</td>\n",
       "      <td>Pvt Ltd</td>\n",
       "      <td>1</td>\n",
       "      <td>13</td>\n",
       "      <td>1.0</td>\n",
       "    </tr>\n",
       "    <tr>\n",
       "      <th>19056</th>\n",
       "      <td>city_103</td>\n",
       "      <td>0.920</td>\n",
       "      <td>Female</td>\n",
       "      <td>Has relevent experience</td>\n",
       "      <td>no_enrollment</td>\n",
       "      <td>Graduate</td>\n",
       "      <td>STEM</td>\n",
       "      <td>6</td>\n",
       "      <td>100-500</td>\n",
       "      <td>Pvt Ltd</td>\n",
       "      <td>1</td>\n",
       "      <td>44</td>\n",
       "      <td>0.0</td>\n",
       "    </tr>\n",
       "    <tr>\n",
       "      <th>19057</th>\n",
       "      <td>city_103</td>\n",
       "      <td>0.920</td>\n",
       "      <td>Male</td>\n",
       "      <td>Has relevent experience</td>\n",
       "      <td>no_enrollment</td>\n",
       "      <td>Graduate</td>\n",
       "      <td>STEM</td>\n",
       "      <td>&gt;20</td>\n",
       "      <td>50-99</td>\n",
       "      <td>Pvt Ltd</td>\n",
       "      <td>&gt;4</td>\n",
       "      <td>56</td>\n",
       "      <td>1.0</td>\n",
       "    </tr>\n",
       "    <tr>\n",
       "      <th>19143</th>\n",
       "      <td>city_103</td>\n",
       "      <td>0.920</td>\n",
       "      <td>Male</td>\n",
       "      <td>Has relevent experience</td>\n",
       "      <td>no_enrollment</td>\n",
       "      <td>Graduate</td>\n",
       "      <td>STEM</td>\n",
       "      <td>&gt;20</td>\n",
       "      <td>10000+</td>\n",
       "      <td>Pvt Ltd</td>\n",
       "      <td>&gt;4</td>\n",
       "      <td>18</td>\n",
       "      <td>0.0</td>\n",
       "    </tr>\n",
       "    <tr>\n",
       "      <th>19144</th>\n",
       "      <td>city_21</td>\n",
       "      <td>0.624</td>\n",
       "      <td>Male</td>\n",
       "      <td>No relevent experience</td>\n",
       "      <td>Full time course</td>\n",
       "      <td>Graduate</td>\n",
       "      <td>STEM</td>\n",
       "      <td>4</td>\n",
       "      <td>50-99</td>\n",
       "      <td>Pvt Ltd</td>\n",
       "      <td>never</td>\n",
       "      <td>48</td>\n",
       "      <td>1.0</td>\n",
       "    </tr>\n",
       "  </tbody>\n",
       "</table>\n",
       "<p>97 rows × 13 columns</p>\n",
       "</div>"
      ],
      "text/plain": [
       "           city  city_development_index  gender      relevent_experience  \\\n",
       "250     city_16                   0.910    Male  Has relevent experience   \n",
       "3924   city_159                   0.843    Male  Has relevent experience   \n",
       "4078    city_16                   0.910    Male  Has relevent experience   \n",
       "4212   city_103                   0.920    Male   No relevent experience   \n",
       "4271   city_103                   0.920    Male  Has relevent experience   \n",
       "...         ...                     ...     ...                      ...   \n",
       "19019  city_103                   0.920    Male  Has relevent experience   \n",
       "19056  city_103                   0.920  Female  Has relevent experience   \n",
       "19057  city_103                   0.920    Male  Has relevent experience   \n",
       "19143  city_103                   0.920    Male  Has relevent experience   \n",
       "19144   city_21                   0.624    Male   No relevent experience   \n",
       "\n",
       "      enrolled_university education_level major_discipline experience  \\\n",
       "250         no_enrollment        Graduate             STEM         15   \n",
       "3924        no_enrollment     High School             STEM        >20   \n",
       "4078        no_enrollment        Graduate             STEM        >20   \n",
       "4212     Full time course        Graduate             STEM          2   \n",
       "4271        no_enrollment         Masters             STEM        >20   \n",
       "...                   ...             ...              ...        ...   \n",
       "19019       no_enrollment        Graduate             STEM        >20   \n",
       "19056       no_enrollment        Graduate             STEM          6   \n",
       "19057       no_enrollment        Graduate             STEM        >20   \n",
       "19143       no_enrollment        Graduate             STEM        >20   \n",
       "19144    Full time course        Graduate             STEM          4   \n",
       "\n",
       "      company_size company_type last_new_job  training_hours  target  \n",
       "250          50-99      Pvt Ltd           >4              47     0.0  \n",
       "3924         50-99      Pvt Ltd           >4              44     0.0  \n",
       "4078         50-99      Pvt Ltd            1              91     0.0  \n",
       "4212         50-99      Pvt Ltd        never              42     1.0  \n",
       "4271         50-99      Pvt Ltd           >4              70     0.0  \n",
       "...            ...          ...          ...             ...     ...  \n",
       "19019        50-99      Pvt Ltd            1              13     1.0  \n",
       "19056      100-500      Pvt Ltd            1              44     0.0  \n",
       "19057        50-99      Pvt Ltd           >4              56     1.0  \n",
       "19143       10000+      Pvt Ltd           >4              18     0.0  \n",
       "19144        50-99      Pvt Ltd        never              48     1.0  \n",
       "\n",
       "[97 rows x 13 columns]"
      ]
     },
     "execution_count": 26,
     "metadata": {},
     "output_type": "execute_result"
    }
   ],
   "source": [
    "df[df.duplicated()]"
   ]
  },
  {
   "cell_type": "code",
   "execution_count": 27,
   "id": "2dd57515",
   "metadata": {
    "execution": {
     "iopub.execute_input": "2021-12-08T14:44:05.625968Z",
     "iopub.status.busy": "2021-12-08T14:44:05.625041Z",
     "iopub.status.idle": "2021-12-08T14:44:05.647937Z",
     "shell.execute_reply": "2021-12-08T14:44:05.648477Z",
     "shell.execute_reply.started": "2021-12-08T11:09:54.548582Z"
    },
    "papermill": {
     "duration": 0.175093,
     "end_time": "2021-12-08T14:44:05.648656",
     "exception": false,
     "start_time": "2021-12-08T14:44:05.473563",
     "status": "completed"
    },
    "tags": []
   },
   "outputs": [
    {
     "data": {
      "text/plain": [
       "97"
      ]
     },
     "execution_count": 27,
     "metadata": {},
     "output_type": "execute_result"
    }
   ],
   "source": [
    "df.duplicated().sum()"
   ]
  },
  {
   "cell_type": "code",
   "execution_count": 28,
   "id": "f7d858eb",
   "metadata": {
    "execution": {
     "iopub.execute_input": "2021-12-08T14:44:05.943268Z",
     "iopub.status.busy": "2021-12-08T14:44:05.942486Z",
     "iopub.status.idle": "2021-12-08T14:44:06.000086Z",
     "shell.execute_reply": "2021-12-08T14:44:06.000937Z",
     "shell.execute_reply.started": "2021-12-08T11:09:56.611106Z"
    },
    "papermill": {
     "duration": 0.207062,
     "end_time": "2021-12-08T14:44:06.001172",
     "exception": false,
     "start_time": "2021-12-08T14:44:05.794110",
     "status": "completed"
    },
    "tags": []
   },
   "outputs": [
    {
     "name": "stdout",
     "output_type": "stream",
     "text": [
      "<class 'pandas.core.frame.DataFrame'>\n",
      "Int64Index: 19061 entries, 0 to 19157\n",
      "Data columns (total 13 columns):\n",
      " #   Column                  Non-Null Count  Dtype  \n",
      "---  ------                  --------------  -----  \n",
      " 0   city                    19061 non-null  object \n",
      " 1   city_development_index  19061 non-null  float64\n",
      " 2   gender                  19061 non-null  object \n",
      " 3   relevent_experience     19061 non-null  object \n",
      " 4   enrolled_university     19061 non-null  object \n",
      " 5   education_level         19061 non-null  object \n",
      " 6   major_discipline        19061 non-null  object \n",
      " 7   experience              19061 non-null  object \n",
      " 8   company_size            19061 non-null  object \n",
      " 9   company_type            19061 non-null  object \n",
      " 10  last_new_job            19061 non-null  object \n",
      " 11  training_hours          19061 non-null  int64  \n",
      " 12  target                  19061 non-null  float64\n",
      "dtypes: float64(2), int64(1), object(10)\n",
      "memory usage: 2.0+ MB\n"
     ]
    }
   ],
   "source": [
    "df.drop_duplicates(keep='first',inplace=True)\n",
    "df.info()"
   ]
  },
  {
   "cell_type": "code",
   "execution_count": 29,
   "id": "2c794e6c",
   "metadata": {},
   "outputs": [],
   "source": [
    "#資料預處理和EDA"
   ]
  },
  {
   "cell_type": "markdown",
   "id": "d4544f6e",
   "metadata": {
    "papermill": {
     "duration": 0.146971,
     "end_time": "2021-12-08T14:44:06.592235",
     "exception": false,
     "start_time": "2021-12-08T14:44:06.445264",
     "status": "completed"
    },
    "tags": []
   },
   "source": [
    "## 1. City"
   ]
  },
  {
   "cell_type": "code",
   "execution_count": 30,
   "id": "7030bdd5",
   "metadata": {
    "execution": {
     "iopub.execute_input": "2021-12-08T14:44:06.889553Z",
     "iopub.status.busy": "2021-12-08T14:44:06.887693Z",
     "iopub.status.idle": "2021-12-08T14:44:06.894681Z",
     "shell.execute_reply": "2021-12-08T14:44:06.895198Z",
     "shell.execute_reply.started": "2021-12-08T11:10:08.073772Z"
    },
    "papermill": {
     "duration": 0.156597,
     "end_time": "2021-12-08T14:44:06.895407",
     "exception": false,
     "start_time": "2021-12-08T14:44:06.738810",
     "status": "completed"
    },
    "tags": []
   },
   "outputs": [
    {
     "data": {
      "text/plain": [
       "123"
      ]
     },
     "execution_count": 30,
     "metadata": {},
     "output_type": "execute_result"
    }
   ],
   "source": [
    "df['city'].nunique()"
   ]
  },
  {
   "cell_type": "code",
   "execution_count": 31,
   "id": "ea04f1fd",
   "metadata": {
    "execution": {
     "iopub.execute_input": "2021-12-08T14:44:07.195209Z",
     "iopub.status.busy": "2021-12-08T14:44:07.194269Z",
     "iopub.status.idle": "2021-12-08T14:44:07.205853Z",
     "shell.execute_reply": "2021-12-08T14:44:07.206478Z",
     "shell.execute_reply.started": "2021-12-08T11:10:12.393707Z"
    },
    "papermill": {
     "duration": 0.163222,
     "end_time": "2021-12-08T14:44:07.206653",
     "exception": false,
     "start_time": "2021-12-08T14:44:07.043431",
     "status": "completed"
    },
    "tags": []
   },
   "outputs": [
    {
     "data": {
      "text/plain": [
       "city_103    4290\n",
       "city_21     2689\n",
       "city_16     1520\n",
       "city_114    1335\n",
       "city_160     841\n",
       "            ... \n",
       "city_129       3\n",
       "city_121       3\n",
       "city_111       3\n",
       "city_171       1\n",
       "city_140       1\n",
       "Name: city, Length: 123, dtype: int64"
      ]
     },
     "execution_count": 31,
     "metadata": {},
     "output_type": "execute_result"
    }
   ],
   "source": [
    "df['city'].value_counts()"
   ]
  },
  {
   "cell_type": "code",
   "execution_count": 32,
   "id": "8adb8872",
   "metadata": {
    "execution": {
     "iopub.execute_input": "2021-12-08T14:44:07.507648Z",
     "iopub.status.busy": "2021-12-08T14:44:07.506934Z",
     "iopub.status.idle": "2021-12-08T14:44:07.529497Z",
     "shell.execute_reply": "2021-12-08T14:44:07.528802Z",
     "shell.execute_reply.started": "2021-12-08T11:10:14.705264Z"
    },
    "papermill": {
     "duration": 0.175614,
     "end_time": "2021-12-08T14:44:07.529651",
     "exception": false,
     "start_time": "2021-12-08T14:44:07.354037",
     "status": "completed"
    },
    "tags": []
   },
   "outputs": [],
   "source": [
    "df['city'] = df['city'].str.replace('city_','')"
   ]
  },
  {
   "cell_type": "code",
   "execution_count": 33,
   "id": "7bbf677b",
   "metadata": {
    "execution": {
     "iopub.execute_input": "2021-12-08T14:44:07.838127Z",
     "iopub.status.busy": "2021-12-08T14:44:07.837443Z",
     "iopub.status.idle": "2021-12-08T14:44:07.840118Z",
     "shell.execute_reply": "2021-12-08T14:44:07.840692Z",
     "shell.execute_reply.started": "2021-12-08T11:10:17.162983Z"
    },
    "papermill": {
     "duration": 0.162607,
     "end_time": "2021-12-08T14:44:07.840871",
     "exception": false,
     "start_time": "2021-12-08T14:44:07.678264",
     "status": "completed"
    },
    "tags": []
   },
   "outputs": [
    {
     "data": {
      "text/plain": [
       "103    4290\n",
       "21     2689\n",
       "16     1520\n",
       "114    1335\n",
       "160     841\n",
       "       ... \n",
       "121       3\n",
       "129       3\n",
       "111       3\n",
       "140       1\n",
       "171       1\n",
       "Name: city, Length: 123, dtype: int64"
      ]
     },
     "execution_count": 33,
     "metadata": {},
     "output_type": "execute_result"
    }
   ],
   "source": [
    "df['city'].value_counts()"
   ]
  },
  {
   "cell_type": "code",
   "execution_count": 34,
   "id": "e7ed9e6c",
   "metadata": {
    "execution": {
     "iopub.execute_input": "2021-12-08T14:44:08.141233Z",
     "iopub.status.busy": "2021-12-08T14:44:08.140580Z",
     "iopub.status.idle": "2021-12-08T14:44:08.149634Z",
     "shell.execute_reply": "2021-12-08T14:44:08.150128Z",
     "shell.execute_reply.started": "2021-12-08T11:10:19.390100Z"
    },
    "papermill": {
     "duration": 0.16105,
     "end_time": "2021-12-08T14:44:08.150386",
     "exception": false,
     "start_time": "2021-12-08T14:44:07.989336",
     "status": "completed"
    },
    "tags": []
   },
   "outputs": [],
   "source": [
    "df['city'] = df['city'].astype('int64')"
   ]
  },
  {
   "cell_type": "code",
   "execution_count": 35,
   "id": "cab35ecd",
   "metadata": {
    "execution": {
     "iopub.execute_input": "2021-12-08T14:44:08.448708Z",
     "iopub.status.busy": "2021-12-08T14:44:08.448038Z",
     "iopub.status.idle": "2021-12-08T14:44:08.832670Z",
     "shell.execute_reply": "2021-12-08T14:44:08.833230Z",
     "shell.execute_reply.started": "2021-12-08T11:10:21.330171Z"
    },
    "papermill": {
     "duration": 0.534801,
     "end_time": "2021-12-08T14:44:08.833436",
     "exception": false,
     "start_time": "2021-12-08T14:44:08.298635",
     "status": "completed"
    },
    "tags": []
   },
   "outputs": [
    {
     "data": {
      "image/png": "[encoded data removed]",
      "text/plain": [
       "<Figure size 864x360 with 1 Axes>"
      ]
     },
     "metadata": {
      "needs_background": "light"
     },
     "output_type": "display_data"
    }
   ],
   "source": [
    "plt.figure(figsize=(12, 5))\n",
    "sns.kdeplot(data=df, x=\"city\", hue=\"target\",cut = 0,palette='Set2')\n",
    "plt.title('Density Person change a job based on City')\n",
    "plt.show()"
   ]
  },
  {
   "cell_type": "markdown",
   "id": "75e71320",
   "metadata": {
    "papermill": {
     "duration": 0.148163,
     "end_time": "2021-12-08T14:44:09.131050",
     "exception": false,
     "start_time": "2021-12-08T14:44:08.982887",
     "status": "completed"
    },
    "tags": []
   },
   "source": [
    "從上面的 KDEPlot 我們可以觀察到數字在 20 - 30 之間的城市具有峰值密度"
   ]
  },
  {
   "cell_type": "markdown",
   "id": "12aeb3ec",
   "metadata": {
    "papermill": {
     "duration": 0.147816,
     "end_time": "2021-12-08T14:44:09.428087",
     "exception": false,
     "start_time": "2021-12-08T14:44:09.280271",
     "status": "completed"
    },
    "tags": []
   },
   "source": [
    "## 2.City Development Index"
   ]
  },
  {
   "cell_type": "code",
   "execution_count": 36,
   "id": "d3aec52e",
   "metadata": {
    "execution": {
     "iopub.execute_input": "2021-12-08T14:44:09.733830Z",
     "iopub.status.busy": "2021-12-08T14:44:09.732691Z",
     "iopub.status.idle": "2021-12-08T14:44:10.234829Z",
     "shell.execute_reply": "2021-12-08T14:44:10.235317Z",
     "shell.execute_reply.started": "2021-12-08T11:10:31.739691Z"
    },
    "papermill": {
     "duration": 0.658069,
     "end_time": "2021-12-08T14:44:10.235499",
     "exception": false,
     "start_time": "2021-12-08T14:44:09.577430",
     "status": "completed"
    },
    "tags": []
   },
   "outputs": [
    {
     "data": {
      "image/png": "[encoded data removed]",
      "text/plain": [
       "<Figure size 864x360 with 1 Axes>"
      ]
     },
     "metadata": {
      "needs_background": "light"
     },
     "output_type": "display_data"
    }
   ],
   "source": [
    "plt.figure(figsize=(12, 5))\n",
    "sns.kdeplot(data=df, x=\"city_development_index\", hue=\"target\",cut = 0,palette='GnBu')\n",
    "plt.title('Density Person change a job based on City Development Index')\n",
    "plt.show()"
   ]
  },
  {
   "cell_type": "markdown",
   "id": "fca5f98b",
   "metadata": {
    "papermill": {
     "duration": 0.150751,
     "end_time": "2021-12-08T14:44:10.537153",
     "exception": false,
     "start_time": "2021-12-08T14:44:10.386402",
     "status": "completed"
    },
    "tags": []
   },
   "source": [
    "根據上面的 KDEPlot，發展指數較高的城市不太可能有想換工作的人"
   ]
  },
  {
   "cell_type": "markdown",
   "id": "ec737bc2",
   "metadata": {
    "papermill": {
     "duration": 0.151025,
     "end_time": "2021-12-08T14:44:10.841637",
     "exception": false,
     "start_time": "2021-12-08T14:44:10.690612",
     "status": "completed"
    },
    "tags": []
   },
   "source": [
    "## 3. Gender"
   ]
  },
  {
   "cell_type": "code",
   "execution_count": 37,
   "id": "b798cd83",
   "metadata": {
    "execution": {
     "iopub.execute_input": "2021-12-08T14:44:11.158798Z",
     "iopub.status.busy": "2021-12-08T14:44:11.158059Z",
     "iopub.status.idle": "2021-12-08T14:44:11.417031Z",
     "shell.execute_reply": "2021-12-08T14:44:11.416517Z",
     "shell.execute_reply.started": "2021-12-08T11:10:35.751116Z"
    },
    "papermill": {
     "duration": 0.422577,
     "end_time": "2021-12-08T14:44:11.417174",
     "exception": false,
     "start_time": "2021-12-08T14:44:10.994597",
     "status": "completed"
    },
    "tags": []
   },
   "outputs": [
    {
     "data": {
      "image/png": "[encoded data removed]",
      "text/plain": [
       "<Figure size 864x360 with 1 Axes>"
      ]
     },
     "metadata": {
      "needs_background": "light"
     },
     "output_type": "display_data"
    }
   ],
   "source": [
    "plt.figure(figsize=(12, 5))\n",
    "sns.countplot(x=df[\"gender\"],hue=df[\"target\"], data=df, palette='mako')\n",
    "plt.title('Gender Status Comparison')\n",
    "plt.show()"
   ]
  },
  {
   "cell_type": "code",
   "execution_count": 38,
   "id": "60a79199",
   "metadata": {
    "execution": {
     "iopub.execute_input": "2021-12-08T14:44:11.725226Z",
     "iopub.status.busy": "2021-12-08T14:44:11.724597Z",
     "iopub.status.idle": "2021-12-08T14:44:11.749039Z",
     "shell.execute_reply": "2021-12-08T14:44:11.749503Z",
     "shell.execute_reply.started": "2021-12-08T11:10:43.196670Z"
    },
    "papermill": {
     "duration": 0.181469,
     "end_time": "2021-12-08T14:44:11.749677",
     "exception": false,
     "start_time": "2021-12-08T14:44:11.568208",
     "status": "completed"
    },
    "tags": []
   },
   "outputs": [
    {
     "data": {
      "text/html": [
       "<div>\n",
       "<style scoped>\n",
       "    .dataframe tbody tr th:only-of-type {\n",
       "        vertical-align: middle;\n",
       "    }\n",
       "\n",
       "    .dataframe tbody tr th {\n",
       "        vertical-align: top;\n",
       "    }\n",
       "\n",
       "    .dataframe thead th {\n",
       "        text-align: right;\n",
       "    }\n",
       "</style>\n",
       "<table border=\"1\" class=\"dataframe\">\n",
       "  <thead>\n",
       "    <tr style=\"text-align: right;\">\n",
       "      <th>target</th>\n",
       "      <th>0.0</th>\n",
       "      <th>1.0</th>\n",
       "    </tr>\n",
       "    <tr>\n",
       "      <th>gender</th>\n",
       "      <th></th>\n",
       "      <th></th>\n",
       "    </tr>\n",
       "  </thead>\n",
       "  <tbody>\n",
       "    <tr>\n",
       "      <th>Female</th>\n",
       "      <td>73.65</td>\n",
       "      <td>26.35</td>\n",
       "    </tr>\n",
       "    <tr>\n",
       "      <th>Other</th>\n",
       "      <td>73.82</td>\n",
       "      <td>26.18</td>\n",
       "    </tr>\n",
       "    <tr>\n",
       "      <th>Male</th>\n",
       "      <td>75.17</td>\n",
       "      <td>24.83</td>\n",
       "    </tr>\n",
       "  </tbody>\n",
       "</table>\n",
       "</div>"
      ],
      "text/plain": [
       "target    0.0    1.0\n",
       "gender              \n",
       "Female  73.65  26.35\n",
       "Other   73.82  26.18\n",
       "Male    75.17  24.83"
      ]
     },
     "execution_count": 38,
     "metadata": {},
     "output_type": "execute_result"
    }
   ],
   "source": [
    "Marital = ((pd.crosstab(index= df[\"gender\"], columns= df[\"target\"], normalize=\"index\"))*100).round(2)\n",
    "Marital.sort_values(1,ascending=False)"
   ]
  },
  {
   "cell_type": "markdown",
   "id": "6faa246e",
   "metadata": {
    "papermill": {
     "duration": 0.151829,
     "end_time": "2021-12-08T14:44:12.053048",
     "exception": false,
     "start_time": "2021-12-08T14:44:11.901219",
     "status": "completed"
    },
    "tags": []
   },
   "source": [
    "可以發現女性換工作的比例最高，顯示性別對改變工作決定沒有影響和相關性"
   ]
  },
  {
   "cell_type": "markdown",
   "id": "2eecd216",
   "metadata": {
    "papermill": {
     "duration": 0.174537,
     "end_time": "2021-12-08T14:44:12.379874",
     "exception": false,
     "start_time": "2021-12-08T14:44:12.205337",
     "status": "completed"
    },
    "tags": []
   },
   "source": [
    "## 4.Relevant Experience"
   ]
  },
  {
   "cell_type": "code",
   "execution_count": 39,
   "id": "4f1ab78a",
   "metadata": {
    "execution": {
     "iopub.execute_input": "2021-12-08T14:44:12.687714Z",
     "iopub.status.busy": "2021-12-08T14:44:12.686987Z",
     "iopub.status.idle": "2021-12-08T14:44:12.696373Z",
     "shell.execute_reply": "2021-12-08T14:44:12.696930Z",
     "shell.execute_reply.started": "2021-12-08T11:10:45.568077Z"
    },
    "papermill": {
     "duration": 0.165466,
     "end_time": "2021-12-08T14:44:12.697101",
     "exception": false,
     "start_time": "2021-12-08T14:44:12.531635",
     "status": "completed"
    },
    "tags": []
   },
   "outputs": [
    {
     "data": {
      "text/plain": [
       "Has relevent experience    13713\n",
       "No relevent experience      5348\n",
       "Name: relevent_experience, dtype: int64"
      ]
     },
     "execution_count": 39,
     "metadata": {},
     "output_type": "execute_result"
    }
   ],
   "source": [
    "df['relevent_experience'].value_counts()"
   ]
  },
  {
   "cell_type": "code",
   "execution_count": 40,
   "id": "c58802e4",
   "metadata": {
    "execution": {
     "iopub.execute_input": "2021-12-08T14:44:13.004410Z",
     "iopub.status.busy": "2021-12-08T14:44:13.003739Z",
     "iopub.status.idle": "2021-12-08T14:44:13.012142Z",
     "shell.execute_reply": "2021-12-08T14:44:13.012684Z",
     "shell.execute_reply.started": "2021-12-08T11:10:47.736550Z"
    },
    "papermill": {
     "duration": 0.163601,
     "end_time": "2021-12-08T14:44:13.012873",
     "exception": false,
     "start_time": "2021-12-08T14:44:12.849272",
     "status": "completed"
    },
    "tags": []
   },
   "outputs": [],
   "source": [
    "df['relevent_experience'] = df['relevent_experience'].map({'Has relevent experience' : 1, 'No relevent experience' : 0})"
   ]
  },
  {
   "cell_type": "code",
   "execution_count": 41,
   "id": "4836f146",
   "metadata": {
    "execution": {
     "iopub.execute_input": "2021-12-08T14:44:13.320322Z",
     "iopub.status.busy": "2021-12-08T14:44:13.319657Z",
     "iopub.status.idle": "2021-12-08T14:44:13.553271Z",
     "shell.execute_reply": "2021-12-08T14:44:13.553804Z",
     "shell.execute_reply.started": "2021-12-08T11:10:49.502845Z"
    },
    "papermill": {
     "duration": 0.388458,
     "end_time": "2021-12-08T14:44:13.553988",
     "exception": false,
     "start_time": "2021-12-08T14:44:13.165530",
     "status": "completed"
    },
    "tags": []
   },
   "outputs": [
    {
     "data": {
      "image/png": "[encoded data removed]",
      "text/plain": [
       "<Figure size 1080x576 with 1 Axes>"
      ]
     },
     "metadata": {
      "needs_background": "light"
     },
     "output_type": "display_data"
    }
   ],
   "source": [
    "plt.figure(figsize=(15, 8))\n",
    "sns.countplot(x=df[\"relevent_experience\"],hue=df[\"target\"], data=df, palette='mako')\n",
    "plt.title('Relevent Experience Comparison')\n",
    "plt.show()"
   ]
  },
  {
   "cell_type": "code",
   "execution_count": 42,
   "id": "73b04dc6",
   "metadata": {
    "execution": {
     "iopub.execute_input": "2021-12-08T14:44:13.868316Z",
     "iopub.status.busy": "2021-12-08T14:44:13.867280Z",
     "iopub.status.idle": "2021-12-08T14:44:13.891467Z",
     "shell.execute_reply": "2021-12-08T14:44:13.891917Z",
     "shell.execute_reply.started": "2021-12-08T11:10:54.798585Z"
    },
    "papermill": {
     "duration": 0.182957,
     "end_time": "2021-12-08T14:44:13.892091",
     "exception": false,
     "start_time": "2021-12-08T14:44:13.709134",
     "status": "completed"
    },
    "tags": []
   },
   "outputs": [
    {
     "data": {
      "text/html": [
       "<div>\n",
       "<style scoped>\n",
       "    .dataframe tbody tr th:only-of-type {\n",
       "        vertical-align: middle;\n",
       "    }\n",
       "\n",
       "    .dataframe tbody tr th {\n",
       "        vertical-align: top;\n",
       "    }\n",
       "\n",
       "    .dataframe thead th {\n",
       "        text-align: right;\n",
       "    }\n",
       "</style>\n",
       "<table border=\"1\" class=\"dataframe\">\n",
       "  <thead>\n",
       "    <tr style=\"text-align: right;\">\n",
       "      <th>target</th>\n",
       "      <th>0.0</th>\n",
       "      <th>1.0</th>\n",
       "    </tr>\n",
       "    <tr>\n",
       "      <th>relevent_experience</th>\n",
       "      <th></th>\n",
       "      <th></th>\n",
       "    </tr>\n",
       "  </thead>\n",
       "  <tbody>\n",
       "    <tr>\n",
       "      <th>0</th>\n",
       "      <td>66.19</td>\n",
       "      <td>33.81</td>\n",
       "    </tr>\n",
       "    <tr>\n",
       "      <th>1</th>\n",
       "      <td>78.52</td>\n",
       "      <td>21.48</td>\n",
       "    </tr>\n",
       "  </tbody>\n",
       "</table>\n",
       "</div>"
      ],
      "text/plain": [
       "target                 0.0    1.0\n",
       "relevent_experience              \n",
       "0                    66.19  33.81\n",
       "1                    78.52  21.48"
      ]
     },
     "execution_count": 42,
     "metadata": {},
     "output_type": "execute_result"
    }
   ],
   "source": [
    "Marital = ((pd.crosstab(index= df[\"relevent_experience\"], columns= df[\"target\"], normalize=\"index\"))*100).round(2)\n",
    "Marital.sort_values(1,ascending=False)"
   ]
  },
  {
   "cell_type": "markdown",
   "id": "93f7140e",
   "metadata": {
    "papermill": {
     "duration": 0.15567,
     "end_time": "2021-12-08T14:44:14.203464",
     "exception": false,
     "start_time": "2021-12-08T14:44:14.047794",
     "status": "completed"
    },
    "tags": []
   },
   "source": [
    "沒有數據科學經驗的人更有可能轉行成為數據科學家，佔所有接受培訓的人的 33%。"
   ]
  },
  {
   "cell_type": "markdown",
   "id": "4040ef99",
   "metadata": {
    "papermill": {
     "duration": 0.154148,
     "end_time": "2021-12-08T14:44:14.575052",
     "exception": false,
     "start_time": "2021-12-08T14:44:14.420904",
     "status": "completed"
    },
    "tags": []
   },
   "source": [
    "## 5.enrolled_university"
   ]
  },
  {
   "cell_type": "code",
   "execution_count": 43,
   "id": "4b0e5a01",
   "metadata": {
    "execution": {
     "iopub.execute_input": "2021-12-08T14:44:14.886316Z",
     "iopub.status.busy": "2021-12-08T14:44:14.885653Z",
     "iopub.status.idle": "2021-12-08T14:44:15.163659Z",
     "shell.execute_reply": "2021-12-08T14:44:15.163008Z",
     "shell.execute_reply.started": "2021-12-08T11:10:57.166936Z"
    },
    "papermill": {
     "duration": 0.434475,
     "end_time": "2021-12-08T14:44:15.163802",
     "exception": false,
     "start_time": "2021-12-08T14:44:14.729327",
     "status": "completed"
    },
    "tags": []
   },
   "outputs": [
    {
     "data": {
      "image/png": "[encoded data removed]",
      "text/plain": [
       "<Figure size 1080x576 with 1 Axes>"
      ]
     },
     "metadata": {
      "needs_background": "light"
     },
     "output_type": "display_data"
    }
   ],
   "source": [
    "plt.figure(figsize=(15, 8))\n",
    "sns.countplot(x=df[\"enrolled_university\"],hue=df[\"target\"], data=df, palette='mako')\n",
    "plt.title('University Enrollment Comparison')\n",
    "plt.show()"
   ]
  },
  {
   "cell_type": "code",
   "execution_count": 44,
   "id": "5bd75e28",
   "metadata": {
    "execution": {
     "iopub.execute_input": "2021-12-08T14:44:15.475551Z",
     "iopub.status.busy": "2021-12-08T14:44:15.474875Z",
     "iopub.status.idle": "2021-12-08T14:44:15.500509Z",
     "shell.execute_reply": "2021-12-08T14:44:15.501039Z",
     "shell.execute_reply.started": "2021-12-08T11:10:59.722392Z"
    },
    "papermill": {
     "duration": 0.183359,
     "end_time": "2021-12-08T14:44:15.501210",
     "exception": false,
     "start_time": "2021-12-08T14:44:15.317851",
     "status": "completed"
    },
    "tags": []
   },
   "outputs": [
    {
     "data": {
      "text/html": [
       "<div>\n",
       "<style scoped>\n",
       "    .dataframe tbody tr th:only-of-type {\n",
       "        vertical-align: middle;\n",
       "    }\n",
       "\n",
       "    .dataframe tbody tr th {\n",
       "        vertical-align: top;\n",
       "    }\n",
       "\n",
       "    .dataframe thead th {\n",
       "        text-align: right;\n",
       "    }\n",
       "</style>\n",
       "<table border=\"1\" class=\"dataframe\">\n",
       "  <thead>\n",
       "    <tr style=\"text-align: right;\">\n",
       "      <th>target</th>\n",
       "      <th>0.0</th>\n",
       "      <th>1.0</th>\n",
       "    </tr>\n",
       "    <tr>\n",
       "      <th>enrolled_university</th>\n",
       "      <th></th>\n",
       "      <th></th>\n",
       "    </tr>\n",
       "  </thead>\n",
       "  <tbody>\n",
       "    <tr>\n",
       "      <th>Full time course</th>\n",
       "      <td>62.06</td>\n",
       "      <td>37.94</td>\n",
       "    </tr>\n",
       "    <tr>\n",
       "      <th>Part time course</th>\n",
       "      <td>74.79</td>\n",
       "      <td>25.21</td>\n",
       "    </tr>\n",
       "    <tr>\n",
       "      <th>no_enrollment</th>\n",
       "      <td>78.53</td>\n",
       "      <td>21.47</td>\n",
       "    </tr>\n",
       "  </tbody>\n",
       "</table>\n",
       "</div>"
      ],
      "text/plain": [
       "target                 0.0    1.0\n",
       "enrolled_university              \n",
       "Full time course     62.06  37.94\n",
       "Part time course     74.79  25.21\n",
       "no_enrollment        78.53  21.47"
      ]
     },
     "execution_count": 44,
     "metadata": {},
     "output_type": "execute_result"
    }
   ],
   "source": [
    "Marital = ((pd.crosstab(index= df[\"enrolled_university\"], columns= df[\"target\"], normalize=\"index\"))*100).round(2)\n",
    "Marital.sort_values(1,ascending=False)"
   ]
  },
  {
   "cell_type": "markdown",
   "id": "9db67a20",
   "metadata": {
    "papermill": {
     "duration": 0.153875,
     "end_time": "2021-12-08T14:44:15.809755",
     "exception": false,
     "start_time": "2021-12-08T14:44:15.655880",
     "status": "completed"
    },
    "tags": []
   },
   "source": [
    "參加完整培訓的人是有意換工作的人，佔比37.94%"
   ]
  },
  {
   "cell_type": "markdown",
   "id": "3a1b2556",
   "metadata": {
    "papermill": {
     "duration": 0.155843,
     "end_time": "2021-12-08T14:44:16.122198",
     "exception": false,
     "start_time": "2021-12-08T14:44:15.966355",
     "status": "completed"
    },
    "tags": []
   },
   "source": [
    "## 6.education_level"
   ]
  },
  {
   "cell_type": "code",
   "execution_count": 45,
   "id": "efb881f5",
   "metadata": {
    "execution": {
     "iopub.execute_input": "2021-12-08T14:44:16.472636Z",
     "iopub.status.busy": "2021-12-08T14:44:16.444152Z",
     "iopub.status.idle": "2021-12-08T14:44:16.723455Z",
     "shell.execute_reply": "2021-12-08T14:44:16.722857Z",
     "shell.execute_reply.started": "2021-12-08T11:11:02.144424Z"
    },
    "papermill": {
     "duration": 0.446857,
     "end_time": "2021-12-08T14:44:16.723606",
     "exception": false,
     "start_time": "2021-12-08T14:44:16.276749",
     "status": "completed"
    },
    "tags": []
   },
   "outputs": [
    {
     "data": {
      "image/png": "[encoded data removed]",
      "text/plain": [
       "<Figure size 1080x576 with 1 Axes>"
      ]
     },
     "metadata": {
      "needs_background": "light"
     },
     "output_type": "display_data"
    }
   ],
   "source": [
    "plt.figure(figsize=(15, 8))\n",
    "sns.countplot(x=df[\"education_level\"],hue=df[\"target\"], data=df, palette='mako')\n",
    "plt.title('Education Level Comparison')\n",
    "plt.show()"
   ]
  },
  {
   "cell_type": "code",
   "execution_count": 46,
   "id": "5163f375",
   "metadata": {
    "execution": {
     "iopub.execute_input": "2021-12-08T14:44:17.048166Z",
     "iopub.status.busy": "2021-12-08T14:44:17.047054Z",
     "iopub.status.idle": "2021-12-08T14:44:17.068631Z",
     "shell.execute_reply": "2021-12-08T14:44:17.068081Z",
     "shell.execute_reply.started": "2021-12-08T11:11:04.823532Z"
    },
    "papermill": {
     "duration": 0.189404,
     "end_time": "2021-12-08T14:44:17.068787",
     "exception": false,
     "start_time": "2021-12-08T14:44:16.879383",
     "status": "completed"
    },
    "tags": []
   },
   "outputs": [
    {
     "data": {
      "text/html": [
       "<div>\n",
       "<style scoped>\n",
       "    .dataframe tbody tr th:only-of-type {\n",
       "        vertical-align: middle;\n",
       "    }\n",
       "\n",
       "    .dataframe tbody tr th {\n",
       "        vertical-align: top;\n",
       "    }\n",
       "\n",
       "    .dataframe thead th {\n",
       "        text-align: right;\n",
       "    }\n",
       "</style>\n",
       "<table border=\"1\" class=\"dataframe\">\n",
       "  <thead>\n",
       "    <tr style=\"text-align: right;\">\n",
       "      <th>target</th>\n",
       "      <th>0.0</th>\n",
       "      <th>1.0</th>\n",
       "    </tr>\n",
       "    <tr>\n",
       "      <th>education_level</th>\n",
       "      <th></th>\n",
       "      <th></th>\n",
       "    </tr>\n",
       "  </thead>\n",
       "  <tbody>\n",
       "    <tr>\n",
       "      <th>Graduate</th>\n",
       "      <td>72.21</td>\n",
       "      <td>27.79</td>\n",
       "    </tr>\n",
       "    <tr>\n",
       "      <th>Masters</th>\n",
       "      <td>78.54</td>\n",
       "      <td>21.46</td>\n",
       "    </tr>\n",
       "    <tr>\n",
       "      <th>High School</th>\n",
       "      <td>80.49</td>\n",
       "      <td>19.51</td>\n",
       "    </tr>\n",
       "    <tr>\n",
       "      <th>Phd</th>\n",
       "      <td>85.99</td>\n",
       "      <td>14.01</td>\n",
       "    </tr>\n",
       "    <tr>\n",
       "      <th>Primary School</th>\n",
       "      <td>86.56</td>\n",
       "      <td>13.44</td>\n",
       "    </tr>\n",
       "  </tbody>\n",
       "</table>\n",
       "</div>"
      ],
      "text/plain": [
       "target             0.0    1.0\n",
       "education_level              \n",
       "Graduate         72.21  27.79\n",
       "Masters          78.54  21.46\n",
       "High School      80.49  19.51\n",
       "Phd              85.99  14.01\n",
       "Primary School   86.56  13.44"
      ]
     },
     "execution_count": 46,
     "metadata": {},
     "output_type": "execute_result"
    }
   ],
   "source": [
    "Marital = ((pd.crosstab(index= df[\"education_level\"], columns= df[\"target\"], normalize=\"index\"))*100).round(2)\n",
    "Marital.sort_values(1,ascending=False)"
   ]
  },
  {
   "cell_type": "markdown",
   "id": "24bf9256",
   "metadata": {
    "papermill": {
     "duration": 0.156425,
     "end_time": "2021-12-08T14:44:17.382644",
     "exception": false,
     "start_time": "2021-12-08T14:44:17.226219",
     "status": "completed"
    },
    "tags": []
   },
   "source": [
    "大學畢業生是最想要換工作成為數據科學家的人"
   ]
  },
  {
   "cell_type": "markdown",
   "id": "717870b3",
   "metadata": {
    "papermill": {
     "duration": 0.157457,
     "end_time": "2021-12-08T14:44:17.697132",
     "exception": false,
     "start_time": "2021-12-08T14:44:17.539675",
     "status": "completed"
    },
    "tags": []
   },
   "source": [
    "## 7.major_discipline"
   ]
  },
  {
   "cell_type": "code",
   "execution_count": 47,
   "id": "b03d058a",
   "metadata": {
    "execution": {
     "iopub.execute_input": "2021-12-08T14:44:18.016021Z",
     "iopub.status.busy": "2021-12-08T14:44:18.015175Z",
     "iopub.status.idle": "2021-12-08T14:44:18.327545Z",
     "shell.execute_reply": "2021-12-08T14:44:18.326736Z",
     "shell.execute_reply.started": "2021-12-08T11:11:06.994187Z"
    },
    "papermill": {
     "duration": 0.473045,
     "end_time": "2021-12-08T14:44:18.327691",
     "exception": false,
     "start_time": "2021-12-08T14:44:17.854646",
     "status": "completed"
    },
    "tags": []
   },
   "outputs": [
    {
     "data": {
      "image/png": "[encoded data removed]",
      "text/plain": [
       "<Figure size 1080x576 with 1 Axes>"
      ]
     },
     "metadata": {
      "needs_background": "light"
     },
     "output_type": "display_data"
    }
   ],
   "source": [
    "plt.figure(figsize=(15, 8))\n",
    "sns.countplot(x=df[\"major_discipline\"],hue=df[\"target\"], data=df, palette='mako')\n",
    "plt.title('Major Discipline Comparison')\n",
    "plt.show()"
   ]
  },
  {
   "cell_type": "code",
   "execution_count": 48,
   "id": "d284e6e3",
   "metadata": {
    "execution": {
     "iopub.execute_input": "2021-12-08T14:44:18.648981Z",
     "iopub.status.busy": "2021-12-08T14:44:18.648277Z",
     "iopub.status.idle": "2021-12-08T14:44:18.673730Z",
     "shell.execute_reply": "2021-12-08T14:44:18.674188Z",
     "shell.execute_reply.started": "2021-12-08T11:11:09.832440Z"
    },
    "papermill": {
     "duration": 0.187818,
     "end_time": "2021-12-08T14:44:18.674399",
     "exception": false,
     "start_time": "2021-12-08T14:44:18.486581",
     "status": "completed"
    },
    "tags": []
   },
   "outputs": [
    {
     "data": {
      "text/html": [
       "<div>\n",
       "<style scoped>\n",
       "    .dataframe tbody tr th:only-of-type {\n",
       "        vertical-align: middle;\n",
       "    }\n",
       "\n",
       "    .dataframe tbody tr th {\n",
       "        vertical-align: top;\n",
       "    }\n",
       "\n",
       "    .dataframe thead th {\n",
       "        text-align: right;\n",
       "    }\n",
       "</style>\n",
       "<table border=\"1\" class=\"dataframe\">\n",
       "  <thead>\n",
       "    <tr style=\"text-align: right;\">\n",
       "      <th>target</th>\n",
       "      <th>0.0</th>\n",
       "      <th>1.0</th>\n",
       "    </tr>\n",
       "    <tr>\n",
       "      <th>major_discipline</th>\n",
       "      <th></th>\n",
       "      <th></th>\n",
       "    </tr>\n",
       "  </thead>\n",
       "  <tbody>\n",
       "    <tr>\n",
       "      <th>Other</th>\n",
       "      <td>73.23</td>\n",
       "      <td>26.77</td>\n",
       "    </tr>\n",
       "    <tr>\n",
       "      <th>Business Degree</th>\n",
       "      <td>73.70</td>\n",
       "      <td>26.30</td>\n",
       "    </tr>\n",
       "    <tr>\n",
       "      <th>STEM</th>\n",
       "      <td>74.91</td>\n",
       "      <td>25.09</td>\n",
       "    </tr>\n",
       "    <tr>\n",
       "      <th>No Major</th>\n",
       "      <td>75.34</td>\n",
       "      <td>24.66</td>\n",
       "    </tr>\n",
       "    <tr>\n",
       "      <th>Humanities</th>\n",
       "      <td>78.92</td>\n",
       "      <td>21.08</td>\n",
       "    </tr>\n",
       "    <tr>\n",
       "      <th>Arts</th>\n",
       "      <td>79.05</td>\n",
       "      <td>20.95</td>\n",
       "    </tr>\n",
       "  </tbody>\n",
       "</table>\n",
       "</div>"
      ],
      "text/plain": [
       "target              0.0    1.0\n",
       "major_discipline              \n",
       "Other             73.23  26.77\n",
       "Business Degree   73.70  26.30\n",
       "STEM              74.91  25.09\n",
       "No Major          75.34  24.66\n",
       "Humanities        78.92  21.08\n",
       "Arts              79.05  20.95"
      ]
     },
     "execution_count": 48,
     "metadata": {},
     "output_type": "execute_result"
    }
   ],
   "source": [
    "Marital = ((pd.crosstab(index= df[\"major_discipline\"], columns= df[\"target\"], normalize=\"index\"))*100).round(2)\n",
    "Marital.sort_values(1,ascending=False)"
   ]
  },
  {
   "cell_type": "markdown",
   "id": "06547837",
   "metadata": {
    "papermill": {
     "duration": 0.158575,
     "end_time": "2021-12-08T14:44:18.991270",
     "exception": false,
     "start_time": "2021-12-08T14:44:18.832695",
     "status": "completed"
    },
    "tags": []
   },
   "source": [
    "可以發現想要換工作的人與教育專業學科沒有關係。"
   ]
  },
  {
   "cell_type": "markdown",
   "id": "6a06a797",
   "metadata": {
    "papermill": {
     "duration": 0.159156,
     "end_time": "2021-12-08T14:44:19.310503",
     "exception": false,
     "start_time": "2021-12-08T14:44:19.151347",
     "status": "completed"
    },
    "tags": []
   },
   "source": [
    "## 8.experience"
   ]
  },
  {
   "cell_type": "code",
   "execution_count": 49,
   "id": "a43442b6",
   "metadata": {
    "execution": {
     "iopub.execute_input": "2021-12-08T14:44:19.629919Z",
     "iopub.status.busy": "2021-12-08T14:44:19.629222Z",
     "iopub.status.idle": "2021-12-08T14:44:19.638448Z",
     "shell.execute_reply": "2021-12-08T14:44:19.638927Z",
     "shell.execute_reply.started": "2021-12-08T11:11:12.095231Z"
    },
    "papermill": {
     "duration": 0.170435,
     "end_time": "2021-12-08T14:44:19.639093",
     "exception": false,
     "start_time": "2021-12-08T14:44:19.468658",
     "status": "completed"
    },
    "tags": []
   },
   "outputs": [
    {
     "data": {
      "text/plain": [
       ">20    3297\n",
       "5      1425\n",
       "4      1400\n",
       "3      1348\n",
       "6      1213\n",
       "2      1124\n",
       "7      1025\n",
       "10      981\n",
       "9       978\n",
       "8       800\n",
       "15      683\n",
       "11      664\n",
       "14      586\n",
       "1       548\n",
       "<1      519\n",
       "16      505\n",
       "12      492\n",
       "13      399\n",
       "17      342\n",
       "19      304\n",
       "18      280\n",
       "20      148\n",
       "Name: experience, dtype: int64"
      ]
     },
     "execution_count": 49,
     "metadata": {},
     "output_type": "execute_result"
    }
   ],
   "source": [
    "df['experience'].value_counts()"
   ]
  },
  {
   "cell_type": "code",
   "execution_count": 50,
   "id": "f29427e0",
   "metadata": {
    "execution": {
     "iopub.execute_input": "2021-12-08T14:44:19.960229Z",
     "iopub.status.busy": "2021-12-08T14:44:19.959214Z",
     "iopub.status.idle": "2021-12-08T14:44:19.968627Z",
     "shell.execute_reply": "2021-12-08T14:44:19.969093Z",
     "shell.execute_reply.started": "2021-12-08T11:11:14.302724Z"
    },
    "papermill": {
     "duration": 0.17186,
     "end_time": "2021-12-08T14:44:19.969265",
     "exception": false,
     "start_time": "2021-12-08T14:44:19.797405",
     "status": "completed"
    },
    "tags": []
   },
   "outputs": [],
   "source": [
    "df['experience'] =  df['experience'].replace({'<1' : '0','>20': '21'})"
   ]
  },
  {
   "cell_type": "code",
   "execution_count": 51,
   "id": "caf4417e",
   "metadata": {
    "execution": {
     "iopub.execute_input": "2021-12-08T14:44:20.298030Z",
     "iopub.status.busy": "2021-12-08T14:44:20.297127Z",
     "iopub.status.idle": "2021-12-08T14:44:20.301127Z",
     "shell.execute_reply": "2021-12-08T14:44:20.300658Z",
     "shell.execute_reply.started": "2021-12-08T11:11:19.403736Z"
    },
    "papermill": {
     "duration": 0.172647,
     "end_time": "2021-12-08T14:44:20.301275",
     "exception": false,
     "start_time": "2021-12-08T14:44:20.128628",
     "status": "completed"
    },
    "tags": []
   },
   "outputs": [
    {
     "data": {
      "text/plain": [
       "21    3297\n",
       "5     1425\n",
       "4     1400\n",
       "3     1348\n",
       "6     1213\n",
       "2     1124\n",
       "7     1025\n",
       "10     981\n",
       "9      978\n",
       "8      800\n",
       "15     683\n",
       "11     664\n",
       "14     586\n",
       "1      548\n",
       "0      519\n",
       "16     505\n",
       "12     492\n",
       "13     399\n",
       "17     342\n",
       "19     304\n",
       "18     280\n",
       "20     148\n",
       "Name: experience, dtype: int64"
      ]
     },
     "execution_count": 51,
     "metadata": {},
     "output_type": "execute_result"
    }
   ],
   "source": [
    "df['experience'].value_counts()"
   ]
  },
  {
   "cell_type": "code",
   "execution_count": 52,
   "id": "9f0fe2bc",
   "metadata": {
    "execution": {
     "iopub.execute_input": "2021-12-08T14:44:20.627370Z",
     "iopub.status.busy": "2021-12-08T14:44:20.626229Z",
     "iopub.status.idle": "2021-12-08T14:44:20.630487Z",
     "shell.execute_reply": "2021-12-08T14:44:20.629920Z",
     "shell.execute_reply.started": "2021-12-08T11:11:21.919212Z"
    },
    "papermill": {
     "duration": 0.170917,
     "end_time": "2021-12-08T14:44:20.630643",
     "exception": false,
     "start_time": "2021-12-08T14:44:20.459726",
     "status": "completed"
    },
    "tags": []
   },
   "outputs": [],
   "source": [
    "df['experience'] = df['experience'].astype('int64')"
   ]
  },
  {
   "cell_type": "code",
   "execution_count": 53,
   "id": "e1bcbbc7",
   "metadata": {
    "execution": {
     "iopub.execute_input": "2021-12-08T14:44:20.954934Z",
     "iopub.status.busy": "2021-12-08T14:44:20.953931Z",
     "iopub.status.idle": "2021-12-08T14:44:21.322650Z",
     "shell.execute_reply": "2021-12-08T14:44:21.323157Z",
     "shell.execute_reply.started": "2021-12-08T11:11:23.526262Z"
    },
    "papermill": {
     "duration": 0.533906,
     "end_time": "2021-12-08T14:44:21.323352",
     "exception": false,
     "start_time": "2021-12-08T14:44:20.789446",
     "status": "completed"
    },
    "tags": []
   },
   "outputs": [
    {
     "data": {
      "image/png": "[encoded data removed]",
      "text/plain": [
       "<Figure size 1080x576 with 1 Axes>"
      ]
     },
     "metadata": {
      "needs_background": "light"
     },
     "output_type": "display_data"
    }
   ],
   "source": [
    "plt.figure(figsize=(15, 8))\n",
    "sns.kdeplot(data=df, x=\"experience\", hue=\"target\",cut = 0,palette='GnBu')\n",
    "plt.title('Density Person change a job based on Year Experience')\n",
    "plt.show()"
   ]
  },
  {
   "cell_type": "markdown",
   "id": "49461aa2",
   "metadata": {
    "papermill": {
     "duration": 0.161088,
     "end_time": "2021-12-08T14:44:21.644895",
     "exception": false,
     "start_time": "2021-12-08T14:44:21.483807",
     "status": "completed"
    },
    "tags": []
   },
   "source": [
    "工作經驗1-5年的人想換工作的可能性更大"
   ]
  },
  {
   "cell_type": "code",
   "execution_count": 54,
   "id": "fd3f3215",
   "metadata": {
    "execution": {
     "iopub.execute_input": "2021-12-08T14:44:21.970841Z",
     "iopub.status.busy": "2021-12-08T14:44:21.969849Z",
     "iopub.status.idle": "2021-12-08T14:44:21.995050Z",
     "shell.execute_reply": "2021-12-08T14:44:21.995535Z",
     "shell.execute_reply.started": "2021-12-08T11:11:27.120341Z"
    },
    "papermill": {
     "duration": 0.191356,
     "end_time": "2021-12-08T14:44:21.995713",
     "exception": false,
     "start_time": "2021-12-08T14:44:21.804357",
     "status": "completed"
    },
    "tags": []
   },
   "outputs": [
    {
     "data": {
      "text/html": [
       "<div>\n",
       "<style scoped>\n",
       "    .dataframe tbody tr th:only-of-type {\n",
       "        vertical-align: middle;\n",
       "    }\n",
       "\n",
       "    .dataframe tbody tr th {\n",
       "        vertical-align: top;\n",
       "    }\n",
       "\n",
       "    .dataframe thead th {\n",
       "        text-align: right;\n",
       "    }\n",
       "</style>\n",
       "<table border=\"1\" class=\"dataframe\">\n",
       "  <thead>\n",
       "    <tr style=\"text-align: right;\">\n",
       "      <th>target</th>\n",
       "      <th>0.0</th>\n",
       "      <th>1.0</th>\n",
       "    </tr>\n",
       "    <tr>\n",
       "      <th>experience</th>\n",
       "      <th></th>\n",
       "      <th></th>\n",
       "    </tr>\n",
       "  </thead>\n",
       "  <tbody>\n",
       "    <tr>\n",
       "      <th>0</th>\n",
       "      <td>54.72</td>\n",
       "      <td>45.28</td>\n",
       "    </tr>\n",
       "    <tr>\n",
       "      <th>1</th>\n",
       "      <td>57.66</td>\n",
       "      <td>42.34</td>\n",
       "    </tr>\n",
       "    <tr>\n",
       "      <th>3</th>\n",
       "      <td>64.61</td>\n",
       "      <td>35.39</td>\n",
       "    </tr>\n",
       "    <tr>\n",
       "      <th>2</th>\n",
       "      <td>66.99</td>\n",
       "      <td>33.01</td>\n",
       "    </tr>\n",
       "    <tr>\n",
       "      <th>4</th>\n",
       "      <td>67.50</td>\n",
       "      <td>32.50</td>\n",
       "    </tr>\n",
       "    <tr>\n",
       "      <th>7</th>\n",
       "      <td>70.63</td>\n",
       "      <td>29.37</td>\n",
       "    </tr>\n",
       "    <tr>\n",
       "      <th>5</th>\n",
       "      <td>71.23</td>\n",
       "      <td>28.77</td>\n",
       "    </tr>\n",
       "    <tr>\n",
       "      <th>6</th>\n",
       "      <td>71.81</td>\n",
       "      <td>28.19</td>\n",
       "    </tr>\n",
       "    <tr>\n",
       "      <th>8</th>\n",
       "      <td>75.62</td>\n",
       "      <td>24.38</td>\n",
       "    </tr>\n",
       "    <tr>\n",
       "      <th>11</th>\n",
       "      <td>77.26</td>\n",
       "      <td>22.74</td>\n",
       "    </tr>\n",
       "    <tr>\n",
       "      <th>20</th>\n",
       "      <td>77.70</td>\n",
       "      <td>22.30</td>\n",
       "    </tr>\n",
       "    <tr>\n",
       "      <th>9</th>\n",
       "      <td>78.22</td>\n",
       "      <td>21.78</td>\n",
       "    </tr>\n",
       "    <tr>\n",
       "      <th>10</th>\n",
       "      <td>79.00</td>\n",
       "      <td>21.00</td>\n",
       "    </tr>\n",
       "    <tr>\n",
       "      <th>13</th>\n",
       "      <td>80.70</td>\n",
       "      <td>19.30</td>\n",
       "    </tr>\n",
       "    <tr>\n",
       "      <th>12</th>\n",
       "      <td>81.30</td>\n",
       "      <td>18.70</td>\n",
       "    </tr>\n",
       "    <tr>\n",
       "      <th>14</th>\n",
       "      <td>81.74</td>\n",
       "      <td>18.26</td>\n",
       "    </tr>\n",
       "    <tr>\n",
       "      <th>19</th>\n",
       "      <td>82.57</td>\n",
       "      <td>17.43</td>\n",
       "    </tr>\n",
       "    <tr>\n",
       "      <th>15</th>\n",
       "      <td>83.31</td>\n",
       "      <td>16.69</td>\n",
       "    </tr>\n",
       "    <tr>\n",
       "      <th>17</th>\n",
       "      <td>83.33</td>\n",
       "      <td>16.67</td>\n",
       "    </tr>\n",
       "    <tr>\n",
       "      <th>21</th>\n",
       "      <td>84.29</td>\n",
       "      <td>15.71</td>\n",
       "    </tr>\n",
       "    <tr>\n",
       "      <th>18</th>\n",
       "      <td>84.64</td>\n",
       "      <td>15.36</td>\n",
       "    </tr>\n",
       "    <tr>\n",
       "      <th>16</th>\n",
       "      <td>85.74</td>\n",
       "      <td>14.26</td>\n",
       "    </tr>\n",
       "  </tbody>\n",
       "</table>\n",
       "</div>"
      ],
      "text/plain": [
       "target        0.0    1.0\n",
       "experience              \n",
       "0           54.72  45.28\n",
       "1           57.66  42.34\n",
       "3           64.61  35.39\n",
       "2           66.99  33.01\n",
       "4           67.50  32.50\n",
       "7           70.63  29.37\n",
       "5           71.23  28.77\n",
       "6           71.81  28.19\n",
       "8           75.62  24.38\n",
       "11          77.26  22.74\n",
       "20          77.70  22.30\n",
       "9           78.22  21.78\n",
       "10          79.00  21.00\n",
       "13          80.70  19.30\n",
       "12          81.30  18.70\n",
       "14          81.74  18.26\n",
       "19          82.57  17.43\n",
       "15          83.31  16.69\n",
       "17          83.33  16.67\n",
       "21          84.29  15.71\n",
       "18          84.64  15.36\n",
       "16          85.74  14.26"
      ]
     },
     "execution_count": 54,
     "metadata": {},
     "output_type": "execute_result"
    }
   ],
   "source": [
    "Marital = ((pd.crosstab(index= df[\"experience\"], columns= df[\"target\"], normalize=\"index\"))*100).round(2)\n",
    "Marital.sort_values(1,ascending=False)"
   ]
  },
  {
   "cell_type": "markdown",
   "id": "7e312b89",
   "metadata": {
    "papermill": {
     "duration": 0.162949,
     "end_time": "2021-12-08T14:44:22.329106",
     "exception": false,
     "start_time": "2021-12-08T14:44:22.166157",
     "status": "completed"
    },
    "tags": []
   },
   "source": [
    "## 9.company_size"
   ]
  },
  {
   "cell_type": "code",
   "execution_count": 55,
   "id": "0d666418",
   "metadata": {
    "execution": {
     "iopub.execute_input": "2021-12-08T14:44:22.661035Z",
     "iopub.status.busy": "2021-12-08T14:44:22.659986Z",
     "iopub.status.idle": "2021-12-08T14:44:22.664490Z",
     "shell.execute_reply": "2021-12-08T14:44:22.663824Z",
     "shell.execute_reply.started": "2021-12-08T11:11:58.833883Z"
    },
    "papermill": {
     "duration": 0.175286,
     "end_time": "2021-12-08T14:44:22.664647",
     "exception": false,
     "start_time": "2021-12-08T14:44:22.489361",
     "status": "completed"
    },
    "tags": []
   },
   "outputs": [
    {
     "data": {
      "text/plain": [
       "50-99        8962\n",
       "100-500      2558\n",
       "10000+       2004\n",
       "10/49        1469\n",
       "1000-4999    1322\n",
       "<10          1308\n",
       "500-999       877\n",
       "5000-9999     561\n",
       "Name: company_size, dtype: int64"
      ]
     },
     "execution_count": 55,
     "metadata": {},
     "output_type": "execute_result"
    }
   ],
   "source": [
    "df['company_size'].value_counts()"
   ]
  },
  {
   "cell_type": "code",
   "execution_count": 56,
   "id": "0c6528f2",
   "metadata": {
    "execution": {
     "iopub.execute_input": "2021-12-08T14:44:22.993601Z",
     "iopub.status.busy": "2021-12-08T14:44:22.992892Z",
     "iopub.status.idle": "2021-12-08T14:44:22.994803Z",
     "shell.execute_reply": "2021-12-08T14:44:22.995241Z",
     "shell.execute_reply.started": "2021-12-08T11:12:00.440538Z"
    },
    "papermill": {
     "duration": 0.16862,
     "end_time": "2021-12-08T14:44:22.995436",
     "exception": false,
     "start_time": "2021-12-08T14:44:22.826816",
     "status": "completed"
    },
    "tags": []
   },
   "outputs": [],
   "source": [
    "company_size_mapping = {'<10': 1,'10/49': 2,'50-99': 3, '100-500': 4,'500-999': 5,'1000-4999': 6,'5000-9999': 7,'10000+': 8}"
   ]
  },
  {
   "cell_type": "code",
   "execution_count": 57,
   "id": "9021ab67",
   "metadata": {
    "execution": {
     "iopub.execute_input": "2021-12-08T14:44:23.397137Z",
     "iopub.status.busy": "2021-12-08T14:44:23.396159Z",
     "iopub.status.idle": "2021-12-08T14:44:23.404554Z",
     "shell.execute_reply": "2021-12-08T14:44:23.405102Z",
     "shell.execute_reply.started": "2021-12-08T11:12:02.905922Z"
    },
    "papermill": {
     "duration": 0.241867,
     "end_time": "2021-12-08T14:44:23.405276",
     "exception": false,
     "start_time": "2021-12-08T14:44:23.163409",
     "status": "completed"
    },
    "tags": []
   },
   "outputs": [],
   "source": [
    "df['company_size'] = df['company_size'].map(company_size_mapping)"
   ]
  },
  {
   "cell_type": "code",
   "execution_count": 58,
   "id": "3ed0da43",
   "metadata": {
    "execution": {
     "iopub.execute_input": "2021-12-08T14:44:23.797628Z",
     "iopub.status.busy": "2021-12-08T14:44:23.796449Z",
     "iopub.status.idle": "2021-12-08T14:44:24.207708Z",
     "shell.execute_reply": "2021-12-08T14:44:24.208209Z",
     "shell.execute_reply.started": "2021-12-08T11:12:06.198957Z"
    },
    "papermill": {
     "duration": 0.592923,
     "end_time": "2021-12-08T14:44:24.208411",
     "exception": false,
     "start_time": "2021-12-08T14:44:23.615488",
     "status": "completed"
    },
    "tags": []
   },
   "outputs": [
    {
     "data": {
      "image/png": "[encoded data removed]",
      "text/plain": [
       "<Figure size 1080x576 with 1 Axes>"
      ]
     },
     "metadata": {
      "needs_background": "light"
     },
     "output_type": "display_data"
    }
   ],
   "source": [
    "plt.figure(figsize=(15, 8))\n",
    "sns.kdeplot(data=df, x=\"company_size\", hue=\"target\",cut = 0,palette='mako')\n",
    "plt.title('Density Person change a job based on Company Size')\n",
    "plt.show()"
   ]
  },
  {
   "cell_type": "markdown",
   "id": "8c21fce1",
   "metadata": {
    "papermill": {
     "duration": 0.162185,
     "end_time": "2021-12-08T14:44:24.534828",
     "exception": false,
     "start_time": "2021-12-08T14:44:24.372643",
     "status": "completed"
    },
    "tags": []
   },
   "source": [
    "50-99 人的公司規模 3 級工作的人換工作的密度最高"
   ]
  },
  {
   "cell_type": "code",
   "execution_count": 59,
   "id": "eec7f5ec",
   "metadata": {
    "execution": {
     "iopub.execute_input": "2021-12-08T14:44:24.875598Z",
     "iopub.status.busy": "2021-12-08T14:44:24.874537Z",
     "iopub.status.idle": "2021-12-08T14:44:24.898303Z",
     "shell.execute_reply": "2021-12-08T14:44:24.898808Z",
     "shell.execute_reply.started": "2021-12-08T11:12:13.186542Z"
    },
    "papermill": {
     "duration": 0.196471,
     "end_time": "2021-12-08T14:44:24.898987",
     "exception": false,
     "start_time": "2021-12-08T14:44:24.702516",
     "status": "completed"
    },
    "tags": []
   },
   "outputs": [
    {
     "data": {
      "text/html": [
       "<div>\n",
       "<style scoped>\n",
       "    .dataframe tbody tr th:only-of-type {\n",
       "        vertical-align: middle;\n",
       "    }\n",
       "\n",
       "    .dataframe tbody tr th {\n",
       "        vertical-align: top;\n",
       "    }\n",
       "\n",
       "    .dataframe thead th {\n",
       "        text-align: right;\n",
       "    }\n",
       "</style>\n",
       "<table border=\"1\" class=\"dataframe\">\n",
       "  <thead>\n",
       "    <tr style=\"text-align: right;\">\n",
       "      <th>target</th>\n",
       "      <th>0.0</th>\n",
       "      <th>1.0</th>\n",
       "    </tr>\n",
       "    <tr>\n",
       "      <th>company_size</th>\n",
       "      <th></th>\n",
       "      <th></th>\n",
       "    </tr>\n",
       "  </thead>\n",
       "  <tbody>\n",
       "    <tr>\n",
       "      <th>3</th>\n",
       "      <td>67.22</td>\n",
       "      <td>32.78</td>\n",
       "    </tr>\n",
       "    <tr>\n",
       "      <th>2</th>\n",
       "      <td>76.58</td>\n",
       "      <td>23.42</td>\n",
       "    </tr>\n",
       "    <tr>\n",
       "      <th>8</th>\n",
       "      <td>80.89</td>\n",
       "      <td>19.11</td>\n",
       "    </tr>\n",
       "    <tr>\n",
       "      <th>7</th>\n",
       "      <td>81.82</td>\n",
       "      <td>18.18</td>\n",
       "    </tr>\n",
       "    <tr>\n",
       "      <th>5</th>\n",
       "      <td>82.67</td>\n",
       "      <td>17.33</td>\n",
       "    </tr>\n",
       "    <tr>\n",
       "      <th>1</th>\n",
       "      <td>82.87</td>\n",
       "      <td>17.13</td>\n",
       "    </tr>\n",
       "    <tr>\n",
       "      <th>4</th>\n",
       "      <td>83.93</td>\n",
       "      <td>16.07</td>\n",
       "    </tr>\n",
       "    <tr>\n",
       "      <th>6</th>\n",
       "      <td>84.87</td>\n",
       "      <td>15.13</td>\n",
       "    </tr>\n",
       "  </tbody>\n",
       "</table>\n",
       "</div>"
      ],
      "text/plain": [
       "target          0.0    1.0\n",
       "company_size              \n",
       "3             67.22  32.78\n",
       "2             76.58  23.42\n",
       "8             80.89  19.11\n",
       "7             81.82  18.18\n",
       "5             82.67  17.33\n",
       "1             82.87  17.13\n",
       "4             83.93  16.07\n",
       "6             84.87  15.13"
      ]
     },
     "execution_count": 59,
     "metadata": {},
     "output_type": "execute_result"
    }
   ],
   "source": [
    "Marital = ((pd.crosstab(index= df[\"company_size\"], columns= df[\"target\"], normalize=\"index\"))*100).round(2)\n",
    "Marital.sort_values(1,ascending=False)"
   ]
  },
  {
   "cell_type": "markdown",
   "id": "f085ed80",
   "metadata": {
    "papermill": {
     "duration": 0.166766,
     "end_time": "2021-12-08T14:44:25.230145",
     "exception": false,
     "start_time": "2021-12-08T14:44:25.063379",
     "status": "completed"
    },
    "tags": []
   },
   "source": [
    "## 10.company_type"
   ]
  },
  {
   "cell_type": "code",
   "execution_count": 60,
   "id": "9ce186f4",
   "metadata": {
    "execution": {
     "iopub.execute_input": "2021-12-08T14:44:25.572526Z",
     "iopub.status.busy": "2021-12-08T14:44:25.571871Z",
     "iopub.status.idle": "2021-12-08T14:44:25.574258Z",
     "shell.execute_reply": "2021-12-08T14:44:25.574750Z",
     "shell.execute_reply.started": "2021-12-08T11:12:18.454144Z"
    },
    "papermill": {
     "duration": 0.175456,
     "end_time": "2021-12-08T14:44:25.574911",
     "exception": false,
     "start_time": "2021-12-08T14:44:25.399455",
     "status": "completed"
    },
    "tags": []
   },
   "outputs": [
    {
     "data": {
      "text/plain": [
       "Pvt Ltd                15863\n",
       "Funded Startup          1000\n",
       "Public Sector            953\n",
       "Early Stage Startup      603\n",
       "NGO                      521\n",
       "Other                    121\n",
       "Name: company_type, dtype: int64"
      ]
     },
     "execution_count": 60,
     "metadata": {},
     "output_type": "execute_result"
    }
   ],
   "source": [
    "df['company_type'].value_counts()"
   ]
  },
  {
   "cell_type": "code",
   "execution_count": 61,
   "id": "e444be18",
   "metadata": {
    "execution": {
     "iopub.execute_input": "2021-12-08T14:44:25.908075Z",
     "iopub.status.busy": "2021-12-08T14:44:25.907430Z",
     "iopub.status.idle": "2021-12-08T14:44:26.211142Z",
     "shell.execute_reply": "2021-12-08T14:44:26.211629Z",
     "shell.execute_reply.started": "2021-12-08T11:12:20.455335Z"
    },
    "papermill": {
     "duration": 0.472722,
     "end_time": "2021-12-08T14:44:26.211808",
     "exception": false,
     "start_time": "2021-12-08T14:44:25.739086",
     "status": "completed"
    },
    "tags": []
   },
   "outputs": [
    {
     "data": {
      "image/png": "[encoded data removed]",
      "text/plain": [
       "<Figure size 1080x576 with 1 Axes>"
      ]
     },
     "metadata": {
      "needs_background": "light"
     },
     "output_type": "display_data"
    }
   ],
   "source": [
    "plt.figure(figsize=(15, 8))\n",
    "sns.countplot(x=df[\"company_type\"],hue=df[\"target\"], data=df, palette='mako')\n",
    "plt.title('Company Type Comparison')\n",
    "plt.show()"
   ]
  },
  {
   "cell_type": "code",
   "execution_count": 62,
   "id": "231e1c3d",
   "metadata": {
    "execution": {
     "iopub.execute_input": "2021-12-08T14:44:26.544962Z",
     "iopub.status.busy": "2021-12-08T14:44:26.544200Z",
     "iopub.status.idle": "2021-12-08T14:44:26.570783Z",
     "shell.execute_reply": "2021-12-08T14:44:26.571389Z",
     "shell.execute_reply.started": "2021-12-08T11:12:23.237176Z"
    },
    "papermill": {
     "duration": 0.196071,
     "end_time": "2021-12-08T14:44:26.571566",
     "exception": false,
     "start_time": "2021-12-08T14:44:26.375495",
     "status": "completed"
    },
    "tags": []
   },
   "outputs": [
    {
     "data": {
      "text/html": [
       "<div>\n",
       "<style scoped>\n",
       "    .dataframe tbody tr th:only-of-type {\n",
       "        vertical-align: middle;\n",
       "    }\n",
       "\n",
       "    .dataframe tbody tr th {\n",
       "        vertical-align: top;\n",
       "    }\n",
       "\n",
       "    .dataframe thead th {\n",
       "        text-align: right;\n",
       "    }\n",
       "</style>\n",
       "<table border=\"1\" class=\"dataframe\">\n",
       "  <thead>\n",
       "    <tr style=\"text-align: right;\">\n",
       "      <th>target</th>\n",
       "      <th>0.0</th>\n",
       "      <th>1.0</th>\n",
       "    </tr>\n",
       "    <tr>\n",
       "      <th>company_type</th>\n",
       "      <th></th>\n",
       "      <th></th>\n",
       "    </tr>\n",
       "  </thead>\n",
       "  <tbody>\n",
       "    <tr>\n",
       "      <th>Pvt Ltd</th>\n",
       "      <td>73.93</td>\n",
       "      <td>26.07</td>\n",
       "    </tr>\n",
       "    <tr>\n",
       "      <th>Other</th>\n",
       "      <td>76.03</td>\n",
       "      <td>23.97</td>\n",
       "    </tr>\n",
       "    <tr>\n",
       "      <th>Early Stage Startup</th>\n",
       "      <td>76.45</td>\n",
       "      <td>23.55</td>\n",
       "    </tr>\n",
       "    <tr>\n",
       "      <th>Public Sector</th>\n",
       "      <td>77.96</td>\n",
       "      <td>22.04</td>\n",
       "    </tr>\n",
       "    <tr>\n",
       "      <th>NGO</th>\n",
       "      <td>81.38</td>\n",
       "      <td>18.62</td>\n",
       "    </tr>\n",
       "    <tr>\n",
       "      <th>Funded Startup</th>\n",
       "      <td>86.00</td>\n",
       "      <td>14.00</td>\n",
       "    </tr>\n",
       "  </tbody>\n",
       "</table>\n",
       "</div>"
      ],
      "text/plain": [
       "target                 0.0    1.0\n",
       "company_type                     \n",
       "Pvt Ltd              73.93  26.07\n",
       "Other                76.03  23.97\n",
       "Early Stage Startup  76.45  23.55\n",
       "Public Sector        77.96  22.04\n",
       "NGO                  81.38  18.62\n",
       "Funded Startup       86.00  14.00"
      ]
     },
     "execution_count": 62,
     "metadata": {},
     "output_type": "execute_result"
    }
   ],
   "source": [
    "Marital = ((pd.crosstab(index= df[\"company_type\"], columns= df[\"target\"], normalize=\"index\"))*100).round(2)\n",
    "Marital.sort_values(1,ascending=False)"
   ]
  },
  {
   "cell_type": "markdown",
   "id": "4d681a9b",
   "metadata": {
    "papermill": {
     "duration": 0.166182,
     "end_time": "2021-12-08T14:44:26.902971",
     "exception": false,
     "start_time": "2021-12-08T14:44:26.736789",
     "status": "completed"
    },
    "tags": []
   },
   "source": [
    "在私人公司工作的人換工作的人比例最高"
   ]
  },
  {
   "cell_type": "markdown",
   "id": "969fe69e",
   "metadata": {
    "papermill": {
     "duration": 0.169725,
     "end_time": "2021-12-08T14:44:27.239606",
     "exception": false,
     "start_time": "2021-12-08T14:44:27.069881",
     "status": "completed"
    },
    "tags": []
   },
   "source": [
    "## 11.last_new_job "
   ]
  },
  {
   "cell_type": "code",
   "execution_count": 63,
   "id": "00baad81",
   "metadata": {
    "execution": {
     "iopub.execute_input": "2021-12-08T14:44:27.573115Z",
     "iopub.status.busy": "2021-12-08T14:44:27.572464Z",
     "iopub.status.idle": "2021-12-08T14:44:27.581425Z",
     "shell.execute_reply": "2021-12-08T14:44:27.581974Z",
     "shell.execute_reply.started": "2021-12-08T11:12:25.519465Z"
    },
    "papermill": {
     "duration": 0.177042,
     "end_time": "2021-12-08T14:44:27.582147",
     "exception": false,
     "start_time": "2021-12-08T14:44:27.405105",
     "status": "completed"
    },
    "tags": []
   },
   "outputs": [
    {
     "data": {
      "text/plain": [
       "1        8433\n",
       ">4       3254\n",
       "2        2887\n",
       "never    2436\n",
       "4        1029\n",
       "3        1022\n",
       "Name: last_new_job, dtype: int64"
      ]
     },
     "execution_count": 63,
     "metadata": {},
     "output_type": "execute_result"
    }
   ],
   "source": [
    "df['last_new_job'].value_counts()"
   ]
  },
  {
   "cell_type": "code",
   "execution_count": 64,
   "id": "6d096c9e",
   "metadata": {
    "execution": {
     "iopub.execute_input": "2021-12-08T14:44:27.919307Z",
     "iopub.status.busy": "2021-12-08T14:44:27.918626Z",
     "iopub.status.idle": "2021-12-08T14:44:28.220723Z",
     "shell.execute_reply": "2021-12-08T14:44:28.221259Z",
     "shell.execute_reply.started": "2021-12-08T11:12:27.318510Z"
    },
    "papermill": {
     "duration": 0.471338,
     "end_time": "2021-12-08T14:44:28.221456",
     "exception": false,
     "start_time": "2021-12-08T14:44:27.750118",
     "status": "completed"
    },
    "tags": []
   },
   "outputs": [
    {
     "data": {
      "image/png": "[encoded data removed]",
      "text/plain": [
       "<Figure size 1080x576 with 1 Axes>"
      ]
     },
     "metadata": {
      "needs_background": "light"
     },
     "output_type": "display_data"
    }
   ],
   "source": [
    "plt.figure(figsize=(15, 8))\n",
    "sns.countplot(x=df[\"last_new_job\"],hue=df[\"target\"], data=df, palette='mako')\n",
    "plt.title('Years in Last Job Comparison')\n",
    "plt.show()"
   ]
  },
  {
   "cell_type": "code",
   "execution_count": 65,
   "id": "6a146eb3",
   "metadata": {
    "execution": {
     "iopub.execute_input": "2021-12-08T14:44:28.558000Z",
     "iopub.status.busy": "2021-12-08T14:44:28.557402Z",
     "iopub.status.idle": "2021-12-08T14:44:28.582681Z",
     "shell.execute_reply": "2021-12-08T14:44:28.583127Z",
     "shell.execute_reply.started": "2021-12-08T11:12:30.031847Z"
    },
    "papermill": {
     "duration": 0.195584,
     "end_time": "2021-12-08T14:44:28.583331",
     "exception": false,
     "start_time": "2021-12-08T14:44:28.387747",
     "status": "completed"
    },
    "tags": []
   },
   "outputs": [
    {
     "data": {
      "text/html": [
       "<div>\n",
       "<style scoped>\n",
       "    .dataframe tbody tr th:only-of-type {\n",
       "        vertical-align: middle;\n",
       "    }\n",
       "\n",
       "    .dataframe tbody tr th {\n",
       "        vertical-align: top;\n",
       "    }\n",
       "\n",
       "    .dataframe thead th {\n",
       "        text-align: right;\n",
       "    }\n",
       "</style>\n",
       "<table border=\"1\" class=\"dataframe\">\n",
       "  <thead>\n",
       "    <tr style=\"text-align: right;\">\n",
       "      <th>target</th>\n",
       "      <th>0.0</th>\n",
       "      <th>1.0</th>\n",
       "    </tr>\n",
       "    <tr>\n",
       "      <th>last_new_job</th>\n",
       "      <th></th>\n",
       "      <th></th>\n",
       "    </tr>\n",
       "  </thead>\n",
       "  <tbody>\n",
       "    <tr>\n",
       "      <th>never</th>\n",
       "      <td>69.91</td>\n",
       "      <td>30.09</td>\n",
       "    </tr>\n",
       "    <tr>\n",
       "      <th>1</th>\n",
       "      <td>73.06</td>\n",
       "      <td>26.94</td>\n",
       "    </tr>\n",
       "    <tr>\n",
       "      <th>2</th>\n",
       "      <td>75.86</td>\n",
       "      <td>24.14</td>\n",
       "    </tr>\n",
       "    <tr>\n",
       "      <th>3</th>\n",
       "      <td>77.59</td>\n",
       "      <td>22.41</td>\n",
       "    </tr>\n",
       "    <tr>\n",
       "      <th>4</th>\n",
       "      <td>77.84</td>\n",
       "      <td>22.16</td>\n",
       "    </tr>\n",
       "    <tr>\n",
       "      <th>&gt;4</th>\n",
       "      <td>81.71</td>\n",
       "      <td>18.29</td>\n",
       "    </tr>\n",
       "  </tbody>\n",
       "</table>\n",
       "</div>"
      ],
      "text/plain": [
       "target          0.0    1.0\n",
       "last_new_job              \n",
       "never         69.91  30.09\n",
       "1             73.06  26.94\n",
       "2             75.86  24.14\n",
       "3             77.59  22.41\n",
       "4             77.84  22.16\n",
       ">4            81.71  18.29"
      ]
     },
     "execution_count": 65,
     "metadata": {},
     "output_type": "execute_result"
    }
   ],
   "source": [
    "Marital = ((pd.crosstab(index= df[\"last_new_job\"], columns= df[\"target\"], normalize=\"index\"))*100).round(2)\n",
    "Marital.sort_values(1,ascending=False)"
   ]
  },
  {
   "cell_type": "markdown",
   "id": "cbe78dca",
   "metadata": {
    "papermill": {
     "duration": 0.167871,
     "end_time": "2021-12-08T14:44:28.917346",
     "exception": false,
     "start_time": "2021-12-08T14:44:28.749475",
     "status": "completed"
    },
    "tags": []
   },
   "source": [
    "從未有過工作和剛畢業的人在學習完課程後往往會成為數據科學家。"
   ]
  },
  {
   "cell_type": "markdown",
   "id": "296526b5",
   "metadata": {
    "papermill": {
     "duration": 0.165624,
     "end_time": "2021-12-08T14:44:29.250453",
     "exception": false,
     "start_time": "2021-12-08T14:44:29.084829",
     "status": "completed"
    },
    "tags": []
   },
   "source": [
    "## 12.training_hours "
   ]
  },
  {
   "cell_type": "code",
   "execution_count": 66,
   "id": "97e7f2b5",
   "metadata": {
    "execution": {
     "iopub.execute_input": "2021-12-08T14:44:29.586218Z",
     "iopub.status.busy": "2021-12-08T14:44:29.585251Z",
     "iopub.status.idle": "2021-12-08T14:44:29.969511Z",
     "shell.execute_reply": "2021-12-08T14:44:29.968876Z",
     "shell.execute_reply.started": "2021-12-08T11:12:33.829851Z"
    },
    "papermill": {
     "duration": 0.553308,
     "end_time": "2021-12-08T14:44:29.969654",
     "exception": false,
     "start_time": "2021-12-08T14:44:29.416346",
     "status": "completed"
    },
    "tags": []
   },
   "outputs": [
    {
     "data": {
      "image/png": "[encoded data removed]",
      "text/plain": [
       "<Figure size 1080x576 with 1 Axes>"
      ]
     },
     "metadata": {
      "needs_background": "light"
     },
     "output_type": "display_data"
    }
   ],
   "source": [
    "plt.figure(figsize=(15, 8))\n",
    "sns.kdeplot(data=df, x=\"training_hours\", hue=\"target\",cut = 0,palette='mako')\n",
    "plt.title('Density Person change a job based on Trainig Hours Taken')\n",
    "plt.show()"
   ]
  },
  {
   "cell_type": "markdown",
   "id": "95ff0e15",
   "metadata": {
    "papermill": {
     "duration": 0.167875,
     "end_time": "2021-12-08T14:44:30.306796",
     "exception": false,
     "start_time": "2021-12-08T14:44:30.138921",
     "status": "completed"
    },
    "tags": []
   },
   "source": [
    "接受長達 25 小時培訓的人，他們傾向工作轉變為數據科學家"
   ]
  },
  {
   "cell_type": "code",
   "execution_count": 67,
   "id": "e035d41b",
   "metadata": {
    "execution": {
     "iopub.execute_input": "2021-12-08T14:44:31.660932Z",
     "iopub.status.busy": "2021-12-08T14:44:31.658768Z",
     "iopub.status.idle": "2021-12-08T14:44:31.667279Z",
     "shell.execute_reply": "2021-12-08T14:44:31.667929Z",
     "shell.execute_reply.started": "2021-12-08T11:12:38.125135Z"
    },
    "papermill": {
     "duration": 0.180364,
     "end_time": "2021-12-08T14:44:31.668111",
     "exception": false,
     "start_time": "2021-12-08T14:44:31.487747",
     "status": "completed"
    },
    "tags": []
   },
   "outputs": [],
   "source": [
    "#刪除不具有影響的因子-性別和學術專業\n",
    "df = df.drop(columns=[\"gender\"])\n",
    "df = df.drop(columns=[\"major_discipline\"])"
   ]
  },
  {
   "cell_type": "code",
   "execution_count": 68,
   "id": "a115c9ae",
   "metadata": {
    "execution": {
     "iopub.execute_input": "2021-12-08T14:44:32.023732Z",
     "iopub.status.busy": "2021-12-08T14:44:32.022815Z",
     "iopub.status.idle": "2021-12-08T14:44:32.026331Z",
     "shell.execute_reply": "2021-12-08T14:44:32.026821Z",
     "shell.execute_reply.started": "2021-12-08T11:12:42.678080Z"
    },
    "papermill": {
     "duration": 0.18895,
     "end_time": "2021-12-08T14:44:32.026988",
     "exception": false,
     "start_time": "2021-12-08T14:44:31.838038",
     "status": "completed"
    },
    "tags": []
   },
   "outputs": [
    {
     "data": {
      "text/html": [
       "<div>\n",
       "<style scoped>\n",
       "    .dataframe tbody tr th:only-of-type {\n",
       "        vertical-align: middle;\n",
       "    }\n",
       "\n",
       "    .dataframe tbody tr th {\n",
       "        vertical-align: top;\n",
       "    }\n",
       "\n",
       "    .dataframe thead th {\n",
       "        text-align: right;\n",
       "    }\n",
       "</style>\n",
       "<table border=\"1\" class=\"dataframe\">\n",
       "  <thead>\n",
       "    <tr style=\"text-align: right;\">\n",
       "      <th></th>\n",
       "      <th>city</th>\n",
       "      <th>city_development_index</th>\n",
       "      <th>relevent_experience</th>\n",
       "      <th>enrolled_university</th>\n",
       "      <th>education_level</th>\n",
       "      <th>experience</th>\n",
       "      <th>company_size</th>\n",
       "      <th>company_type</th>\n",
       "      <th>last_new_job</th>\n",
       "      <th>training_hours</th>\n",
       "      <th>target</th>\n",
       "    </tr>\n",
       "  </thead>\n",
       "  <tbody>\n",
       "    <tr>\n",
       "      <th>0</th>\n",
       "      <td>103</td>\n",
       "      <td>0.920</td>\n",
       "      <td>1</td>\n",
       "      <td>no_enrollment</td>\n",
       "      <td>Graduate</td>\n",
       "      <td>21</td>\n",
       "      <td>3</td>\n",
       "      <td>Pvt Ltd</td>\n",
       "      <td>1</td>\n",
       "      <td>36</td>\n",
       "      <td>1.0</td>\n",
       "    </tr>\n",
       "    <tr>\n",
       "      <th>1</th>\n",
       "      <td>40</td>\n",
       "      <td>0.776</td>\n",
       "      <td>0</td>\n",
       "      <td>no_enrollment</td>\n",
       "      <td>Graduate</td>\n",
       "      <td>15</td>\n",
       "      <td>3</td>\n",
       "      <td>Pvt Ltd</td>\n",
       "      <td>&gt;4</td>\n",
       "      <td>47</td>\n",
       "      <td>0.0</td>\n",
       "    </tr>\n",
       "    <tr>\n",
       "      <th>2</th>\n",
       "      <td>21</td>\n",
       "      <td>0.624</td>\n",
       "      <td>0</td>\n",
       "      <td>Full time course</td>\n",
       "      <td>Graduate</td>\n",
       "      <td>5</td>\n",
       "      <td>3</td>\n",
       "      <td>Pvt Ltd</td>\n",
       "      <td>never</td>\n",
       "      <td>83</td>\n",
       "      <td>0.0</td>\n",
       "    </tr>\n",
       "    <tr>\n",
       "      <th>3</th>\n",
       "      <td>115</td>\n",
       "      <td>0.789</td>\n",
       "      <td>0</td>\n",
       "      <td>no_enrollment</td>\n",
       "      <td>Graduate</td>\n",
       "      <td>0</td>\n",
       "      <td>3</td>\n",
       "      <td>Pvt Ltd</td>\n",
       "      <td>never</td>\n",
       "      <td>52</td>\n",
       "      <td>1.0</td>\n",
       "    </tr>\n",
       "    <tr>\n",
       "      <th>4</th>\n",
       "      <td>162</td>\n",
       "      <td>0.767</td>\n",
       "      <td>1</td>\n",
       "      <td>no_enrollment</td>\n",
       "      <td>Masters</td>\n",
       "      <td>21</td>\n",
       "      <td>3</td>\n",
       "      <td>Funded Startup</td>\n",
       "      <td>4</td>\n",
       "      <td>8</td>\n",
       "      <td>0.0</td>\n",
       "    </tr>\n",
       "  </tbody>\n",
       "</table>\n",
       "</div>"
      ],
      "text/plain": [
       "   city  city_development_index  relevent_experience enrolled_university  \\\n",
       "0   103                   0.920                    1       no_enrollment   \n",
       "1    40                   0.776                    0       no_enrollment   \n",
       "2    21                   0.624                    0    Full time course   \n",
       "3   115                   0.789                    0       no_enrollment   \n",
       "4   162                   0.767                    1       no_enrollment   \n",
       "\n",
       "  education_level  experience  company_size    company_type last_new_job  \\\n",
       "0        Graduate          21             3         Pvt Ltd            1   \n",
       "1        Graduate          15             3         Pvt Ltd           >4   \n",
       "2        Graduate           5             3         Pvt Ltd        never   \n",
       "3        Graduate           0             3         Pvt Ltd        never   \n",
       "4         Masters          21             3  Funded Startup            4   \n",
       "\n",
       "   training_hours  target  \n",
       "0              36     1.0  \n",
       "1              47     0.0  \n",
       "2              83     0.0  \n",
       "3              52     1.0  \n",
       "4               8     0.0  "
      ]
     },
     "execution_count": 68,
     "metadata": {},
     "output_type": "execute_result"
    }
   ],
   "source": [
    "df.head()"
   ]
  },
  {
   "cell_type": "code",
   "execution_count": 69,
   "id": "028a8cc8",
   "metadata": {
    "execution": {
     "iopub.execute_input": "2021-12-08T14:44:32.371429Z",
     "iopub.status.busy": "2021-12-08T14:44:32.370734Z",
     "iopub.status.idle": "2021-12-08T14:44:32.449578Z",
     "shell.execute_reply": "2021-12-08T14:44:32.450055Z",
     "shell.execute_reply.started": "2021-12-08T11:12:46.139379Z"
    },
    "papermill": {
     "duration": 0.253889,
     "end_time": "2021-12-08T14:44:32.450239",
     "exception": false,
     "start_time": "2021-12-08T14:44:32.196350",
     "status": "completed"
    },
    "tags": []
   },
   "outputs": [],
   "source": [
    "from sklearn.model_selection import train_test_split,GridSearchCV,RandomizedSearchCV,StratifiedKFold\n",
    "from sklearn.pipeline import Pipeline\n",
    "from sklearn.impute import SimpleImputer\n",
    "from sklearn.preprocessing import RobustScaler,PolynomialFeatures,PowerTransformer,OneHotEncoder\n",
    "from sklearn.compose import ColumnTransformer"
   ]
  },
  {
   "cell_type": "code",
   "execution_count": 70,
   "id": "bf905531",
   "metadata": {
    "execution": {
     "iopub.execute_input": "2021-12-08T14:44:33.137248Z",
     "iopub.status.busy": "2021-12-08T14:44:33.136591Z",
     "iopub.status.idle": "2021-12-08T14:44:33.139205Z",
     "shell.execute_reply": "2021-12-08T14:44:33.139748Z",
     "shell.execute_reply.started": "2021-12-08T11:12:48.293290Z"
    },
    "papermill": {
     "duration": 0.178977,
     "end_time": "2021-12-08T14:44:33.139915",
     "exception": false,
     "start_time": "2021-12-08T14:44:32.960938",
     "status": "completed"
    },
    "tags": []
   },
   "outputs": [],
   "source": [
    "#把X和Y值標籤化且分割 20:80比例\n",
    "x = df.drop(columns='target')\n",
    "y = df['target']"
   ]
  },
  {
   "cell_type": "code",
   "execution_count": 71,
   "id": "5935a2d5",
   "metadata": {
    "execution": {
     "iopub.execute_input": "2021-12-08T14:44:33.483573Z",
     "iopub.status.busy": "2021-12-08T14:44:33.482848Z",
     "iopub.status.idle": "2021-12-08T14:44:33.504716Z",
     "shell.execute_reply": "2021-12-08T14:44:33.505198Z",
     "shell.execute_reply.started": "2021-12-08T11:13:04.675379Z"
    },
    "papermill": {
     "duration": 0.193988,
     "end_time": "2021-12-08T14:44:33.505407",
     "exception": false,
     "start_time": "2021-12-08T14:44:33.311419",
     "status": "completed"
    },
    "tags": []
   },
   "outputs": [],
   "source": [
    "x_train,x_test,y_train,y_test = train_test_split(x,y,train_size=.80,stratify=y,random_state=42)"
   ]
  },
  {
   "cell_type": "code",
   "execution_count": 72,
   "id": "548fab5b",
   "metadata": {
    "execution": {
     "iopub.execute_input": "2021-12-08T14:44:34.199585Z",
     "iopub.status.busy": "2021-12-08T14:44:34.198520Z",
     "iopub.status.idle": "2021-12-08T14:44:34.268784Z",
     "shell.execute_reply": "2021-12-08T14:44:34.269561Z",
     "shell.execute_reply.started": "2021-12-08T11:13:06.894036Z"
    },
    "papermill": {
     "duration": 0.248353,
     "end_time": "2021-12-08T14:44:34.269774",
     "exception": false,
     "start_time": "2021-12-08T14:44:34.021421",
     "status": "completed"
    },
    "tags": []
   },
   "outputs": [],
   "source": [
    "#使用機器學習分類器分析\n",
    "from sklearn.svm import SVC\n",
    "from sklearn.linear_model import LogisticRegression\n",
    "from sklearn.ensemble import RandomForestClassifier\n",
    "from sklearn.ensemble import GradientBoostingClassifier\n",
    "\n",
    "from sklearn.preprocessing import StandardScaler, RobustScaler\n",
    "\n",
    "from sklearn.model_selection import train_test_split, StratifiedKFold, GridSearchCV, cross_val_score\n",
    "from sklearn.metrics import accuracy_score, recall_score, precision_score, f1_score, confusion_matrix, classification_report, roc_curve,roc_auc_score\n",
    "from sklearn.preprocessing import OrdinalEncoder, OneHotEncoder, LabelEncoder"
   ]
  },
  {
   "cell_type": "code",
   "execution_count": 73,
   "id": "6f9b0fd4",
   "metadata": {
    "execution": {
     "iopub.execute_input": "2021-12-08T14:44:34.619873Z",
     "iopub.status.busy": "2021-12-08T14:44:34.619126Z",
     "iopub.status.idle": "2021-12-08T14:44:34.629355Z",
     "shell.execute_reply": "2021-12-08T14:44:34.629886Z",
     "shell.execute_reply.started": "2021-12-08T11:13:08.441675Z"
    },
    "papermill": {
     "duration": 0.181966,
     "end_time": "2021-12-08T14:44:34.630064",
     "exception": false,
     "start_time": "2021-12-08T14:44:34.448098",
     "status": "completed"
    },
    "tags": []
   },
   "outputs": [],
   "source": [
    "def log_evaluation(data_sample_train,data_sample_test, aktual_train,aktual_test, model):\n",
    "    hasil_model_train = model.predict(data_sample_train)\n",
    "    accuracy_train = accuracy_score(aktual_train, hasil_model_train)\n",
    "    recall_train = recall_score(aktual_train, hasil_model_train)\n",
    "    precision_train = precision_score(aktual_train, hasil_model_train)\n",
    "    f1_train = f1_score(aktual_train, hasil_model_train)\n",
    "    rocauc_train = roc_auc_score(aktual_train,hasil_model_train)\n",
    "\n",
    "    hasil_model_test = model.predict(data_sample_test)\n",
    "    accuracy_test = accuracy_score(aktual_test, hasil_model_test)\n",
    "    recall_test = recall_score(aktual_test, hasil_model_test)\n",
    "    precision_test = precision_score(aktual_test, hasil_model_test)\n",
    "    f1_test = f1_score(aktual_test, hasil_model_test)\n",
    "    rocauc_test = roc_auc_score(aktual_test,hasil_model_test)\n",
    "    \n",
    "    cm = confusion_matrix(aktual_test, hasil_model_test, labels=[1,0])\n",
    "    df_cm = pd.DataFrame(cm, index = [\"akt1\", \"akt0\"],columns=[\"pred 1\" , \"pred 0\"])\n",
    "    cr = classification_report(aktual_test, hasil_model_test)\n",
    "\n",
    "\n",
    "    hasil_evaluation = pd.DataFrame(data= {\"Training\" : [accuracy_train, recall_train, precision_train,f1_train,rocauc_train],\"Testing\" : [accuracy_test, recall_test, precision_test,f1_test,rocauc_test]}, index=[\"accuracy\", \"recall\" , \"precission\", \"F1 Score\", \"ROCAUC\"] )\n",
    "\n",
    "    return hasil_model_train, hasil_model_test, hasil_evaluation, df_cm, cr"
   ]
  },
  {
   "cell_type": "code",
   "execution_count": 74,
   "id": "c100b12b",
   "metadata": {
    "execution": {
     "iopub.execute_input": "2021-12-08T14:44:34.973796Z",
     "iopub.status.busy": "2021-12-08T14:44:34.973169Z",
     "iopub.status.idle": "2021-12-08T14:44:34.986422Z",
     "shell.execute_reply": "2021-12-08T14:44:34.986932Z",
     "shell.execute_reply.started": "2021-12-08T11:13:10.347081Z"
    },
    "papermill": {
     "duration": 0.185246,
     "end_time": "2021-12-08T14:44:34.987100",
     "exception": false,
     "start_time": "2021-12-08T14:44:34.801854",
     "status": "completed"
    },
    "tags": []
   },
   "outputs": [
    {
     "data": {
      "text/html": [
       "<div>\n",
       "<style scoped>\n",
       "    .dataframe tbody tr th:only-of-type {\n",
       "        vertical-align: middle;\n",
       "    }\n",
       "\n",
       "    .dataframe tbody tr th {\n",
       "        vertical-align: top;\n",
       "    }\n",
       "\n",
       "    .dataframe thead th {\n",
       "        text-align: right;\n",
       "    }\n",
       "</style>\n",
       "<table border=\"1\" class=\"dataframe\">\n",
       "  <thead>\n",
       "    <tr style=\"text-align: right;\">\n",
       "      <th></th>\n",
       "      <th>city</th>\n",
       "      <th>city_development_index</th>\n",
       "      <th>relevent_experience</th>\n",
       "      <th>enrolled_university</th>\n",
       "      <th>education_level</th>\n",
       "      <th>experience</th>\n",
       "      <th>company_size</th>\n",
       "      <th>company_type</th>\n",
       "      <th>last_new_job</th>\n",
       "      <th>training_hours</th>\n",
       "    </tr>\n",
       "  </thead>\n",
       "  <tbody>\n",
       "    <tr>\n",
       "      <th>0</th>\n",
       "      <td>103</td>\n",
       "      <td>0.920</td>\n",
       "      <td>1</td>\n",
       "      <td>no_enrollment</td>\n",
       "      <td>Graduate</td>\n",
       "      <td>21</td>\n",
       "      <td>3</td>\n",
       "      <td>Pvt Ltd</td>\n",
       "      <td>1</td>\n",
       "      <td>36</td>\n",
       "    </tr>\n",
       "    <tr>\n",
       "      <th>1</th>\n",
       "      <td>40</td>\n",
       "      <td>0.776</td>\n",
       "      <td>0</td>\n",
       "      <td>no_enrollment</td>\n",
       "      <td>Graduate</td>\n",
       "      <td>15</td>\n",
       "      <td>3</td>\n",
       "      <td>Pvt Ltd</td>\n",
       "      <td>&gt;4</td>\n",
       "      <td>47</td>\n",
       "    </tr>\n",
       "    <tr>\n",
       "      <th>2</th>\n",
       "      <td>21</td>\n",
       "      <td>0.624</td>\n",
       "      <td>0</td>\n",
       "      <td>Full time course</td>\n",
       "      <td>Graduate</td>\n",
       "      <td>5</td>\n",
       "      <td>3</td>\n",
       "      <td>Pvt Ltd</td>\n",
       "      <td>never</td>\n",
       "      <td>83</td>\n",
       "    </tr>\n",
       "    <tr>\n",
       "      <th>3</th>\n",
       "      <td>115</td>\n",
       "      <td>0.789</td>\n",
       "      <td>0</td>\n",
       "      <td>no_enrollment</td>\n",
       "      <td>Graduate</td>\n",
       "      <td>0</td>\n",
       "      <td>3</td>\n",
       "      <td>Pvt Ltd</td>\n",
       "      <td>never</td>\n",
       "      <td>52</td>\n",
       "    </tr>\n",
       "    <tr>\n",
       "      <th>4</th>\n",
       "      <td>162</td>\n",
       "      <td>0.767</td>\n",
       "      <td>1</td>\n",
       "      <td>no_enrollment</td>\n",
       "      <td>Masters</td>\n",
       "      <td>21</td>\n",
       "      <td>3</td>\n",
       "      <td>Funded Startup</td>\n",
       "      <td>4</td>\n",
       "      <td>8</td>\n",
       "    </tr>\n",
       "  </tbody>\n",
       "</table>\n",
       "</div>"
      ],
      "text/plain": [
       "   city  city_development_index  relevent_experience enrolled_university  \\\n",
       "0   103                   0.920                    1       no_enrollment   \n",
       "1    40                   0.776                    0       no_enrollment   \n",
       "2    21                   0.624                    0    Full time course   \n",
       "3   115                   0.789                    0       no_enrollment   \n",
       "4   162                   0.767                    1       no_enrollment   \n",
       "\n",
       "  education_level  experience  company_size    company_type last_new_job  \\\n",
       "0        Graduate          21             3         Pvt Ltd            1   \n",
       "1        Graduate          15             3         Pvt Ltd           >4   \n",
       "2        Graduate           5             3         Pvt Ltd        never   \n",
       "3        Graduate           0             3         Pvt Ltd        never   \n",
       "4         Masters          21             3  Funded Startup            4   \n",
       "\n",
       "   training_hours  \n",
       "0              36  \n",
       "1              47  \n",
       "2              83  \n",
       "3              52  \n",
       "4               8  "
      ]
     },
     "execution_count": 74,
     "metadata": {},
     "output_type": "execute_result"
    }
   ],
   "source": [
    "x.head()"
   ]
  },
  {
   "cell_type": "code",
   "execution_count": 75,
   "id": "90ef0f22",
   "metadata": {
    "execution": {
     "iopub.execute_input": "2021-12-08T14:44:35.387391Z",
     "iopub.status.busy": "2021-12-08T14:44:35.386695Z",
     "iopub.status.idle": "2021-12-08T14:44:35.391059Z",
     "shell.execute_reply": "2021-12-08T14:44:35.390512Z",
     "shell.execute_reply.started": "2021-12-08T11:13:12.768333Z"
    },
    "papermill": {
     "duration": 0.232386,
     "end_time": "2021-12-08T14:44:35.391202",
     "exception": false,
     "start_time": "2021-12-08T14:44:35.158816",
     "status": "completed"
    },
    "tags": []
   },
   "outputs": [],
   "source": [
    "num_columns = ['city','city_development_index','relevent_experience','experience',\"company_size\",\"training_hours\"]\n",
    "\n",
    "cat_columns = [\"enrolled_university\", \"education_level\",\"company_type\",\"last_new_job\"]\n"
   ]
  },
  {
   "cell_type": "code",
   "execution_count": 76,
   "id": "483d6ad2",
   "metadata": {
    "execution": {
     "iopub.execute_input": "2021-12-08T14:44:36.418930Z",
     "iopub.status.busy": "2021-12-08T14:44:36.417983Z",
     "iopub.status.idle": "2021-12-08T14:44:36.424002Z",
     "shell.execute_reply": "2021-12-08T14:44:36.424569Z",
     "shell.execute_reply.started": "2021-12-08T11:13:14.910803Z"
    },
    "papermill": {
     "duration": 0.184963,
     "end_time": "2021-12-08T14:44:36.424741",
     "exception": false,
     "start_time": "2021-12-08T14:44:36.239778",
     "status": "completed"
    },
    "tags": []
   },
   "outputs": [],
   "source": [
    "#LOGISTIC REGRESSION \n",
    "num_pipeline = Pipeline([\n",
    "    ('imputer',SimpleImputer(strategy='mean'))\n",
    "])\n",
    "\n",
    "\n",
    "cat_pipeline = Pipeline([\n",
    "    ('encoder',OneHotEncoder())\n",
    "])\n",
    "\n",
    "\n",
    "\n",
    "preprocessor = ColumnTransformer([\n",
    "    ('numeric',num_pipeline,num_columns),\n",
    "    ('categoric1',cat_pipeline,cat_columns),\n",
    " \n",
    "])\n",
    "\n",
    "Pipe_lr = Pipeline([\n",
    "    ('prep',preprocessor),\n",
    "    ('algo',LogisticRegression(solver='liblinear'))\n",
    "\n",
    "])"
   ]
  },
  {
   "cell_type": "code",
   "execution_count": 77,
   "id": "2e082912",
   "metadata": {
    "execution": {
     "iopub.execute_input": "2021-12-08T14:44:36.771558Z",
     "iopub.status.busy": "2021-12-08T14:44:36.770861Z",
     "iopub.status.idle": "2021-12-08T14:44:36.951793Z",
     "shell.execute_reply": "2021-12-08T14:44:36.952387Z",
     "shell.execute_reply.started": "2021-12-08T11:13:16.187081Z"
    },
    "papermill": {
     "duration": 0.359702,
     "end_time": "2021-12-08T14:44:36.952578",
     "exception": false,
     "start_time": "2021-12-08T14:44:36.592876",
     "status": "completed"
    },
    "tags": []
   },
   "outputs": [
    {
     "data": {
      "text/plain": [
       "Pipeline(steps=[('prep',\n",
       "                 ColumnTransformer(transformers=[('numeric',\n",
       "                                                  Pipeline(steps=[('imputer',\n",
       "                                                                   SimpleImputer())]),\n",
       "                                                  ['city',\n",
       "                                                   'city_development_index',\n",
       "                                                   'relevent_experience',\n",
       "                                                   'experience', 'company_size',\n",
       "                                                   'training_hours']),\n",
       "                                                 ('categoric1',\n",
       "                                                  Pipeline(steps=[('encoder',\n",
       "                                                                   OneHotEncoder())]),\n",
       "                                                  ['enrolled_university',\n",
       "                                                   'education_level',\n",
       "                                                   'company_type',\n",
       "                                                   'last_new_job'])])),\n",
       "                ('algo', LogisticRegression(solver='liblinear'))])"
      ]
     },
     "execution_count": 77,
     "metadata": {},
     "output_type": "execute_result"
    }
   ],
   "source": [
    "Pipe_lr.fit(x_train,y_train)"
   ]
  },
  {
   "cell_type": "code",
   "execution_count": 78,
   "id": "aa917416",
   "metadata": {
    "execution": {
     "iopub.execute_input": "2021-12-08T14:44:37.299441Z",
     "iopub.status.busy": "2021-12-08T14:44:37.298703Z",
     "iopub.status.idle": "2021-12-08T14:44:37.511482Z",
     "shell.execute_reply": "2021-12-08T14:44:37.512425Z",
     "shell.execute_reply.started": "2021-12-08T11:13:18.828912Z"
    },
    "papermill": {
     "duration": 0.389925,
     "end_time": "2021-12-08T14:44:37.512706",
     "exception": false,
     "start_time": "2021-12-08T14:44:37.122781",
     "status": "completed"
    },
    "tags": []
   },
   "outputs": [],
   "source": [
    "lr_hasil_train, lr_hasil_test, lr_evaluation, lr_cm, lr_cr = log_evaluation(x_train, x_test, y_train, y_test, Pipe_lr)"
   ]
  },
  {
   "cell_type": "code",
   "execution_count": 79,
   "id": "c7e81093",
   "metadata": {
    "execution": {
     "iopub.execute_input": "2021-12-08T14:44:37.868432Z",
     "iopub.status.busy": "2021-12-08T14:44:37.867757Z",
     "iopub.status.idle": "2021-12-08T14:44:37.874494Z",
     "shell.execute_reply": "2021-12-08T14:44:37.875032Z",
     "shell.execute_reply.started": "2021-12-08T11:13:20.624104Z"
    },
    "papermill": {
     "duration": 0.182407,
     "end_time": "2021-12-08T14:44:37.875205",
     "exception": false,
     "start_time": "2021-12-08T14:44:37.692798",
     "status": "completed"
    },
    "tags": []
   },
   "outputs": [
    {
     "data": {
      "text/html": [
       "<div>\n",
       "<style scoped>\n",
       "    .dataframe tbody tr th:only-of-type {\n",
       "        vertical-align: middle;\n",
       "    }\n",
       "\n",
       "    .dataframe tbody tr th {\n",
       "        vertical-align: top;\n",
       "    }\n",
       "\n",
       "    .dataframe thead th {\n",
       "        text-align: right;\n",
       "    }\n",
       "</style>\n",
       "<table border=\"1\" class=\"dataframe\">\n",
       "  <thead>\n",
       "    <tr style=\"text-align: right;\">\n",
       "      <th></th>\n",
       "      <th>Training</th>\n",
       "      <th>Testing</th>\n",
       "    </tr>\n",
       "  </thead>\n",
       "  <tbody>\n",
       "    <tr>\n",
       "      <th>accuracy</th>\n",
       "      <td>0.768429</td>\n",
       "      <td>0.773931</td>\n",
       "    </tr>\n",
       "    <tr>\n",
       "      <th>recall</th>\n",
       "      <td>0.249803</td>\n",
       "      <td>0.252366</td>\n",
       "    </tr>\n",
       "    <tr>\n",
       "      <th>precission</th>\n",
       "      <td>0.583538</td>\n",
       "      <td>0.613811</td>\n",
       "    </tr>\n",
       "    <tr>\n",
       "      <th>F1 Score</th>\n",
       "      <td>0.349843</td>\n",
       "      <td>0.357675</td>\n",
       "    </tr>\n",
       "    <tr>\n",
       "      <th>ROCAUC</th>\n",
       "      <td>0.595281</td>\n",
       "      <td>0.599803</td>\n",
       "    </tr>\n",
       "  </tbody>\n",
       "</table>\n",
       "</div>"
      ],
      "text/plain": [
       "            Training   Testing\n",
       "accuracy    0.768429  0.773931\n",
       "recall      0.249803  0.252366\n",
       "precission  0.583538  0.613811\n",
       "F1 Score    0.349843  0.357675\n",
       "ROCAUC      0.595281  0.599803"
      ]
     },
     "execution_count": 79,
     "metadata": {},
     "output_type": "execute_result"
    }
   ],
   "source": [
    "lr_evaluation"
   ]
  },
  {
   "cell_type": "code",
   "execution_count": 80,
   "id": "99a07dbf",
   "metadata": {
    "execution": {
     "iopub.execute_input": "2021-12-08T14:44:38.229268Z",
     "iopub.status.busy": "2021-12-08T14:44:38.228596Z",
     "iopub.status.idle": "2021-12-08T14:44:38.231137Z",
     "shell.execute_reply": "2021-12-08T14:44:38.231635Z",
     "shell.execute_reply.started": "2021-12-08T11:13:22.717668Z"
    },
    "papermill": {
     "duration": 0.18416,
     "end_time": "2021-12-08T14:44:38.231803",
     "exception": false,
     "start_time": "2021-12-08T14:44:38.047643",
     "status": "completed"
    },
    "tags": []
   },
   "outputs": [
    {
     "data": {
      "text/html": [
       "<div>\n",
       "<style scoped>\n",
       "    .dataframe tbody tr th:only-of-type {\n",
       "        vertical-align: middle;\n",
       "    }\n",
       "\n",
       "    .dataframe tbody tr th {\n",
       "        vertical-align: top;\n",
       "    }\n",
       "\n",
       "    .dataframe thead th {\n",
       "        text-align: right;\n",
       "    }\n",
       "</style>\n",
       "<table border=\"1\" class=\"dataframe\">\n",
       "  <thead>\n",
       "    <tr style=\"text-align: right;\">\n",
       "      <th></th>\n",
       "      <th>pred 1</th>\n",
       "      <th>pred 0</th>\n",
       "    </tr>\n",
       "  </thead>\n",
       "  <tbody>\n",
       "    <tr>\n",
       "      <th>akt1</th>\n",
       "      <td>240</td>\n",
       "      <td>711</td>\n",
       "    </tr>\n",
       "    <tr>\n",
       "      <th>akt0</th>\n",
       "      <td>151</td>\n",
       "      <td>2711</td>\n",
       "    </tr>\n",
       "  </tbody>\n",
       "</table>\n",
       "</div>"
      ],
      "text/plain": [
       "      pred 1  pred 0\n",
       "akt1     240     711\n",
       "akt0     151    2711"
      ]
     },
     "execution_count": 80,
     "metadata": {},
     "output_type": "execute_result"
    }
   ],
   "source": [
    "lr_cm"
   ]
  },
  {
   "cell_type": "code",
   "execution_count": 81,
   "id": "168da346",
   "metadata": {
    "execution": {
     "iopub.execute_input": "2021-12-08T14:44:38.582775Z",
     "iopub.status.busy": "2021-12-08T14:44:38.582071Z",
     "iopub.status.idle": "2021-12-08T14:44:38.585622Z",
     "shell.execute_reply": "2021-12-08T14:44:38.586451Z",
     "shell.execute_reply.started": "2021-12-08T11:13:24.681388Z"
    },
    "papermill": {
     "duration": 0.183316,
     "end_time": "2021-12-08T14:44:38.586684",
     "exception": false,
     "start_time": "2021-12-08T14:44:38.403368",
     "status": "completed"
    },
    "tags": []
   },
   "outputs": [
    {
     "name": "stdout",
     "output_type": "stream",
     "text": [
      "              precision    recall  f1-score   support\n",
      "\n",
      "         0.0       0.79      0.95      0.86      2862\n",
      "         1.0       0.61      0.25      0.36       951\n",
      "\n",
      "    accuracy                           0.77      3813\n",
      "   macro avg       0.70      0.60      0.61      3813\n",
      "weighted avg       0.75      0.77      0.74      3813\n",
      "\n"
     ]
    }
   ],
   "source": [
    "print(lr_cr)"
   ]
  },
  {
   "cell_type": "code",
   "execution_count": 82,
   "id": "725c2423",
   "metadata": {
    "execution": {
     "iopub.execute_input": "2021-12-08T14:44:39.283374Z",
     "iopub.status.busy": "2021-12-08T14:44:39.282670Z",
     "iopub.status.idle": "2021-12-08T14:44:39.289045Z",
     "shell.execute_reply": "2021-12-08T14:44:39.289554Z",
     "shell.execute_reply.started": "2021-12-08T11:13:26.663582Z"
    },
    "papermill": {
     "duration": 0.182356,
     "end_time": "2021-12-08T14:44:39.289739",
     "exception": false,
     "start_time": "2021-12-08T14:44:39.107383",
     "status": "completed"
    },
    "tags": []
   },
   "outputs": [],
   "source": [
    "#SVM\n",
    "\n",
    "num_pipeline = Pipeline([\n",
    "    ('imputer',SimpleImputer(strategy='mean')),\n",
    "    ('scaler',RobustScaler())\n",
    "])\n",
    "\n",
    "\n",
    "cat_pipeline = Pipeline([\n",
    "    ('encoder',OneHotEncoder())\n",
    "])\n",
    "\n",
    "\n",
    "\n",
    "preprocessor = ColumnTransformer([\n",
    "    ('numeric',num_pipeline,num_columns),\n",
    "    ('categoric1',cat_pipeline,cat_columns)\n",
    "    \n",
    "])\n",
    "\n",
    "Pipe_SVC = Pipeline([\n",
    "    ('prep',preprocessor),\n",
    "    ('algo',SVC(max_iter=300,probability=True))\n",
    "\n",
    "])"
   ]
  },
  {
   "cell_type": "code",
   "execution_count": 83,
   "id": "9377b655",
   "metadata": {
    "execution": {
     "iopub.execute_input": "2021-12-08T14:44:39.637514Z",
     "iopub.status.busy": "2021-12-08T14:44:39.636790Z",
     "iopub.status.idle": "2021-12-08T14:44:43.186267Z",
     "shell.execute_reply": "2021-12-08T14:44:43.186740Z",
     "shell.execute_reply.started": "2021-12-08T11:13:28.625344Z"
    },
    "papermill": {
     "duration": 3.726519,
     "end_time": "2021-12-08T14:44:43.186934",
     "exception": false,
     "start_time": "2021-12-08T14:44:39.460415",
     "status": "completed"
    },
    "tags": []
   },
   "outputs": [
    {
     "data": {
      "text/plain": [
       "Pipeline(steps=[('prep',\n",
       "                 ColumnTransformer(transformers=[('numeric',\n",
       "                                                  Pipeline(steps=[('imputer',\n",
       "                                                                   SimpleImputer()),\n",
       "                                                                  ('scaler',\n",
       "                                                                   RobustScaler())]),\n",
       "                                                  ['city',\n",
       "                                                   'city_development_index',\n",
       "                                                   'relevent_experience',\n",
       "                                                   'experience', 'company_size',\n",
       "                                                   'training_hours']),\n",
       "                                                 ('categoric1',\n",
       "                                                  Pipeline(steps=[('encoder',\n",
       "                                                                   OneHotEncoder())]),\n",
       "                                                  ['enrolled_university',\n",
       "                                                   'education_level',\n",
       "                                                   'company_type',\n",
       "                                                   'last_new_job'])])),\n",
       "                ('algo', SVC(max_iter=300, probability=True))])"
      ]
     },
     "execution_count": 83,
     "metadata": {},
     "output_type": "execute_result"
    }
   ],
   "source": [
    "Pipe_SVC.fit(x_train,y_train)"
   ]
  },
  {
   "cell_type": "code",
   "execution_count": 84,
   "id": "c298ee77",
   "metadata": {
    "execution": {
     "iopub.execute_input": "2021-12-08T14:44:43.539068Z",
     "iopub.status.busy": "2021-12-08T14:44:43.538332Z",
     "iopub.status.idle": "2021-12-08T14:44:44.159567Z",
     "shell.execute_reply": "2021-12-08T14:44:44.160076Z",
     "shell.execute_reply.started": "2021-12-08T11:13:34.315454Z"
    },
    "papermill": {
     "duration": 0.798711,
     "end_time": "2021-12-08T14:44:44.160272",
     "exception": false,
     "start_time": "2021-12-08T14:44:43.361561",
     "status": "completed"
    },
    "tags": []
   },
   "outputs": [],
   "source": [
    "svm_hasil_train, svm_hasil_test, svm_evaluation, svm_cm, svm_cr = log_evaluation(x_train, x_test, y_train, y_test, Pipe_SVC)"
   ]
  },
  {
   "cell_type": "code",
   "execution_count": 85,
   "id": "68dc43e7",
   "metadata": {
    "execution": {
     "iopub.execute_input": "2021-12-08T14:44:44.512778Z",
     "iopub.status.busy": "2021-12-08T14:44:44.512081Z",
     "iopub.status.idle": "2021-12-08T14:44:44.520965Z",
     "shell.execute_reply": "2021-12-08T14:44:44.521536Z",
     "shell.execute_reply.started": "2021-12-08T11:13:36.768576Z"
    },
    "papermill": {
     "duration": 0.185308,
     "end_time": "2021-12-08T14:44:44.521713",
     "exception": false,
     "start_time": "2021-12-08T14:44:44.336405",
     "status": "completed"
    },
    "tags": []
   },
   "outputs": [
    {
     "data": {
      "text/html": [
       "<div>\n",
       "<style scoped>\n",
       "    .dataframe tbody tr th:only-of-type {\n",
       "        vertical-align: middle;\n",
       "    }\n",
       "\n",
       "    .dataframe tbody tr th {\n",
       "        vertical-align: top;\n",
       "    }\n",
       "\n",
       "    .dataframe thead th {\n",
       "        text-align: right;\n",
       "    }\n",
       "</style>\n",
       "<table border=\"1\" class=\"dataframe\">\n",
       "  <thead>\n",
       "    <tr style=\"text-align: right;\">\n",
       "      <th></th>\n",
       "      <th>Training</th>\n",
       "      <th>Testing</th>\n",
       "    </tr>\n",
       "  </thead>\n",
       "  <tbody>\n",
       "    <tr>\n",
       "      <th>accuracy</th>\n",
       "      <td>0.712684</td>\n",
       "      <td>0.710202</td>\n",
       "    </tr>\n",
       "    <tr>\n",
       "      <th>recall</th>\n",
       "      <td>0.443860</td>\n",
       "      <td>0.454259</td>\n",
       "    </tr>\n",
       "    <tr>\n",
       "      <th>precission</th>\n",
       "      <td>0.426909</td>\n",
       "      <td>0.424361</td>\n",
       "    </tr>\n",
       "    <tr>\n",
       "      <th>F1 Score</th>\n",
       "      <td>0.435220</td>\n",
       "      <td>0.438801</td>\n",
       "    </tr>\n",
       "    <tr>\n",
       "      <th>ROCAUC</th>\n",
       "      <td>0.622935</td>\n",
       "      <td>0.624753</td>\n",
       "    </tr>\n",
       "  </tbody>\n",
       "</table>\n",
       "</div>"
      ],
      "text/plain": [
       "            Training   Testing\n",
       "accuracy    0.712684  0.710202\n",
       "recall      0.443860  0.454259\n",
       "precission  0.426909  0.424361\n",
       "F1 Score    0.435220  0.438801\n",
       "ROCAUC      0.622935  0.624753"
      ]
     },
     "execution_count": 85,
     "metadata": {},
     "output_type": "execute_result"
    }
   ],
   "source": [
    "svm_evaluation"
   ]
  },
  {
   "cell_type": "code",
   "execution_count": 86,
   "id": "474f2799",
   "metadata": {
    "execution": {
     "iopub.execute_input": "2021-12-08T14:44:44.872759Z",
     "iopub.status.busy": "2021-12-08T14:44:44.872082Z",
     "iopub.status.idle": "2021-12-08T14:44:44.879590Z",
     "shell.execute_reply": "2021-12-08T14:44:44.880173Z",
     "shell.execute_reply.started": "2021-12-08T11:13:38.762418Z"
    },
    "papermill": {
     "duration": 0.184883,
     "end_time": "2021-12-08T14:44:44.880380",
     "exception": false,
     "start_time": "2021-12-08T14:44:44.695497",
     "status": "completed"
    },
    "tags": []
   },
   "outputs": [
    {
     "data": {
      "text/html": [
       "<div>\n",
       "<style scoped>\n",
       "    .dataframe tbody tr th:only-of-type {\n",
       "        vertical-align: middle;\n",
       "    }\n",
       "\n",
       "    .dataframe tbody tr th {\n",
       "        vertical-align: top;\n",
       "    }\n",
       "\n",
       "    .dataframe thead th {\n",
       "        text-align: right;\n",
       "    }\n",
       "</style>\n",
       "<table border=\"1\" class=\"dataframe\">\n",
       "  <thead>\n",
       "    <tr style=\"text-align: right;\">\n",
       "      <th></th>\n",
       "      <th>pred 1</th>\n",
       "      <th>pred 0</th>\n",
       "    </tr>\n",
       "  </thead>\n",
       "  <tbody>\n",
       "    <tr>\n",
       "      <th>akt1</th>\n",
       "      <td>432</td>\n",
       "      <td>519</td>\n",
       "    </tr>\n",
       "    <tr>\n",
       "      <th>akt0</th>\n",
       "      <td>586</td>\n",
       "      <td>2276</td>\n",
       "    </tr>\n",
       "  </tbody>\n",
       "</table>\n",
       "</div>"
      ],
      "text/plain": [
       "      pred 1  pred 0\n",
       "akt1     432     519\n",
       "akt0     586    2276"
      ]
     },
     "execution_count": 86,
     "metadata": {},
     "output_type": "execute_result"
    }
   ],
   "source": [
    "svm_cm"
   ]
  },
  {
   "cell_type": "code",
   "execution_count": 87,
   "id": "dfc3eb06",
   "metadata": {
    "execution": {
     "iopub.execute_input": "2021-12-08T14:44:45.253930Z",
     "iopub.status.busy": "2021-12-08T14:44:45.252760Z",
     "iopub.status.idle": "2021-12-08T14:44:45.259702Z",
     "shell.execute_reply": "2021-12-08T14:44:45.260505Z",
     "shell.execute_reply.started": "2021-12-08T11:13:40.817203Z"
    },
    "papermill": {
     "duration": 0.203953,
     "end_time": "2021-12-08T14:44:45.260751",
     "exception": false,
     "start_time": "2021-12-08T14:44:45.056798",
     "status": "completed"
    },
    "tags": []
   },
   "outputs": [
    {
     "name": "stdout",
     "output_type": "stream",
     "text": [
      "              precision    recall  f1-score   support\n",
      "\n",
      "         0.0       0.81      0.80      0.80      2862\n",
      "         1.0       0.42      0.45      0.44       951\n",
      "\n",
      "    accuracy                           0.71      3813\n",
      "   macro avg       0.62      0.62      0.62      3813\n",
      "weighted avg       0.72      0.71      0.71      3813\n",
      "\n"
     ]
    }
   ],
   "source": [
    "print(svm_cr)"
   ]
  },
  {
   "cell_type": "code",
   "execution_count": 88,
   "id": "d081444e",
   "metadata": {
    "execution": {
     "iopub.execute_input": "2021-12-08T14:44:46.009299Z",
     "iopub.status.busy": "2021-12-08T14:44:46.008193Z",
     "iopub.status.idle": "2021-12-08T14:44:46.014743Z",
     "shell.execute_reply": "2021-12-08T14:44:46.015200Z",
     "shell.execute_reply.started": "2021-12-08T11:13:42.813360Z"
    },
    "papermill": {
     "duration": 0.193982,
     "end_time": "2021-12-08T14:44:46.015438",
     "exception": false,
     "start_time": "2021-12-08T14:44:45.821456",
     "status": "completed"
    },
    "tags": []
   },
   "outputs": [],
   "source": [
    "#Random Forest\n",
    "num_pipeline = Pipeline([\n",
    "    ('imputer',SimpleImputer(strategy='mean'))\n",
    "])\n",
    "\n",
    "\n",
    "cat_pipeline = Pipeline([\n",
    "    ('encoder',OneHotEncoder())\n",
    "])\n",
    "\n",
    "\n",
    "\n",
    "preprocessor = ColumnTransformer([\n",
    "    # ('Nama Instruksi',fungsinya, data yang akan dieksekusi dengan fungsi tsb)\n",
    "    ('numeric',num_pipeline,num_columns),\n",
    "    ('categoric1',cat_pipeline,cat_columns),\n",
    "])\n",
    "\n",
    "Pipe_rf = Pipeline([\n",
    "    ('prep',preprocessor),\n",
    "    ('algo',RandomForestClassifier())\n",
    "\n",
    "])"
   ]
  },
  {
   "cell_type": "code",
   "execution_count": 89,
   "id": "cc62e57c",
   "metadata": {
    "execution": {
     "iopub.execute_input": "2021-12-08T14:44:46.383630Z",
     "iopub.status.busy": "2021-12-08T14:44:46.382894Z",
     "iopub.status.idle": "2021-12-08T14:44:48.332186Z",
     "shell.execute_reply": "2021-12-08T14:44:48.331433Z",
     "shell.execute_reply.started": "2021-12-08T11:13:44.649030Z"
    },
    "papermill": {
     "duration": 2.139184,
     "end_time": "2021-12-08T14:44:48.332415",
     "exception": false,
     "start_time": "2021-12-08T14:44:46.193231",
     "status": "completed"
    },
    "tags": []
   },
   "outputs": [
    {
     "data": {
      "text/plain": [
       "Pipeline(steps=[('prep',\n",
       "                 ColumnTransformer(transformers=[('numeric',\n",
       "                                                  Pipeline(steps=[('imputer',\n",
       "                                                                   SimpleImputer())]),\n",
       "                                                  ['city',\n",
       "                                                   'city_development_index',\n",
       "                                                   'relevent_experience',\n",
       "                                                   'experience', 'company_size',\n",
       "                                                   'training_hours']),\n",
       "                                                 ('categoric1',\n",
       "                                                  Pipeline(steps=[('encoder',\n",
       "                                                                   OneHotEncoder())]),\n",
       "                                                  ['enrolled_university',\n",
       "                                                   'education_level',\n",
       "                                                   'company_type',\n",
       "                                                   'last_new_job'])])),\n",
       "                ('algo', RandomForestClassifier())])"
      ]
     },
     "execution_count": 89,
     "metadata": {},
     "output_type": "execute_result"
    }
   ],
   "source": [
    "Pipe_rf.fit(x_train,y_train)"
   ]
  },
  {
   "cell_type": "code",
   "execution_count": 90,
   "id": "2d3edcee",
   "metadata": {
    "execution": {
     "iopub.execute_input": "2021-12-08T14:44:48.712884Z",
     "iopub.status.busy": "2021-12-08T14:44:48.712183Z",
     "iopub.status.idle": "2021-12-08T14:44:49.330840Z",
     "shell.execute_reply": "2021-12-08T14:44:49.331531Z",
     "shell.execute_reply.started": "2021-12-08T11:13:48.770777Z"
    },
    "papermill": {
     "duration": 0.81456,
     "end_time": "2021-12-08T14:44:49.331748",
     "exception": false,
     "start_time": "2021-12-08T14:44:48.517188",
     "status": "completed"
    },
    "tags": []
   },
   "outputs": [],
   "source": [
    "rf_hasil_train, rf_hasil_test, rf_evaluation, rf_cm, rf_cr = log_evaluation(x_train, x_test, y_train, y_test, Pipe_rf)"
   ]
  },
  {
   "cell_type": "code",
   "execution_count": 91,
   "id": "299581db",
   "metadata": {
    "execution": {
     "iopub.execute_input": "2021-12-08T14:44:49.709826Z",
     "iopub.status.busy": "2021-12-08T14:44:49.709145Z",
     "iopub.status.idle": "2021-12-08T14:44:49.718484Z",
     "shell.execute_reply": "2021-12-08T14:44:49.719133Z",
     "shell.execute_reply.started": "2021-12-08T11:13:50.635018Z"
    },
    "papermill": {
     "duration": 0.195522,
     "end_time": "2021-12-08T14:44:49.719365",
     "exception": false,
     "start_time": "2021-12-08T14:44:49.523843",
     "status": "completed"
    },
    "tags": []
   },
   "outputs": [
    {
     "data": {
      "text/html": [
       "<div>\n",
       "<style scoped>\n",
       "    .dataframe tbody tr th:only-of-type {\n",
       "        vertical-align: middle;\n",
       "    }\n",
       "\n",
       "    .dataframe tbody tr th {\n",
       "        vertical-align: top;\n",
       "    }\n",
       "\n",
       "    .dataframe thead th {\n",
       "        text-align: right;\n",
       "    }\n",
       "</style>\n",
       "<table border=\"1\" class=\"dataframe\">\n",
       "  <thead>\n",
       "    <tr style=\"text-align: right;\">\n",
       "      <th></th>\n",
       "      <th>Training</th>\n",
       "      <th>Testing</th>\n",
       "    </tr>\n",
       "  </thead>\n",
       "  <tbody>\n",
       "    <tr>\n",
       "      <th>accuracy</th>\n",
       "      <td>0.996918</td>\n",
       "      <td>0.770784</td>\n",
       "    </tr>\n",
       "    <tr>\n",
       "      <th>recall</th>\n",
       "      <td>0.991586</td>\n",
       "      <td>0.400631</td>\n",
       "    </tr>\n",
       "    <tr>\n",
       "      <th>precission</th>\n",
       "      <td>0.996038</td>\n",
       "      <td>0.556204</td>\n",
       "    </tr>\n",
       "    <tr>\n",
       "      <th>F1 Score</th>\n",
       "      <td>0.993807</td>\n",
       "      <td>0.465770</td>\n",
       "    </tr>\n",
       "    <tr>\n",
       "      <th>ROCAUC</th>\n",
       "      <td>0.995137</td>\n",
       "      <td>0.647206</td>\n",
       "    </tr>\n",
       "  </tbody>\n",
       "</table>\n",
       "</div>"
      ],
      "text/plain": [
       "            Training   Testing\n",
       "accuracy    0.996918  0.770784\n",
       "recall      0.991586  0.400631\n",
       "precission  0.996038  0.556204\n",
       "F1 Score    0.993807  0.465770\n",
       "ROCAUC      0.995137  0.647206"
      ]
     },
     "execution_count": 91,
     "metadata": {},
     "output_type": "execute_result"
    }
   ],
   "source": [
    "rf_evaluation"
   ]
  },
  {
   "cell_type": "code",
   "execution_count": 92,
   "id": "370cfbe4",
   "metadata": {
    "execution": {
     "iopub.execute_input": "2021-12-08T14:44:50.085055Z",
     "iopub.status.busy": "2021-12-08T14:44:50.084410Z",
     "iopub.status.idle": "2021-12-08T14:44:50.092517Z",
     "shell.execute_reply": "2021-12-08T14:44:50.093031Z",
     "shell.execute_reply.started": "2021-12-08T11:13:52.903825Z"
    },
    "papermill": {
     "duration": 0.190392,
     "end_time": "2021-12-08T14:44:50.093205",
     "exception": false,
     "start_time": "2021-12-08T14:44:49.902813",
     "status": "completed"
    },
    "tags": []
   },
   "outputs": [
    {
     "data": {
      "text/html": [
       "<div>\n",
       "<style scoped>\n",
       "    .dataframe tbody tr th:only-of-type {\n",
       "        vertical-align: middle;\n",
       "    }\n",
       "\n",
       "    .dataframe tbody tr th {\n",
       "        vertical-align: top;\n",
       "    }\n",
       "\n",
       "    .dataframe thead th {\n",
       "        text-align: right;\n",
       "    }\n",
       "</style>\n",
       "<table border=\"1\" class=\"dataframe\">\n",
       "  <thead>\n",
       "    <tr style=\"text-align: right;\">\n",
       "      <th></th>\n",
       "      <th>pred 1</th>\n",
       "      <th>pred 0</th>\n",
       "    </tr>\n",
       "  </thead>\n",
       "  <tbody>\n",
       "    <tr>\n",
       "      <th>akt1</th>\n",
       "      <td>381</td>\n",
       "      <td>570</td>\n",
       "    </tr>\n",
       "    <tr>\n",
       "      <th>akt0</th>\n",
       "      <td>304</td>\n",
       "      <td>2558</td>\n",
       "    </tr>\n",
       "  </tbody>\n",
       "</table>\n",
       "</div>"
      ],
      "text/plain": [
       "      pred 1  pred 0\n",
       "akt1     381     570\n",
       "akt0     304    2558"
      ]
     },
     "execution_count": 92,
     "metadata": {},
     "output_type": "execute_result"
    }
   ],
   "source": [
    "rf_cm"
   ]
  },
  {
   "cell_type": "code",
   "execution_count": 93,
   "id": "5567e570",
   "metadata": {
    "execution": {
     "iopub.execute_input": "2021-12-08T14:44:50.454610Z",
     "iopub.status.busy": "2021-12-08T14:44:50.453616Z",
     "iopub.status.idle": "2021-12-08T14:44:50.458115Z",
     "shell.execute_reply": "2021-12-08T14:44:50.458840Z",
     "shell.execute_reply.started": "2021-12-08T11:13:55.516999Z"
    },
    "papermill": {
     "duration": 0.188344,
     "end_time": "2021-12-08T14:44:50.459088",
     "exception": false,
     "start_time": "2021-12-08T14:44:50.270744",
     "status": "completed"
    },
    "tags": []
   },
   "outputs": [
    {
     "name": "stdout",
     "output_type": "stream",
     "text": [
      "              precision    recall  f1-score   support\n",
      "\n",
      "         0.0       0.82      0.89      0.85      2862\n",
      "         1.0       0.56      0.40      0.47       951\n",
      "\n",
      "    accuracy                           0.77      3813\n",
      "   macro avg       0.69      0.65      0.66      3813\n",
      "weighted avg       0.75      0.77      0.76      3813\n",
      "\n"
     ]
    }
   ],
   "source": [
    "print(rf_cr)"
   ]
  },
  {
   "cell_type": "code",
   "execution_count": 94,
   "id": "3b04cbea",
   "metadata": {
    "execution": {
     "iopub.execute_input": "2021-12-08T14:44:51.190809Z",
     "iopub.status.busy": "2021-12-08T14:44:51.190150Z",
     "iopub.status.idle": "2021-12-08T14:44:51.303440Z",
     "shell.execute_reply": "2021-12-08T14:44:51.302023Z",
     "shell.execute_reply.started": "2021-12-08T11:13:57.863822Z"
    },
    "papermill": {
     "duration": 0.300845,
     "end_time": "2021-12-08T14:44:51.303620",
     "exception": false,
     "start_time": "2021-12-08T14:44:51.002775",
     "status": "completed"
    },
    "tags": []
   },
   "outputs": [],
   "source": [
    "#XGBoost \n",
    "from xgboost import XGBClassifier\n",
    "import xgboost"
   ]
  },
  {
   "cell_type": "code",
   "execution_count": 95,
   "id": "e4cb0170",
   "metadata": {
    "execution": {
     "iopub.execute_input": "2021-12-08T14:44:51.671414Z",
     "iopub.status.busy": "2021-12-08T14:44:51.670696Z",
     "iopub.status.idle": "2021-12-08T14:44:51.677070Z",
     "shell.execute_reply": "2021-12-08T14:44:51.677619Z",
     "shell.execute_reply.started": "2021-12-08T11:14:01.961151Z"
    },
    "papermill": {
     "duration": 0.193098,
     "end_time": "2021-12-08T14:44:51.677794",
     "exception": false,
     "start_time": "2021-12-08T14:44:51.484696",
     "status": "completed"
    },
    "tags": []
   },
   "outputs": [],
   "source": [
    "\n",
    "num_pipeline = Pipeline([\n",
    "    ('imputer',SimpleImputer(strategy='mean'))\n",
    "])\n",
    "\n",
    "\n",
    "cat_pipeline = Pipeline([\n",
    "    ('encoder',OneHotEncoder())\n",
    "])\n",
    "\n",
    "\n",
    "\n",
    "preprocessor = ColumnTransformer([\n",
    "    # ('Nama Instruksi',fungsinya, data yang akan dieksekusi dengan fungsi tsb)\n",
    "    ('numeric',num_pipeline,num_columns),\n",
    "    ('categoric1',cat_pipeline,cat_columns),\n",
    "])\n",
    "\n",
    "Pipe_xgb = Pipeline([\n",
    "    ('prep',preprocessor),\n",
    "    ('algo',XGBClassifier(eval_metric='auc'))\n",
    "\n",
    "])"
   ]
  },
  {
   "cell_type": "code",
   "execution_count": 96,
   "id": "251f8cb3",
   "metadata": {
    "execution": {
     "iopub.execute_input": "2021-12-08T14:44:52.045545Z",
     "iopub.status.busy": "2021-12-08T14:44:52.044844Z",
     "iopub.status.idle": "2021-12-08T14:44:53.547587Z",
     "shell.execute_reply": "2021-12-08T14:44:53.546967Z",
     "shell.execute_reply.started": "2021-12-08T11:14:03.985180Z"
    },
    "papermill": {
     "duration": 1.687535,
     "end_time": "2021-12-08T14:44:53.547736",
     "exception": false,
     "start_time": "2021-12-08T14:44:51.860201",
     "status": "completed"
    },
    "tags": []
   },
   "outputs": [
    {
     "data": {
      "text/plain": [
       "Pipeline(steps=[('prep',\n",
       "                 ColumnTransformer(transformers=[('numeric',\n",
       "                                                  Pipeline(steps=[('imputer',\n",
       "                                                                   SimpleImputer())]),\n",
       "                                                  ['city',\n",
       "                                                   'city_development_index',\n",
       "                                                   'relevent_experience',\n",
       "                                                   'experience', 'company_size',\n",
       "                                                   'training_hours']),\n",
       "                                                 ('categoric1',\n",
       "                                                  Pipeline(steps=[('encoder',\n",
       "                                                                   OneHotEncoder())]),\n",
       "                                                  ['enrolled_university',\n",
       "                                                   'education_level',\n",
       "                                                   'company_type',\n",
       "                                                   'last_new_job'])]))...\n",
       "                               importance_type=None, interaction_constraints='',\n",
       "                               learning_rate=0.300000012, max_delta_step=0,\n",
       "                               max_depth=6, min_child_weight=1, missing=nan,\n",
       "                               monotone_constraints='()', n_estimators=100,\n",
       "                               n_jobs=6, num_parallel_tree=1, predictor='auto',\n",
       "                               random_state=0, reg_alpha=0, reg_lambda=1,\n",
       "                               scale_pos_weight=1, subsample=1,\n",
       "                               tree_method='exact', validate_parameters=1,\n",
       "                               verbosity=None))])"
      ]
     },
     "execution_count": 96,
     "metadata": {},
     "output_type": "execute_result"
    }
   ],
   "source": [
    "Pipe_xgb.fit(x_train,y_train )"
   ]
  },
  {
   "cell_type": "code",
   "execution_count": 97,
   "id": "078ffc39",
   "metadata": {
    "execution": {
     "iopub.execute_input": "2021-12-08T14:44:53.916444Z",
     "iopub.status.busy": "2021-12-08T14:44:53.915410Z",
     "iopub.status.idle": "2021-12-08T14:44:54.098908Z",
     "shell.execute_reply": "2021-12-08T14:44:54.098111Z",
     "shell.execute_reply.started": "2021-12-08T11:14:07.805805Z"
    },
    "papermill": {
     "duration": 0.373949,
     "end_time": "2021-12-08T14:44:54.099069",
     "exception": false,
     "start_time": "2021-12-08T14:44:53.725120",
     "status": "completed"
    },
    "tags": []
   },
   "outputs": [],
   "source": [
    "xgb_hasil_train, xgb_hasil_test, xgb_evaluation, xgb_cm, xgb_cr = log_evaluation(x_train, x_test, y_train, y_test, Pipe_xgb)"
   ]
  },
  {
   "cell_type": "code",
   "execution_count": 98,
   "id": "ecada825",
   "metadata": {
    "execution": {
     "iopub.execute_input": "2021-12-08T14:44:54.466728Z",
     "iopub.status.busy": "2021-12-08T14:44:54.465622Z",
     "iopub.status.idle": "2021-12-08T14:44:54.469684Z",
     "shell.execute_reply": "2021-12-08T14:44:54.470207Z",
     "shell.execute_reply.started": "2021-12-08T11:14:10.052432Z"
    },
    "papermill": {
     "duration": 0.19084,
     "end_time": "2021-12-08T14:44:54.470424",
     "exception": false,
     "start_time": "2021-12-08T14:44:54.279584",
     "status": "completed"
    },
    "tags": []
   },
   "outputs": [
    {
     "data": {
      "text/html": [
       "<div>\n",
       "<style scoped>\n",
       "    .dataframe tbody tr th:only-of-type {\n",
       "        vertical-align: middle;\n",
       "    }\n",
       "\n",
       "    .dataframe tbody tr th {\n",
       "        vertical-align: top;\n",
       "    }\n",
       "\n",
       "    .dataframe thead th {\n",
       "        text-align: right;\n",
       "    }\n",
       "</style>\n",
       "<table border=\"1\" class=\"dataframe\">\n",
       "  <thead>\n",
       "    <tr style=\"text-align: right;\">\n",
       "      <th></th>\n",
       "      <th>Training</th>\n",
       "      <th>Testing</th>\n",
       "    </tr>\n",
       "  </thead>\n",
       "  <tbody>\n",
       "    <tr>\n",
       "      <th>accuracy</th>\n",
       "      <td>0.864769</td>\n",
       "      <td>0.773931</td>\n",
       "    </tr>\n",
       "    <tr>\n",
       "      <th>recall</th>\n",
       "      <td>0.626874</td>\n",
       "      <td>0.411146</td>\n",
       "    </tr>\n",
       "    <tr>\n",
       "      <th>precission</th>\n",
       "      <td>0.787578</td>\n",
       "      <td>0.564214</td>\n",
       "    </tr>\n",
       "    <tr>\n",
       "      <th>F1 Score</th>\n",
       "      <td>0.698097</td>\n",
       "      <td>0.475669</td>\n",
       "    </tr>\n",
       "    <tr>\n",
       "      <th>ROCAUC</th>\n",
       "      <td>0.785346</td>\n",
       "      <td>0.652813</td>\n",
       "    </tr>\n",
       "  </tbody>\n",
       "</table>\n",
       "</div>"
      ],
      "text/plain": [
       "            Training   Testing\n",
       "accuracy    0.864769  0.773931\n",
       "recall      0.626874  0.411146\n",
       "precission  0.787578  0.564214\n",
       "F1 Score    0.698097  0.475669\n",
       "ROCAUC      0.785346  0.652813"
      ]
     },
     "execution_count": 98,
     "metadata": {},
     "output_type": "execute_result"
    }
   ],
   "source": [
    "xgb_evaluation"
   ]
  },
  {
   "cell_type": "code",
   "execution_count": 99,
   "id": "6becb5aa",
   "metadata": {
    "execution": {
     "iopub.execute_input": "2021-12-08T14:44:54.833712Z",
     "iopub.status.busy": "2021-12-08T14:44:54.832540Z",
     "iopub.status.idle": "2021-12-08T14:44:54.842114Z",
     "shell.execute_reply": "2021-12-08T14:44:54.842762Z",
     "shell.execute_reply.started": "2021-12-08T11:14:12.287301Z"
    },
    "papermill": {
     "duration": 0.194866,
     "end_time": "2021-12-08T14:44:54.842956",
     "exception": false,
     "start_time": "2021-12-08T14:44:54.648090",
     "status": "completed"
    },
    "tags": []
   },
   "outputs": [
    {
     "data": {
      "text/html": [
       "<div>\n",
       "<style scoped>\n",
       "    .dataframe tbody tr th:only-of-type {\n",
       "        vertical-align: middle;\n",
       "    }\n",
       "\n",
       "    .dataframe tbody tr th {\n",
       "        vertical-align: top;\n",
       "    }\n",
       "\n",
       "    .dataframe thead th {\n",
       "        text-align: right;\n",
       "    }\n",
       "</style>\n",
       "<table border=\"1\" class=\"dataframe\">\n",
       "  <thead>\n",
       "    <tr style=\"text-align: right;\">\n",
       "      <th></th>\n",
       "      <th>pred 1</th>\n",
       "      <th>pred 0</th>\n",
       "    </tr>\n",
       "  </thead>\n",
       "  <tbody>\n",
       "    <tr>\n",
       "      <th>akt1</th>\n",
       "      <td>391</td>\n",
       "      <td>560</td>\n",
       "    </tr>\n",
       "    <tr>\n",
       "      <th>akt0</th>\n",
       "      <td>302</td>\n",
       "      <td>2560</td>\n",
       "    </tr>\n",
       "  </tbody>\n",
       "</table>\n",
       "</div>"
      ],
      "text/plain": [
       "      pred 1  pred 0\n",
       "akt1     391     560\n",
       "akt0     302    2560"
      ]
     },
     "execution_count": 99,
     "metadata": {},
     "output_type": "execute_result"
    }
   ],
   "source": [
    "xgb_cm"
   ]
  },
  {
   "cell_type": "code",
   "execution_count": 100,
   "id": "e3ac2ac2",
   "metadata": {
    "execution": {
     "iopub.execute_input": "2021-12-08T14:44:55.243169Z",
     "iopub.status.busy": "2021-12-08T14:44:55.242320Z",
     "iopub.status.idle": "2021-12-08T14:44:55.246731Z",
     "shell.execute_reply": "2021-12-08T14:44:55.246000Z",
     "shell.execute_reply.started": "2021-12-08T11:14:14.340952Z"
    },
    "papermill": {
     "duration": 0.21905,
     "end_time": "2021-12-08T14:44:55.246902",
     "exception": false,
     "start_time": "2021-12-08T14:44:55.027852",
     "status": "completed"
    },
    "tags": []
   },
   "outputs": [
    {
     "name": "stdout",
     "output_type": "stream",
     "text": [
      "              precision    recall  f1-score   support\n",
      "\n",
      "         0.0       0.82      0.89      0.86      2862\n",
      "         1.0       0.56      0.41      0.48       951\n",
      "\n",
      "    accuracy                           0.77      3813\n",
      "   macro avg       0.69      0.65      0.67      3813\n",
      "weighted avg       0.76      0.77      0.76      3813\n",
      "\n"
     ]
    }
   ],
   "source": [
    "print(xgb_cr)"
   ]
  },
  {
   "cell_type": "code",
   "execution_count": 101,
   "id": "12543087",
   "metadata": {
    "execution": {
     "iopub.execute_input": "2021-12-08T14:44:55.633181Z",
     "iopub.status.busy": "2021-12-08T14:44:55.632384Z",
     "iopub.status.idle": "2021-12-08T14:44:55.639361Z",
     "shell.execute_reply": "2021-12-08T14:44:55.640194Z",
     "shell.execute_reply.started": "2021-12-08T11:14:16.403373Z"
    },
    "papermill": {
     "duration": 0.193949,
     "end_time": "2021-12-08T14:44:55.640452",
     "exception": false,
     "start_time": "2021-12-08T14:44:55.446503",
     "status": "completed"
    },
    "tags": []
   },
   "outputs": [
    {
     "name": "stdout",
     "output_type": "stream",
     "text": [
      "              precision    recall  f1-score   support\n",
      "\n",
      "         0.0       0.81      0.80      0.80      2862\n",
      "         1.0       0.42      0.45      0.44       951\n",
      "\n",
      "    accuracy                           0.71      3813\n",
      "   macro avg       0.62      0.62      0.62      3813\n",
      "weighted avg       0.72      0.71      0.71      3813\n",
      "\n"
     ]
    }
   ],
   "source": [
    "print(svm_cr)"
   ]
  },
  {
   "cell_type": "markdown",
   "id": "c6cb0e7a",
   "metadata": {
    "papermill": {
     "duration": 0.192217,
     "end_time": "2021-12-08T14:44:56.023910",
     "exception": false,
     "start_time": "2021-12-08T14:44:55.831693",
     "status": "completed"
    },
    "tags": []
   },
   "source": [
    "兩個最佳結果建模是SVM和 XG Boost"
   ]
  }
 ],
 "metadata": {
  "kernelspec": {
   "display_name": "Python 3",
   "language": "python",
   "name": "python3"
  },
  "language_info": {
   "codemirror_mode": {
    "name": "ipython",
    "version": 3
   },
   "file_extension": ".py",
   "mimetype": "text/x-python",
   "name": "python",
   "nbconvert_exporter": "python",
   "pygments_lexer": "ipython3",
   "version": "3.8.8"
  },
  "papermill": {
   "default_parameters": {},
   "duration": 3887.736305,
   "end_time": "2021-12-08T15:48:18.305279",
   "environment_variables": {},
   "exception": null,
   "input_path": "__notebook__.ipynb",
   "output_path": "__notebook__.ipynb",
   "parameters": {},
   "start_time": "2021-12-08T14:43:30.568974",
   "version": "2.3.3"
  }
 },
 "nbformat": 4,
 "nbformat_minor": 5
}
